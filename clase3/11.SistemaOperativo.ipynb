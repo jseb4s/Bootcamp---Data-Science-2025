{
 "cells": [
  {
   "cell_type": "markdown",
   "metadata": {},
   "source": [
    "# Librerías del Sistema Operativo en Python\n",
    "\n",
    "En este notebook exploraremos varias librerías de Python que permiten interactuar con el sistema operativo. Veremos cómo podemos trabajar con archivos, directorios, rutas, procesos y más.\n",
    "\n",
    "## 1. `os`: Interacción con el Sistema Operativo\n",
    "\n",
    "La librería `os` permite realizar muchas operaciones de interacción con el sistema operativo, como la creación de directorios, el cambio de nombre de archivos, la obtención de información del sistema y mucho más.\n",
    "\n",
    "### Ejemplo: Operaciones básicas con `os`"
   ]
  },
  {
   "cell_type": "code",
   "execution_count": 1,
   "metadata": {},
   "outputs": [
    {
     "name": "stdout",
     "output_type": "stream",
     "text": [
      "Directorio actual: c:\\Users\\jmoncada43\\Cementos Argos S.A\\Summa BI - Analítica de talento\\03. Analitica\\Curso python finanzas\n"
     ]
    }
   ],
   "source": [
    "import os\n",
    "\n",
    "# Obtener el directorio actual de trabajo\n",
    "current_directory = os.getcwd()\n",
    "print(f\"Directorio actual: {current_directory}\")"
   ]
  },
  {
   "cell_type": "code",
   "execution_count": 2,
   "metadata": {},
   "outputs": [],
   "source": [
    "# Crear un nuevo directorio\n",
    "os.mkdir('nuevo_directorio')"
   ]
  },
  {
   "cell_type": "code",
   "execution_count": 3,
   "metadata": {},
   "outputs": [],
   "source": [
    "# Cambiar el nombre de un archivo o directorio\n",
    "os.rename('nuevo_directorio', 'directorio_renombrado')"
   ]
  },
  {
   "cell_type": "code",
   "execution_count": 4,
   "metadata": {},
   "outputs": [],
   "source": [
    "# Eliminar un directorio\n",
    "os.rmdir('directorio_renombrado')"
   ]
  },
  {
   "cell_type": "code",
   "execution_count": 5,
   "metadata": {},
   "outputs": [
    {
     "name": "stdout",
     "output_type": "stream",
     "text": [
      "Archivos en el directorio actual: ['1.Introduccion.ipynb', '10.SistemaOperativoipynb.ipynb', '2.DataTypes.ipynb', '3.1.Variables.ipynb', '3.2.Strings.ipynb', '4.1.Listas.ipynb', '4.2.Tuplas.ipynb', '4.3.Diccionarios.ipynb', '4.4.Conjuntos.ipynb', '4.OperadoresComparacion.ipynb', '5.0 Loops  6.0 Condicionales.ipynb', '6.Condicionales.ipynb', '7.Loops.ipynb', '8.Funciones.ipynb', '9.TratamientoErrores.ipynb', 'Pénsum - Python aplicado a finanzas.xlsx']\n"
     ]
    }
   ],
   "source": [
    "# Listar archivos en el directorio actual\n",
    "archivos = os.listdir()\n",
    "print(f\"Archivos en el directorio actual: {archivos}\")"
   ]
  },
  {
   "cell_type": "markdown",
   "metadata": {},
   "source": [
    "### Otras funcionalidades útiles de `os`:\n",
    "- `os.path`: Submódulo para manipular rutas de archivos.\n",
    "- `os.environ`: Acceso a las variables de entorno del sistema.\n",
    "- `os.system()`: Ejecutar comandos del sistema desde Python."
   ]
  },
  {
   "cell_type": "markdown",
   "metadata": {},
   "source": [
    "## 4. `pathlib`: Manejo Moderno de Rutas de Archivos\n",
    "`pathlib` ofrece una manera más moderna y orientada a objetos para manipular rutas de archivos. A diferencia de `os.path`, es más legible y potente.\n",
    "\n",
    "### Ejemplo: Uso de `pathlib` para crear y manipular archivos"
   ]
  },
  {
   "cell_type": "code",
   "execution_count": 17,
   "metadata": {},
   "outputs": [],
   "source": [
    "from pathlib import Path\n",
    "\n",
    "# Crear una ruta\n",
    "p = Path('mi_directorio/nuevo_archivo.txt')"
   ]
  },
  {
   "cell_type": "code",
   "execution_count": 18,
   "metadata": {},
   "outputs": [],
   "source": [
    "# Crear un directorio\n",
    "p.parent.mkdir(parents=True, exist_ok=True)\n"
   ]
  },
  {
   "cell_type": "code",
   "execution_count": 19,
   "metadata": {},
   "outputs": [
    {
     "data": {
      "text/plain": [
       "37"
      ]
     },
     "execution_count": 19,
     "metadata": {},
     "output_type": "execute_result"
    }
   ],
   "source": [
    "# Escribir en el archivo\n",
    "p.write_text(\"Hola, este es un ejemplo con pathlib.\")"
   ]
  },
  {
   "cell_type": "code",
   "execution_count": 23,
   "metadata": {},
   "outputs": [
    {
     "data": {
      "text/plain": [
       "37"
      ]
     },
     "execution_count": 23,
     "metadata": {},
     "output_type": "execute_result"
    }
   ],
   "source": [
    "len(\"Hola, este es un ejemplo con pathlib.\")"
   ]
  },
  {
   "cell_type": "code",
   "execution_count": 20,
   "metadata": {},
   "outputs": [
    {
     "name": "stdout",
     "output_type": "stream",
     "text": [
      "Hola, este es un ejemplo con pathlib.\n"
     ]
    }
   ],
   "source": [
    "# Leer el archivo\n",
    "print(p.read_text())"
   ]
  },
  {
   "cell_type": "markdown",
   "metadata": {},
   "source": [
    "### Funciones útiles de `pathlib`:\n",
    "- `Path.exists()`: Verificar si una ruta existe.\n",
    "- `Path.is_file()`: Verificar si la ruta es un archivo.\n",
    "- `Path.is_dir()`: Verificar si la ruta es un directorio.\n",
    "- `Path.unlink()`: Eliminar un archivo."
   ]
  },
  {
   "cell_type": "markdown",
   "metadata": {},
   "source": [
    "## 6. `datetime`: Manejo de Fechas y Tiempos\n",
    "La librería `datetime` permite trabajar de manera eficiente con fechas y tiempos en Python, lo que es especialmente útil cuando necesitas realizar operaciones basadas en tiempo.\n",
    "\n",
    "### Ejemplo: Obtener y formatear la fecha actual"
   ]
  },
  {
   "cell_type": "code",
   "execution_count": 21,
   "metadata": {},
   "outputs": [
    {
     "name": "stdout",
     "output_type": "stream",
     "text": [
      "Fecha y hora actual: 2024-10-09 10:24:13.991924\n"
     ]
    }
   ],
   "source": [
    "from datetime import datetime\n",
    "\n",
    "# Obtener la fecha y hora actual\n",
    "now = datetime.now()\n",
    "print(f\"Fecha y hora actual: {now}\")"
   ]
  },
  {
   "cell_type": "code",
   "execution_count": 22,
   "metadata": {},
   "outputs": [
    {
     "name": "stdout",
     "output_type": "stream",
     "text": [
      "Fecha formateada: 2024-10-09 10:24:13\n"
     ]
    }
   ],
   "source": [
    "# Formatear la fecha\n",
    "formatted_date = now.strftime(\"%Y-%m-%d %H:%M:%S\")\n",
    "print(f\"Fecha formateada: {formatted_date}\")"
   ]
  },
  {
   "cell_type": "markdown",
   "metadata": {},
   "source": [
    "### Funciones útiles de `datetime`:\n",
    "\n",
    "- `datetime.now()`: Obtener la fecha y hora actual.\n",
    "- `datetime.strptime()`: Convertir una cadena en un objeto datetime.\n",
    "- `timedelta`: Realizar operaciones aritméticas con fechas."
   ]
  }
 ],
 "metadata": {
  "kernelspec": {
   "display_name": "Python 3",
   "language": "python",
   "name": "python3"
  },
  "language_info": {
   "codemirror_mode": {
    "name": "ipython",
    "version": 3
   },
   "file_extension": ".py",
   "mimetype": "text/x-python",
   "name": "python",
   "nbconvert_exporter": "python",
   "pygments_lexer": "ipython3",
   "version": "3.12.1"
  }
 },
 "nbformat": 4,
 "nbformat_minor": 2
}
