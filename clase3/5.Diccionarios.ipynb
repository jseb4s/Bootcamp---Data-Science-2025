{
  "cells": [
    {
      "cell_type": "markdown",
      "metadata": {},
      "source": [
        "# Diccionarios"
      ]
    },
    {
      "cell_type": "markdown",
      "metadata": {},
      "source": [
        "## ¿Qué son los diccionarios?"
      ]
    },
    {
      "cell_type": "markdown",
      "metadata": {},
      "source": [
        "Un diccionario consta de claves y valores. Resulta útil comparar un diccionario con una lista. En lugar de estar indexados numéricamente como una lista, los diccionarios tienen claves. Estas claves son las que se utilizan para acceder a los valores dentro de un diccionario.   \n",
        "\n",
        "\n",
        "El mejor ejemplo de un diccionario puede ser acceder a los datos de una persona utilizando el **número de identificación nacional**.   \n",
        "Aquí el número de la seguridad social, que es un número único, será la **clave** y los datos de las personas serán los **valores** asociados a él.\n"
      ]
    },
    {
      "cell_type": "markdown",
      "metadata": {},
      "source": [
        "<img src=\"https://cf-courses-data.s3.us.cloud-object-storage.appdomain.cloud/IBMDeveloperSkillsNetwork-PY0101EN-SkillsNetwork/labs/Module%202/images/DictsList.png\" width=\"650\">\n"
      ]
    },
    {
      "cell_type": "markdown",
      "metadata": {},
      "source": [
        "### Crear un diccionario y acceder a los elementos\n"
      ]
    },
    {
      "cell_type": "markdown",
      "metadata": {},
      "source": [
        "Un ejemplo de diccionario <code>Dict</code>:\n",
        "\n",
        "A continuación, creamos el diccionario llamado **Dict** con los siguientes detalles:\n",
        "\n",
        "* Las claves son **key1, key2, key3, key4, key5**.\n",
        "* Los valores correspondientes a las claves son: {1, 2, [3,3,3], (4,4,4), 5}\n"
      ]
    },
    {
      "cell_type": "code",
      "execution_count": 2,
      "metadata": {},
      "outputs": [
        {
          "data": {
            "text/plain": [
              "{'key1': 1, 'key2': '2', 'key3': [3, 3, 3], 'key4': (4, 4, 4), 'key5': 5}"
            ]
          },
          "execution_count": 2,
          "metadata": {},
          "output_type": "execute_result"
        }
      ],
      "source": [
        "Dict = {\"key1\": 1, \"key2\": \"2\", \"key3\": [3, 3, 3], \"key4\": (4, 4, 4), ('key5'): 5}\n",
        "Dict"
      ]
    },
    {
      "cell_type": "markdown",
      "metadata": {},
      "source": [
        "Cada clave está separada de su valor por dos puntos \"<code>:</code>\".  Las comas separan los elementos y el diccionario completo se escribe entre llaves. Un diccionario vacío, sin ningún elemento, se escribe con sólo dos llaves, de la siguiente manera  \"<code>{}</code>\".\n"
      ]
    },
    {
      "cell_type": "code",
      "execution_count": 6,
      "metadata": {},
      "outputs": [
        {
          "data": {
            "text/plain": [
              "{'Thriller': '1982',\n",
              " 'Back in Black': '1980',\n",
              " 'The Dark Side of the Moon': '1973',\n",
              " 'The Bodyguard': '1992',\n",
              " 'Bat Out of Hell': '1977',\n",
              " 'Their Greatest Hits (1971-1975)': '1976',\n",
              " 'Saturday Night Fever': '1977',\n",
              " 'Rumours': '1977'}"
            ]
          },
          "execution_count": 6,
          "metadata": {},
          "output_type": "execute_result"
        }
      ],
      "source": [
        "release_year_dict = {\"Thriller\": \"1982\", \n",
        "                    \"Back in Black\": \"1980\",\n",
        "                    \"The Dark Side of the Moon\": \"1973\", \n",
        "                    \"The Bodyguard\": \"1992\",\n",
        "                    \"Bat Out of Hell\": \"1977\", \n",
        "                    \"Their Greatest Hits (1971-1975)\": \"1976\",\n",
        "                    \"Saturday Night Fever\": \"1977\", \n",
        "                    \"Rumours\": \"1977\"}\n",
        "release_year_dict"
      ]
    },
    {
      "cell_type": "markdown",
      "metadata": {},
      "source": [
        "En resumen, al igual que una lista, un diccionario contiene una secuencia de elementos. Cada elemento está representado por una clave y su correspondiente valor. Los diccionarios se crean con dos llaves que contienen claves y valores separados por dos puntos. Para cada clave sólo puede haber un único valor, aunque varias claves pueden contener el mismo valor. Las claves sólo pueden ser cadenas, números o tuplas, pero los valores pueden ser de cualquier tipo de datos."
      ]
    },
    {
      "cell_type": "markdown",
      "metadata": {},
      "source": [
        "Es útil visualizar el diccionario como una tabla, como en la siguiente imagen. La primera columna representa las claves, la segunda los valores."
      ]
    },
    {
      "cell_type": "markdown",
      "metadata": {},
      "source": [
        "<img src=\"https://cf-courses-data.s3.us.cloud-object-storage.appdomain.cloud/IBMDeveloperSkillsNetwork-PY0101EN-SkillsNetwork/labs/Module%202/images/DictsStructure.png\" width=\"650\">\n"
      ]
    },
    {
      "cell_type": "markdown",
      "metadata": {},
      "source": [
        "## Claves"
      ]
    },
    {
      "cell_type": "markdown",
      "metadata": {},
      "source": [
        "Podemos recuperar los valores de un diccionario de acuerdo a los nombres asignados en las claves:\n"
      ]
    },
    {
      "cell_type": "code",
      "execution_count": 7,
      "metadata": {},
      "outputs": [
        {
          "data": {
            "text/plain": [
              "'1982'"
            ]
          },
          "execution_count": 7,
          "metadata": {},
          "output_type": "execute_result"
        }
      ],
      "source": [
        "release_year_dict['Thriller'] "
      ]
    },
    {
      "cell_type": "markdown",
      "metadata": {},
      "source": [
        "Lo cuál corresponde a:\n"
      ]
    },
    {
      "cell_type": "markdown",
      "metadata": {},
      "source": [
        "<img src=\"https://cf-courses-data.s3.us.cloud-object-storage.appdomain.cloud/IBMDeveloperSkillsNetwork-PY0101EN-SkillsNetwork/labs/Module%202/images/DictsKeyOne.png\" width=\"500\">\n"
      ]
    },
    {
      "cell_type": "code",
      "execution_count": 8,
      "metadata": {},
      "outputs": [
        {
          "data": {
            "text/plain": [
              "'1992'"
            ]
          },
          "execution_count": 8,
          "metadata": {},
          "output_type": "execute_result"
        }
      ],
      "source": [
        "release_year_dict['The Bodyguard']"
      ]
    },
    {
      "cell_type": "markdown",
      "metadata": {},
      "source": [
        "<img src=\"https://cf-courses-data.s3.us.cloud-object-storage.appdomain.cloud/IBMDeveloperSkillsNetwork-PY0101EN-SkillsNetwork/labs/Module%202/images/DictsKeyTwo.png\" width=\"500\">\n"
      ]
    },
    {
      "cell_type": "markdown",
      "metadata": {},
      "source": [
        "Ahora recuperemos las claves del diccionario utilizando el método <code>keys()</code>:\n"
      ]
    },
    {
      "cell_type": "code",
      "execution_count": 9,
      "metadata": {},
      "outputs": [
        {
          "data": {
            "text/plain": [
              "dict_keys(['Thriller', 'Back in Black', 'The Dark Side of the Moon', 'The Bodyguard', 'Bat Out of Hell', 'Their Greatest Hits (1971-1975)', 'Saturday Night Fever', 'Rumours'])"
            ]
          },
          "execution_count": 9,
          "metadata": {},
          "output_type": "execute_result"
        }
      ],
      "source": [
        "release_year_dict.keys() "
      ]
    },
    {
      "cell_type": "markdown",
      "metadata": {},
      "source": [
        "Podemos recuperar los valores utilizando el método  <code>values()</code>:"
      ]
    },
    {
      "cell_type": "code",
      "execution_count": 10,
      "metadata": {},
      "outputs": [
        {
          "data": {
            "text/plain": [
              "dict_values(['1982', '1980', '1973', '1992', '1977', '1976', '1977', '1977'])"
            ]
          },
          "execution_count": 10,
          "metadata": {},
          "output_type": "execute_result"
        }
      ],
      "source": [
        "release_year_dict.values()"
      ]
    },
    {
      "cell_type": "markdown",
      "metadata": {},
      "source": [
        "Podemos agregar un nuevo elemento:"
      ]
    },
    {
      "cell_type": "code",
      "execution_count": 11,
      "metadata": {},
      "outputs": [
        {
          "data": {
            "text/plain": [
              "{'Thriller': '1982',\n",
              " 'Back in Black': '1980',\n",
              " 'The Dark Side of the Moon': '1973',\n",
              " 'The Bodyguard': '1992',\n",
              " 'Bat Out of Hell': '1977',\n",
              " 'Their Greatest Hits (1971-1975)': '1976',\n",
              " 'Saturday Night Fever': '1977',\n",
              " 'Rumours': '1977',\n",
              " 'Graduation': '2007'}"
            ]
          },
          "execution_count": 11,
          "metadata": {},
          "output_type": "execute_result"
        }
      ],
      "source": [
        "release_year_dict['Graduation'] = '2007'\n",
        "release_year_dict"
      ]
    },
    {
      "cell_type": "markdown",
      "metadata": {},
      "source": [
        "De manera similar, también es posible eliminar elementos:\n"
      ]
    },
    {
      "cell_type": "code",
      "execution_count": 12,
      "metadata": {},
      "outputs": [
        {
          "data": {
            "text/plain": [
              "{'Back in Black': '1980',\n",
              " 'The Dark Side of the Moon': '1973',\n",
              " 'The Bodyguard': '1992',\n",
              " 'Bat Out of Hell': '1977',\n",
              " 'Their Greatest Hits (1971-1975)': '1976',\n",
              " 'Saturday Night Fever': '1977',\n",
              " 'Rumours': '1977'}"
            ]
          },
          "execution_count": 12,
          "metadata": {},
          "output_type": "execute_result"
        }
      ],
      "source": [
        "del(release_year_dict['Thriller'])\n",
        "del(release_year_dict['Graduation'])\n",
        "release_year_dict"
      ]
    },
    {
      "cell_type": "markdown",
      "metadata": {},
      "source": [
        "Podemos verificar si un elemento está en el diccionario:"
      ]
    },
    {
      "cell_type": "code",
      "execution_count": 13,
      "metadata": {},
      "outputs": [
        {
          "data": {
            "text/plain": [
              "True"
            ]
          },
          "execution_count": 13,
          "metadata": {},
          "output_type": "execute_result"
        }
      ],
      "source": [
        "'The Bodyguard' in release_year_dict"
      ]
    },
    {
      "cell_type": "markdown",
      "metadata": {},
      "source": [
        "<a id=\"quiz\"></a>\n",
        "## Ejercicio\n"
      ]
    },
    {
      "cell_type": "markdown",
      "metadata": {},
      "source": [
        "Los álbumes <b>Back in Black</b>, <b>The Dark Side of the Moon</b> y <b>Thriller</b> tienen las siguientes ventas de grabaciones musicales en millones: 50, 50 y 65, respectivamente.\n"
      ]
    },
    {
      "cell_type": "markdown",
      "metadata": {},
      "source": [
        "a) Crea un diccionario <code>album_sales_dict</code> donde las claves sean el nombre del álbum, y los valores el volumen de ventas.\n"
      ]
    },
    {
      "cell_type": "code",
      "execution_count": 18,
      "metadata": {},
      "outputs": [],
      "source": [
        "album_sales_dict = {\"The Dark Side of the Moon\":50, \"Back in Black\":50, \"Thriller\":65}"
      ]
    },
    {
      "cell_type": "markdown",
      "metadata": {},
      "source": [
        "b) Utiliza el diccionario para hallar las ventas totales de <b>Thriller</b>:\n"
      ]
    },
    {
      "cell_type": "code",
      "execution_count": null,
      "metadata": {},
      "outputs": [],
      "source": [
        "album_sales_dict[\"Thriller\"]"
      ]
    },
    {
      "cell_type": "markdown",
      "metadata": {},
      "source": [
        "c) Encuentra los nombres de los álbumes del diccionario utilizando el método <code>keys()</code>:\n"
      ]
    },
    {
      "cell_type": "code",
      "execution_count": 19,
      "metadata": {},
      "outputs": [
        {
          "data": {
            "text/plain": [
              "dict_keys(['The Dark Side of the Moon', 'Back in Black', 'Thriller'])"
            ]
          },
          "execution_count": 19,
          "metadata": {},
          "output_type": "execute_result"
        }
      ],
      "source": [
        "album_sales_dict.keys()"
      ]
    },
    {
      "cell_type": "markdown",
      "metadata": {},
      "source": [
        "d) Encuentra los valores de las ventas utilizando el método <code>values</code>:"
      ]
    },
    {
      "cell_type": "code",
      "execution_count": 20,
      "metadata": {},
      "outputs": [
        {
          "data": {
            "text/plain": [
              "dict_values([50, 50, 65])"
            ]
          },
          "execution_count": 20,
          "metadata": {},
          "output_type": "execute_result"
        }
      ],
      "source": [
        "album_sales_dict.values()"
      ]
    },
    {
      "cell_type": "markdown",
      "metadata": {},
      "source": [
        "e) Agrega un nuevo álbum en el diccionario:"
      ]
    },
    {
      "cell_type": "code",
      "execution_count": 23,
      "metadata": {},
      "outputs": [
        {
          "data": {
            "text/plain": [
              "{'The Dark Side of the Moon': 50,\n",
              " 'Back in Black': 50,\n",
              " 'Thriller': 65,\n",
              " 'Nada Personal': 45}"
            ]
          },
          "execution_count": 23,
          "metadata": {},
          "output_type": "execute_result"
        }
      ],
      "source": [
        "album_sales_dict['Nada Personal'] = 45\n",
        "album_sales_dict"
      ]
    },
    {
      "cell_type": "markdown",
      "metadata": {},
      "source": [
        "f) Verifica si el álbum Thriller está dentro del diccionario"
      ]
    },
    {
      "cell_type": "code",
      "execution_count": 25,
      "metadata": {},
      "outputs": [
        {
          "data": {
            "text/plain": [
              "True"
            ]
          },
          "execution_count": 25,
          "metadata": {},
          "output_type": "execute_result"
        }
      ],
      "source": [
        "\"Thriller\" in album_sales_dict"
      ]
    },
    {
      "cell_type": "markdown",
      "metadata": {},
      "source": [
        "g) Elimina un álbum de tu elección del diccionario"
      ]
    },
    {
      "cell_type": "code",
      "execution_count": 26,
      "metadata": {},
      "outputs": [
        {
          "data": {
            "text/plain": [
              "{'The Dark Side of the Moon': 50, 'Thriller': 65, 'Nada Personal': 45}"
            ]
          },
          "execution_count": 26,
          "metadata": {},
          "output_type": "execute_result"
        }
      ],
      "source": [
        "del(album_sales_dict[\"Back in Black\"])\n",
        "album_sales_dict"
      ]
    }
  ],
  "metadata": {
    "kernelspec": {
      "display_name": "Python 3",
      "language": "python",
      "name": "python3"
    },
    "language_info": {
      "codemirror_mode": {
        "name": "ipython",
        "version": 3
      },
      "file_extension": ".py",
      "mimetype": "text/x-python",
      "name": "python",
      "nbconvert_exporter": "python",
      "pygments_lexer": "ipython3",
      "version": "3.12.1"
    },
    "prev_pub_hash": "8874e80f63b296a1988511a586322b3423251313c5ffc0d59853e64de03ba625"
  },
  "nbformat": 4,
  "nbformat_minor": 4
}
