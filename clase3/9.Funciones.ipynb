{
  "cells": [
    {
      "cell_type": "markdown",
      "metadata": {},
      "source": [
        "# Funciones\n",
        "\n",
        "### Introducción\n",
        "Una función es un bloque que encapsula acciones o cálculos específicos. Al igual que en matemáticas, donde las funciones toman entradas y producen salidas, las funciones de programación actúan de forma similar. Toman entradas, ejecutan acciones o cálculos predefinidos y devuelven una salida.\n",
        "\n",
        "\n",
        "### Objetivo de las funciones\n",
        "\n",
        "Las funciones favorecen la modularidad y la reutilización del código. Imagine que tiene una tarea que debe realizarse varias veces dentro de un programa. En lugar de duplicar el mismo código en varios lugares, puede definir una función una vez y llamarla siempre que necesite esa tarea. Esto reduce la redundancia y facilita la gestión y el mantenimiento del código.\n",
        "\n",
        "\n",
        "### Ventajas del uso de funciones\n",
        "- **Modularidad:** Las funciones descomponen las tareas complejas en componentes manejables.\n",
        "- **Reutilización:** Las funciones pueden utilizarse varias veces sin necesidad de reescribir el código.\n",
        "- **Legibilidad:** Las funciones con nombres significativos mejoran la comprensión del código\n",
        "- **Depuración:** Aislar las funciones facilita la solución de problemas y la resolución de incidencias.\n",
        "- **Abstracción:** Las funciones simplifican procesos complejos mediante una interfaz fácil de usar.\n",
        "- **Colaboración:** Los miembros del equipo pueden trabajar simultáneamente en diferentes funciones.\n",
        "- **Mantenimiento:** Los cambios realizados en una función se aplican automáticamente dondequiera que se utilice."
      ]
    },
    {
      "cell_type": "markdown",
      "metadata": {},
      "source": [
        "### Cómo las funciones reciben entradas, realizan tareas y producen salidas\n",
        "\n",
        "| **1. Entradas (parámetros)** | **2. Realización de tareas** | **3. Producción de resultados** |\n",
        "|---------------------------|---------------------------|------------------------------|\n",
        "| Las funciones operan con datos y pueden recibir datos como entrada. Estas entradas se conocen como parámetros o argumentos. Los parámetros proporcionan a las funciones la información necesaria para realizar sus tareas. Considera los parámetros como valores que pasas a una función, permitiéndole trabajar con datos específicos. | Una vez que una función recibe su entrada (parámetros), ejecuta acciones o cálculos predefinidos. Estas acciones pueden incluir cálculos, operaciones con datos o incluso tareas más complejas. El propósito de una función determina las tareas que realiza. Por ejemplo, una función puede calcular la suma de números, ordenar una lista, dar formato a un texto u obtener datos de una base de datos. | Tras realizar sus tareas, una función puede producir un resultado. Esta salida es el resultado de las operaciones realizadas dentro de la función. Es el valor que la función «devuelve» al código que la llamó. Piense en la salida como el producto final del trabajo de la función. Puedes utilizar esta salida en tu código, asignarla a variables, pasarla a otras funciones, o incluso imprimirla para mostrarla. |\n"
      ]
    },
    {
      "cell_type": "markdown",
      "metadata": {},
      "source": [
        "### Funciones incorporadas de Python\n",
        "\n",
        "Python tiene un amplio conjunto de funciones incorporadas que proporcionan una amplia gama de funcionalidades. Estas funciones están disponibles para que las utilices, y no necesitas preocuparte de cómo están implementadas internamente. En su lugar, puede centrarse en comprender lo que hace cada función y cómo utilizarla eficazmente."
      ]
    },
    {
      "cell_type": "markdown",
      "metadata": {},
      "source": [
        "### Uso de funciones incorporadas o predefinidas\n",
        "\n",
        "Para utilizar una función incorporada, basta con llamar al nombre de la función seguido de un paréntesis. Los argumentos o parámetros necesarios se introducen en la función dentro de los paréntesis. La función realiza entonces su tarea predefinida y puede devolver una salida que usted puede utilizar en su código.\n",
        "\n",
        "Algunos ejemplos de funciones incorporadas de uso común:"
      ]
    },
    {
      "cell_type": "markdown",
      "metadata": {},
      "source": [
        "<code>len()</code>: calcula la longitud de una secuencia o colección"
      ]
    },
    {
      "cell_type": "code",
      "execution_count": 1,
      "metadata": {},
      "outputs": [],
      "source": [
        "string_length = len(\"Hello, World!\")  # Output: 13\n",
        "list_length = len([1, 2, 3, 4, 5])   # Output: 5"
      ]
    },
    {
      "cell_type": "code",
      "execution_count": 2,
      "metadata": {},
      "outputs": [
        {
          "data": {
            "text/plain": [
              "13"
            ]
          },
          "execution_count": 2,
          "metadata": {},
          "output_type": "execute_result"
        }
      ],
      "source": [
        "string_length"
      ]
    },
    {
      "cell_type": "code",
      "execution_count": 3,
      "metadata": {},
      "outputs": [
        {
          "data": {
            "text/plain": [
              "5"
            ]
          },
          "execution_count": 3,
          "metadata": {},
          "output_type": "execute_result"
        }
      ],
      "source": [
        "list_length"
      ]
    },
    {
      "cell_type": "markdown",
      "metadata": {},
      "source": [
        "<code>sum()</code>: suma los elementos de un iterable (lista, tupla, etc.)"
      ]
    },
    {
      "cell_type": "code",
      "execution_count": 4,
      "metadata": {},
      "outputs": [
        {
          "data": {
            "text/plain": [
              "150"
            ]
          },
          "execution_count": 4,
          "metadata": {},
          "output_type": "execute_result"
        }
      ],
      "source": [
        "total = sum([10, 20, 30, 40, 50])\n",
        "total"
      ]
    },
    {
      "cell_type": "code",
      "execution_count": 6,
      "metadata": {},
      "outputs": [
        {
          "name": "stdout",
          "output_type": "stream",
          "text": [
            "Help on built-in function sum in module builtins:\n",
            "\n",
            "sum(iterable, /, start=0)\n",
            "    Return the sum of a 'start' value (default: 0) plus an iterable of numbers\n",
            "\n",
            "    When the iterable is empty, return the start value.\n",
            "    This function is intended specifically for use with numeric values and may\n",
            "    reject non-numeric types.\n",
            "\n"
          ]
        }
      ],
      "source": [
        "help(sum)"
      ]
    },
    {
      "cell_type": "markdown",
      "metadata": {},
      "source": [
        "<code>max()</code>: retorna el valor máximo de un iterable"
      ]
    },
    {
      "cell_type": "code",
      "execution_count": 7,
      "metadata": {},
      "outputs": [
        {
          "data": {
            "text/plain": [
              "23"
            ]
          },
          "execution_count": 7,
          "metadata": {},
          "output_type": "execute_result"
        }
      ],
      "source": [
        "highest = max([5, 12, 8, 23, 16])\n",
        "highest"
      ]
    },
    {
      "cell_type": "markdown",
      "metadata": {},
      "source": [
        "<code>min()</code>: retorna el valor mínimo de un iterable"
      ]
    },
    {
      "cell_type": "code",
      "execution_count": 8,
      "metadata": {},
      "outputs": [
        {
          "data": {
            "text/plain": [
              "5"
            ]
          },
          "execution_count": 8,
          "metadata": {},
          "output_type": "execute_result"
        }
      ],
      "source": [
        "lowest = min([5, 12, 8, 23, 16])\n",
        "lowest"
      ]
    },
    {
      "cell_type": "code",
      "execution_count": 9,
      "metadata": {},
      "outputs": [],
      "source": [
        "lista = [1,2,3]\n",
        "# Se extienden todas las funciones asociadas a los objetos de tipo lista. Tambien son conocidos como metodos."
      ]
    },
    {
      "cell_type": "code",
      "execution_count": null,
      "metadata": {},
      "outputs": [],
      "source": [
        "lista."
      ]
    },
    {
      "cell_type": "code",
      "execution_count": null,
      "metadata": {},
      "outputs": [],
      "source": [
        "names = {\"nombre\": \"maria\"}\n",
        "names."
      ]
    },
    {
      "cell_type": "code",
      "execution_count": null,
      "metadata": {},
      "outputs": [],
      "source": [
        "help()"
      ]
    },
    {
      "cell_type": "markdown",
      "metadata": {},
      "source": [
        "| **Función**   | **Descripción**                                                                 | **Ejemplo**                                                                 |\n",
        "|---------------|---------------------------------------------------------------------------------|-----------------------------------------------------------------------------|\n",
        "| `print()`     | Imprime un mensaje en la consola.                                               | `print(\"Hola, mundo!\")`  # Salida: Hola, mundo!                            |\n",
        "| `type()`      | Devuelve el tipo de un objeto.                                                  | `type(\"Hola\")`  # Salida: <class 'str'>                                     |\n",
        "| `int()`       | Convierte un valor en un número entero.                                         | `int(\"42\")`  # Salida: 42                                                   |\n",
        "| `input()`     | Captura la entrada del usuario desde la consola.                                | `nombre = input(\"¿Cómo te llamas? \")`  # Captura la entrada del usuario    |\n",
        "| `range()`     | Genera una secuencia de números enteros dentro de un rango especificado.        | `list(range(3))`  # Salida: [0, 1, 2]                                      |\n",
        "| `sorted()`    | Devuelve una lista ordenada de un iterable.                                     | `sorted([3, 1, 4, 2])`  # Salida: [1, 2, 3, 4]                            |\n",
        "| `abs()`       | Devuelve el valor absoluto de un número.                                        | `abs(-10)`  # Salida: 10                                                   |\n",
        "| `round()`     | Redondea un número a una cantidad específica de decimales.                      | `round(3.14159, 2)`  # Salida: 3.14                                        |                                                        | `dict([('a', 1), ('b', 2)])`  # Salida: {'a': 1, 'b': 2}                   |\n",
        "| `set()`       | Crea un conjunto (set) con elementos únicos a partir de un iterable.            | `set([1, 2, 2, 3])`  # Salida: {1, 2, 3}                                  |\n",
        "| `zip()`       | Combina varios iterables (listas, tuplas, etc.) en tuplas pares.                | `list(zip([1, 2], ['a', 'b']))`  # Salida: [(1, 'a'), (2, 'b')]            |\n",
        "| `map()`       | Aplica una función a todos los elementos de un iterable y devuelve un iterable. | `list(map(lambda x: x**2, [1, 2, 3]))`  # Salida: [1, 4, 9]               |\n",
        "| `filter()`    | Filtra elementos de un iterable que cumplen con una condición específica.       | `list(filter(lambda x: x > 2, [1, 2, 3, 4]))`  # Salida: [3, 4]           |\n",
        "| `enumerate()` | Devuelve un iterador que genera pares (índice, valor) de un iterable.           | `list(enumerate(['a', 'b', 'c']))`  # Salida: [(0, 'a'), (1, 'b'), (2, 'c')]|\n",
        "| `isinstance()`| Verifica si un objeto es de un tipo específico.                                 | `isinstance(42, int)`  # Salida: True                                      |\n",
        "| `open()`      | Abre un archivo y lo prepara para lectura o escritura.                          | `f = open('archivo.txt', 'w')`  # Abre el archivo en modo escritura         |\n"
      ]
    },
    {
      "cell_type": "markdown",
      "metadata": {},
      "source": [
        "# Crear tus propias funciones"
      ]
    },
    {
      "cell_type": "markdown",
      "metadata": {},
      "source": [
        "![](https://aulavirtual.espol.edu.ec/courses/4558/files/1083512/download?verifier=n3m8lepEmTQSVqbRFv1YZNWvXHlsbEZCIwRJ5xYr&wrap=1)"
      ]
    },
    {
      "cell_type": "markdown",
      "metadata": {},
      "source": [
        "### Def \n",
        "Utiliza <code>def</code> seguido del nombre de la función y paréntesis. A continuación veremos la sintaxis para definir una función:"
      ]
    },
    {
      "cell_type": "code",
      "execution_count": 11,
      "metadata": {},
      "outputs": [],
      "source": [
        "def function_name():\n",
        "    pass"
      ]
    },
    {
      "cell_type": "markdown",
      "metadata": {},
      "source": [
        "Una sentencia «pass» en una función de programación es un marcador de posición o una sentencia no-op (sin operación). Utilízala cuando quieras definir sintácticamente una función o un bloque de código pero no quieras especificar ninguna funcionalidad o implementación en ese momento.\n",
        "\n",
        "- Marcador de posición: <code>pass</code> actúa como un marcador de posición temporal para el futuro código que se pretende escribir dentro de una función o un bloque de código.\n",
        "\n",
        "- Requisito sintáctico: En muchos lenguajes de programación como Python, usar <code>pass</code> es necesario cuando defines una función o un bloque condicional. Garantiza que el código siga siendo sintácticamente correcto, aunque todavía no haga nada.\n",
        "\n",
        "- No realiza ninguna operación: <code>pass</code> por sí mismo no realiza ninguna acción significativa. Cuando el intérprete encuentra «pass», simplemente pasa a la siguiente sentencia sin ejecutar ningún código."
      ]
    },
    {
      "cell_type": "markdown",
      "metadata": {},
      "source": [
        "### Parametros\n",
        "\n",
        "- Los parámetros son como las entradas de las funciones\n",
        "- Van entre paréntesis al definir la función\n",
        "- Las funciones pueden tener varios parámetros\n",
        "\n",
        "Ejemplo:"
      ]
    },
    {
      "cell_type": "code",
      "execution_count": 12,
      "metadata": {},
      "outputs": [],
      "source": [
        "def greet(name):\n",
        "    print(\"Hello, \" + name)"
      ]
    },
    {
      "cell_type": "code",
      "execution_count": 13,
      "metadata": {},
      "outputs": [
        {
          "name": "stdout",
          "output_type": "stream",
          "text": [
            "Hello, Sebas\n"
          ]
        }
      ],
      "source": [
        "greet(\"Sebas\")"
      ]
    },
    {
      "cell_type": "code",
      "execution_count": 14,
      "metadata": {},
      "outputs": [
        {
          "name": "stdout",
          "output_type": "stream",
          "text": [
            "Hello, Alice\n"
          ]
        }
      ],
      "source": [
        "result = greet(\"Alice\")\n",
        "result"
      ]
    },
    {
      "cell_type": "markdown",
      "metadata": {},
      "source": [
        "**Docstrings**\n",
        "\n",
        "- Explican lo que hace una función\n",
        "- Se colocan entre comillas triples debajo de la definición de la función\n",
        "- Ayuda a otros desarrolladores a entender la función\n",
        "\n",
        "Ejemplo:"
      ]
    },
    {
      "cell_type": "code",
      "execution_count": 20,
      "metadata": {},
      "outputs": [],
      "source": [
        "def multiply(a, b):\n",
        "    \"\"\"\n",
        "    This function multiplies two numbers.\n",
        "    Input: a (number), b (number)\n",
        "    Output: Product of a and b\n",
        "    \"\"\"\n",
        "    print(a * b)"
      ]
    },
    {
      "cell_type": "code",
      "execution_count": 16,
      "metadata": {},
      "outputs": [
        {
          "name": "stdout",
          "output_type": "stream",
          "text": [
            "12\n"
          ]
        }
      ],
      "source": [
        "multiply(2,6)"
      ]
    },
    {
      "cell_type": "code",
      "execution_count": 21,
      "metadata": {},
      "outputs": [
        {
          "name": "stdout",
          "output_type": "stream",
          "text": [
            "Help on function multiply in module __main__:\n",
            "\n",
            "multiply(a, b)\n",
            "    This function multiplies two numbers.\n",
            "    Input: a (number), b (number)\n",
            "    Output: Product of a and b\n",
            "\n"
          ]
        }
      ],
      "source": [
        "help(multiply)"
      ]
    },
    {
      "cell_type": "markdown",
      "metadata": {},
      "source": [
        "### Return\n",
        "\n",
        "- Return devuelve un valor de una función\n",
        "- Finaliza la ejecución de la función y envía el resultado\n",
        "- Una función puede devolver varios tipos de datos\n",
        "\n",
        "Ejemplo:"
      ]
    },
    {
      "cell_type": "code",
      "execution_count": 22,
      "metadata": {},
      "outputs": [],
      "source": [
        "def add(a, b):\n",
        "    \"\"\"\n",
        "    This function adds two numbers.\n",
        "    Input: a (number), b (number)\n",
        "    Output: Sum of a and b\n",
        "    \"\"\"\n",
        "    return a + b"
      ]
    },
    {
      "cell_type": "code",
      "execution_count": 23,
      "metadata": {},
      "outputs": [
        {
          "data": {
            "text/plain": [
              "8"
            ]
          },
          "execution_count": 23,
          "metadata": {},
          "output_type": "execute_result"
        }
      ],
      "source": [
        "sum_result = add(3, 5)\n",
        "sum_result"
      ]
    },
    {
      "cell_type": "markdown",
      "metadata": {},
      "source": [
        "Las funciones hacen todo más simple..."
      ]
    },
    {
      "cell_type": "code",
      "execution_count": 24,
      "metadata": {},
      "outputs": [
        {
          "data": {
            "text/plain": [
              "5"
            ]
          },
          "execution_count": 24,
          "metadata": {},
          "output_type": "execute_result"
        }
      ],
      "source": [
        "a1 = 4\n",
        "b1 = 5\n",
        "c1 = a1 + b1 + 2 * a1 * b1 - 1\n",
        "if(c1 < 0):\n",
        "    c1 = 0 \n",
        "else:\n",
        "    c1 = 5\n",
        "c1"
      ]
    },
    {
      "cell_type": "code",
      "execution_count": 25,
      "metadata": {},
      "outputs": [
        {
          "data": {
            "text/plain": [
              "0"
            ]
          },
          "execution_count": 25,
          "metadata": {},
          "output_type": "execute_result"
        }
      ],
      "source": [
        "a2 = 0\n",
        "b2 = 0\n",
        "c2 = a2 + b2 + 2 * a2 * b2 - 1\n",
        "if(c2 < 0):\n",
        "    c2 = 0 \n",
        "else:\n",
        "    c2 = 5\n",
        "c2  "
      ]
    },
    {
      "cell_type": "code",
      "execution_count": 27,
      "metadata": {},
      "outputs": [],
      "source": [
        "def Equation(a,b):\n",
        "    \"\"\"\n",
        "    Esta función realiza una operación matemática con dos parámetros y devuelve un valor basado en una condición.\n",
        "    Input: a (number), b (number)\n",
        "    Output: Si el resultado de la fórmula es negativo, se retorna 0. De lo contrario, se retorna 5.\n",
        "    \"\"\"\n",
        "    c = a + b + 2 * a * b - 1\n",
        "    if(c < 0):\n",
        "        c = 0 \n",
        "    else:\n",
        "        c = 5\n",
        "    return(c)"
      ]
    },
    {
      "cell_type": "code",
      "execution_count": 28,
      "metadata": {},
      "outputs": [
        {
          "data": {
            "text/plain": [
              "5"
            ]
          },
          "execution_count": 28,
          "metadata": {},
          "output_type": "execute_result"
        }
      ],
      "source": [
        "a1 = 4\n",
        "b1 = 5\n",
        "c1 = Equation(a1, b1)\n",
        "c1"
      ]
    },
    {
      "cell_type": "code",
      "execution_count": 29,
      "metadata": {},
      "outputs": [
        {
          "data": {
            "text/plain": [
              "0"
            ]
          },
          "execution_count": 29,
          "metadata": {},
          "output_type": "execute_result"
        }
      ],
      "source": [
        "a2 = 0\n",
        "b2 = 0\n",
        "c2 = Equation(a2, b2)\n",
        "c2"
      ]
    },
    {
      "cell_type": "markdown",
      "metadata": {},
      "source": [
        "### Ejercicios"
      ]
    },
    {
      "cell_type": "markdown",
      "metadata": {},
      "source": [
        "1. Imagina que estás en un restaurante y deseas calcular la propina que dejarás a tu mesero en función del monto de tu factura. La propina se calcula tomando un porcentaje del monto total de la factura. Escribe una función en Python que reciba dos parámetros:\n",
        "\n",
        "- Monto total de la factura: Un número que representa el valor total de la comida o bebida consumida (puede ser un número decimal).\n",
        "- Porcentaje de propina: Un número que indica el porcentaje de la factura que se debe dejar como propina.\n",
        "\n",
        "La función debe devolver el monto que se dejará como propina."
      ]
    },
    {
      "cell_type": "code",
      "execution_count": null,
      "metadata": {},
      "outputs": [],
      "source": [
        "def calcular_propina(monto, porcentaje):\n",
        "    \"\"\"\n",
        "    Esta función calcula la propina a partir de un monto y un porcentaje.\n",
        "\n",
        "    Input:\n",
        "    monto (float): El monto total de la factura.\n",
        "    porcentaje (float): El porcentaje de propina a calcular.\n",
        "\n",
        "    Output:\n",
        "    float: El monto de la propina.\n",
        "    \"\"\"\n",
        "    return monto * porcentaje / 100\n",
        "\n",
        "resultado = calcular_propina(100, 10)\n",
        "print(resultado)"
      ]
    },
    {
      "cell_type": "markdown",
      "metadata": {},
      "source": [
        "2. Supongamos que has abierto un CDT en el Banco Municipal por un monto de $10,000,000 con un plazo de 2 años y una tasa efectiva anual (EA) del 12%. Ahora deseas conocer el valor futuro de tu inversión, y debido a que planeas abrir más CDTs en el futuro, sería útil contar con una función en Python que realice este cálculo.\n",
        "\n",
        "¿Cómo sería esa función en Python para calcular el valor futuro de una inversión con interés compuesto?\n",
        "\n",
        "Prueba la función con los siguientes parámetros:\n",
        "\n",
        "- Valor actual de la inversión: $10,000,000\n",
        "- Tasa de interés anual: 12% (expresada como 0.12)\n",
        "- Plazo: 2 años\n",
        "\n",
        "\n",
        "\n",
        "\n",
        "La fórmula para calcular el valor futuro de una inversión con interés compuesto es:\n",
        "\n",
        "$$\n",
        "VF = VA \\times (1 + i)^n\n",
        "$$\n",
        "\n",
        "Donde:\n",
        "- **VF** es el valor futuro,\n",
        "- **VA** es el valor actual de la inversión,\n",
        "- **i** es la tasa de interés anual en formato decimal,\n",
        "- **n** es el número de períodos (en este caso, años)."
      ]
    },
    {
      "cell_type": "code",
      "execution_count": 72,
      "metadata": {},
      "outputs": [],
      "source": [
        "def valor_futuro(valor_actual, interes, periodos):\n",
        "\n",
        "    \"\"\"\n",
        "    Esta función calcula el valor futuro de una inversión o préstamo con interés compuesto.\n",
        "\n",
        "    Input:\n",
        "    valor_actual (float): El monto inicial de la inversión o préstamo.\n",
        "    interes (float): La tasa de interés anual expresada como un número decimal (por ejemplo, 0.05 para 5%).\n",
        "    periodos (int): El número de períodos de capitalización (años).\n",
        "\n",
        "    Output:\n",
        "    float: El valor futuro de la inversión o préstamo, calculado con la fórmula del interés compuesto.\n",
        "    \"\"\"\n",
        "\n",
        "    vf = valor_actual * ((1+interes)**periodos)\n",
        "    return vf"
      ]
    },
    {
      "cell_type": "code",
      "execution_count": 73,
      "metadata": {},
      "outputs": [
        {
          "data": {
            "text/plain": [
              "1210000.0000000002"
            ]
          },
          "execution_count": 73,
          "metadata": {},
          "output_type": "execute_result"
        }
      ],
      "source": [
        "valor_futuro(1000000, 0.1, 2)"
      ]
    },
    {
      "cell_type": "markdown",
      "metadata": {},
      "source": [
        "# Comprender los alcances y las variables\n",
        "El alcance es el lugar donde se puede ver y utilizar una variable:\n",
        "- Alcance global: variables definidas fuera de las funciones; accesibles en todas partes\n",
        "- Alcance local: variables dentro de funciones; sólo utilizables dentro de esa función\n",
        "\n",
        "![](https://notes.edureify.com/wp-content/uploads/2022/06/Blue-Feminine-Plus-Size-Models-In-Trendy-Clothes-Plus-Size-Collection-Banner-2022-06-18T124146.974.png)\n",
        "\n",
        "Ejemplo:"
      ]
    },
    {
      "cell_type": "code",
      "execution_count": 43,
      "metadata": {},
      "outputs": [
        {
          "data": {
            "text/plain": [
              "\"I'm global\""
            ]
          },
          "execution_count": 43,
          "metadata": {},
          "output_type": "execute_result"
        }
      ],
      "source": [
        "global_variable = \"I'm global\"\n",
        "global_variable"
      ]
    },
    {
      "cell_type": "code",
      "execution_count": 44,
      "metadata": {},
      "outputs": [],
      "source": [
        "def example_function():\n",
        "    local_variable = \"I'm local\"\n",
        "    print(global_variable)  # Accessing global variable\n",
        "    print(local_variable)   # Accessing local variable"
      ]
    },
    {
      "cell_type": "code",
      "execution_count": 45,
      "metadata": {},
      "outputs": [
        {
          "name": "stdout",
          "output_type": "stream",
          "text": [
            "I'm global\n",
            "I'm local\n"
          ]
        }
      ],
      "source": [
        "example_function()"
      ]
    },
    {
      "cell_type": "code",
      "execution_count": 46,
      "metadata": {},
      "outputs": [
        {
          "name": "stdout",
          "output_type": "stream",
          "text": [
            "I'm global\n"
          ]
        }
      ],
      "source": [
        "print(global_variable)"
      ]
    },
    {
      "cell_type": "code",
      "execution_count": 47,
      "metadata": {},
      "outputs": [
        {
          "ename": "NameError",
          "evalue": "name 'local_variable' is not defined",
          "output_type": "error",
          "traceback": [
            "\u001b[1;31m---------------------------------------------------------------------------\u001b[0m",
            "\u001b[1;31mNameError\u001b[0m                                 Traceback (most recent call last)",
            "Cell \u001b[1;32mIn[47], line 1\u001b[0m\n\u001b[1;32m----> 1\u001b[0m \u001b[38;5;28mprint\u001b[39m(\u001b[43mlocal_variable\u001b[49m)\n",
            "\u001b[1;31mNameError\u001b[0m: name 'local_variable' is not defined"
          ]
        }
      ],
      "source": [
        "print(local_variable)"
      ]
    },
    {
      "cell_type": "code",
      "execution_count": 57,
      "metadata": {},
      "outputs": [],
      "source": [
        "x = 42\n",
        "def prueba():\n",
        "    x = \"Celsia\"\n",
        "    return x"
      ]
    },
    {
      "cell_type": "code",
      "execution_count": 59,
      "metadata": {},
      "outputs": [
        {
          "data": {
            "text/plain": [
              "'Celsia'"
            ]
          },
          "execution_count": 59,
          "metadata": {},
          "output_type": "execute_result"
        }
      ],
      "source": [
        "localv = prueba()\n",
        "localv"
      ]
    },
    {
      "cell_type": "code",
      "execution_count": 62,
      "metadata": {},
      "outputs": [
        {
          "data": {
            "text/plain": [
              "30"
            ]
          },
          "execution_count": 62,
          "metadata": {},
          "output_type": "execute_result"
        }
      ],
      "source": [
        "x = 50\n",
        "def suma():\n",
        "    x = 20\n",
        "    y = 10\n",
        "    return(x+y)\n",
        "\n",
        "suma()"
      ]
    },
    {
      "cell_type": "code",
      "execution_count": 64,
      "metadata": {},
      "outputs": [
        {
          "data": {
            "text/plain": [
              "60"
            ]
          },
          "execution_count": 64,
          "metadata": {},
          "output_type": "execute_result"
        }
      ],
      "source": [
        "x = 50\n",
        "def suma():\n",
        "    global x\n",
        "    y = 10\n",
        "    return(x+y)\n",
        "\n",
        "suma()"
      ]
    },
    {
      "cell_type": "markdown",
      "metadata": {},
      "source": [
        "<div class=\"alert alert-success alertsuccess\" style=\"margin-top: 20px\">\n",
        "    [Tip:] Como buena práctica, se recomienda nombrar a las funciones de acuerdo con el procedimiento que ejecutan.\n",
        "</div>"
      ]
    },
    {
      "cell_type": "markdown",
      "metadata": {},
      "source": [
        "### Utilizando funciones con bucles\n",
        "\n",
        "- Las funciones pueden contener código con bucles\n",
        "- Esto hace que las tareas complejas sean más organizadas\n",
        "- El código del bucle se convierte en una función repetible"
      ]
    },
    {
      "cell_type": "code",
      "execution_count": 1,
      "metadata": {},
      "outputs": [
        {
          "name": "stdout",
          "output_type": "stream",
          "text": [
            "1\n",
            "2\n",
            "3\n",
            "4\n",
            "5\n"
          ]
        }
      ],
      "source": [
        "def print_numbers(limit):\n",
        "    for i in range(1, limit+1):\n",
        "        print(i)\n",
        "print_numbers(5)  # Output: 1 2 3 4 5"
      ]
    },
    {
      "cell_type": "markdown",
      "metadata": {},
      "source": [
        "- Las funciones agrupan acciones similares para facilitar la comprensión\n",
        "- Los bucles dentro de las funciones mantienen el código limpio\n",
        "- Puede reutilizar una función para repetir acciones"
      ]
    },
    {
      "cell_type": "code",
      "execution_count": null,
      "metadata": {},
      "outputs": [],
      "source": [
        "def greet(name):\n",
        "    return \"Hello, \" + name\n",
        "for _ in range(3):\n",
        "    print(greet(\"Alice\"))"
      ]
    },
    {
      "cell_type": "code",
      "execution_count": 2,
      "metadata": {},
      "outputs": [
        {
          "name": "stdout",
          "output_type": "stream",
          "text": [
            "El costo total de la compra es: $31.10\n"
          ]
        }
      ],
      "source": [
        "# Esta función recorre una lista de precios de productos y devuelve el costo total de los artículos.\n",
        "\n",
        "def calcular_costo_total(precios):\n",
        "    total = 0\n",
        "    for precio in precios:\n",
        "        total += precio\n",
        "    return total\n",
        "\n",
        "lista_de_compras = [12.50, 7.30, 5.80, 3.00, 2.50]\n",
        "costo_total = calcular_costo_total(lista_de_compras)\n",
        "print(f\"El costo total de la compra es: ${costo_total:.2f}\")"
      ]
    },
    {
      "cell_type": "code",
      "execution_count": 3,
      "metadata": {},
      "outputs": [
        {
          "name": "stdout",
          "output_type": "stream",
          "text": [
            "Aún quedan tareas por hacer.\n"
          ]
        }
      ],
      "source": [
        "# Esta función verifica si todas las tareas en una lista han sido completadas (si todas están marcadas como True).\n",
        "\n",
        "def tareas_completadas(tareas):\n",
        "    for tarea in tareas:\n",
        "        if not tarea:\n",
        "            return \"Aún quedan tareas por hacer.\"\n",
        "    return \"¡Todas las tareas están completadas!\"\n",
        "\n",
        "lista_de_tareas = [True, True, False, True]\n",
        "print(tareas_completadas(lista_de_tareas))"
      ]
    },
    {
      "cell_type": "code",
      "execution_count": 5,
      "metadata": {},
      "outputs": [
        {
          "name": "stdout",
          "output_type": "stream",
          "text": [
            "Llenando... Litros en el tanque: 46\n",
            "Llenando... Litros en el tanque: 47\n",
            "Llenando... Litros en el tanque: 48\n",
            "Llenando... Litros en el tanque: 49\n",
            "Llenando... Litros en el tanque: 50\n",
            "El tanque está lleno.\n"
          ]
        }
      ],
      "source": [
        "# Este ejemplo simula llenar el tanque de gasolina hasta que esté lleno.\n",
        "\n",
        "def llenar_tanque(capacidad, cantidad_actual):\n",
        "    while cantidad_actual < capacidad:\n",
        "        cantidad_actual += 1\n",
        "        print(f\"Llenando... Litros en el tanque: {cantidad_actual}\")\n",
        "    return \"El tanque está lleno.\"\n",
        "\n",
        "capacidad_tanque = 50  # Litros\n",
        "cantidad_actual = 45   # Litros\n",
        "print(llenar_tanque(capacidad_tanque, cantidad_actual))"
      ]
    },
    {
      "cell_type": "code",
      "execution_count": 7,
      "metadata": {},
      "outputs": [
        {
          "name": "stdout",
          "output_type": "stream",
          "text": [
            "El semáforo está en Rojo\n",
            "El semáforo está en Amarillo\n",
            "El semáforo está en Verde\n",
            "El semáforo está en Rojo\n",
            "El semáforo está en Amarillo\n",
            "El semáforo está en Verde\n",
            "El semáforo está en Rojo\n",
            "El semáforo está en Amarillo\n",
            "El semáforo está en Verde\n"
          ]
        },
        {
          "ename": "KeyboardInterrupt",
          "evalue": "",
          "output_type": "error",
          "traceback": [
            "\u001b[1;31m---------------------------------------------------------------------------\u001b[0m",
            "\u001b[1;31mKeyboardInterrupt\u001b[0m                         Traceback (most recent call last)",
            "Cell \u001b[1;32mIn[7], line 13\u001b[0m\n\u001b[0;32m     10\u001b[0m         time\u001b[38;5;241m.\u001b[39msleep(\u001b[38;5;241m2\u001b[39m)  \u001b[38;5;66;03m# Espera 2 segundos antes de cambiar de color\u001b[39;00m\n\u001b[0;32m     11\u001b[0m         i \u001b[38;5;241m=\u001b[39m (i \u001b[38;5;241m+\u001b[39m \u001b[38;5;241m1\u001b[39m) \u001b[38;5;241m%\u001b[39m \u001b[38;5;241m3\u001b[39m  \u001b[38;5;66;03m# Cambia al siguiente color, repite cuando llega al final\u001b[39;00m\n\u001b[1;32m---> 13\u001b[0m \u001b[43msemaforo\u001b[49m\u001b[43m(\u001b[49m\u001b[43m)\u001b[49m\n",
            "Cell \u001b[1;32mIn[7], line 10\u001b[0m, in \u001b[0;36msemaforo\u001b[1;34m()\u001b[0m\n\u001b[0;32m      8\u001b[0m \u001b[38;5;28;01mwhile\u001b[39;00m \u001b[38;5;28;01mTrue\u001b[39;00m:\n\u001b[0;32m      9\u001b[0m     \u001b[38;5;28mprint\u001b[39m(\u001b[38;5;124mf\u001b[39m\u001b[38;5;124m\"\u001b[39m\u001b[38;5;124mEl semáforo está en \u001b[39m\u001b[38;5;132;01m{\u001b[39;00mcolores[i]\u001b[38;5;132;01m}\u001b[39;00m\u001b[38;5;124m\"\u001b[39m)\n\u001b[1;32m---> 10\u001b[0m     \u001b[43mtime\u001b[49m\u001b[38;5;241;43m.\u001b[39;49m\u001b[43msleep\u001b[49m\u001b[43m(\u001b[49m\u001b[38;5;241;43m2\u001b[39;49m\u001b[43m)\u001b[49m  \u001b[38;5;66;03m# Espera 2 segundos antes de cambiar de color\u001b[39;00m\n\u001b[0;32m     11\u001b[0m     i \u001b[38;5;241m=\u001b[39m (i \u001b[38;5;241m+\u001b[39m \u001b[38;5;241m1\u001b[39m) \u001b[38;5;241m%\u001b[39m \u001b[38;5;241m3\u001b[39m\n",
            "\u001b[1;31mKeyboardInterrupt\u001b[0m: "
          ]
        }
      ],
      "source": [
        "# Este ejemplo utiliza un bucle while para simular un semáforo que cambia de color a intervalos regulares (rojo, amarillo, verde).\n",
        "\n",
        "import time\n",
        "\n",
        "def semaforo():\n",
        "    colores = [\"Rojo\", \"Amarillo\", \"Verde\"]\n",
        "    i = 0\n",
        "    while True:\n",
        "        print(f\"El semáforo está en {colores[i]}\")\n",
        "        time.sleep(2)  # Espera 2 segundos antes de cambiar de color\n",
        "        i = (i + 1) % 3  # Cambia al siguiente color, repite cuando llega al final\n",
        "\n",
        "semaforo()"
      ]
    },
    {
      "cell_type": "code",
      "execution_count": 9,
      "metadata": {},
      "outputs": [
        {
          "name": "stdout",
          "output_type": "stream",
          "text": [
            "El semáforo está en Rojo\n",
            "El semáforo está en Amarillo\n",
            "El semáforo está en Verde\n",
            "Puedes avanzar\n"
          ]
        }
      ],
      "source": [
        "import time\n",
        "\n",
        "def semaforo():\n",
        "    colores = [\"Rojo\", \"Amarillo\", \"Verde\"]\n",
        "    i = 0\n",
        "    while i < len(colores):\n",
        "        print(f\"El semáforo está en {colores[i]}\")\n",
        "        time.sleep(2)  # Espera 2 segundos antes de cambiar de color\n",
        "        i += 1\n",
        "    \n",
        "    print(\"Puedes avanzar\")\n",
        "\n",
        "# Ejemplo de uso\n",
        "semaforo()"
      ]
    },
    {
      "cell_type": "markdown",
      "metadata": {},
      "source": [
        "### Modificando estructuras de datos con funciones"
      ]
    },
    {
      "cell_type": "code",
      "execution_count": 51,
      "metadata": {},
      "outputs": [],
      "source": [
        "my_list = []"
      ]
    },
    {
      "cell_type": "code",
      "execution_count": 52,
      "metadata": {},
      "outputs": [],
      "source": [
        "def add_element(data_structure, element):\n",
        "    data_structure.append(element)"
      ]
    },
    {
      "cell_type": "markdown",
      "metadata": {},
      "source": [
        "Aquí se define una función llamada add_element. Esta función toma dos parámetros:\n",
        "\n",
        "1. data_structure: este parámetro representa la lista a la que quieres añadir un elemento\n",
        "2. element: este parámetro representa el elemento que quieres añadir a la lista\n",
        "\n",
        "Dentro de la función, se utiliza el método append para añadir el elemento proporcionado a la data_structure, que se supone que es una lista."
      ]
    },
    {
      "cell_type": "code",
      "execution_count": 53,
      "metadata": {},
      "outputs": [],
      "source": [
        "add_element(my_list, 42)\n",
        "add_element(my_list, 17)\n",
        "add_element(my_list, 99)"
      ]
    },
    {
      "cell_type": "code",
      "execution_count": 54,
      "metadata": {},
      "outputs": [
        {
          "data": {
            "text/plain": [
              "[42, 17, 99]"
            ]
          },
          "execution_count": 54,
          "metadata": {},
          "output_type": "execute_result"
        }
      ],
      "source": [
        "my_list"
      ]
    },
    {
      "cell_type": "code",
      "execution_count": 56,
      "metadata": {},
      "outputs": [],
      "source": [
        "def remove_element(data_structure, element):\n",
        "    if element in data_structure:\n",
        "        data_structure.remove(element)\n",
        "    else:\n",
        "        print(f\"{element} not found in the list.\")"
      ]
    },
    {
      "cell_type": "markdown",
      "metadata": {},
      "source": [
        "### Ejercicios"
      ]
    },
    {
      "cell_type": "markdown",
      "metadata": {},
      "source": [
        "1. Escribe una función llamada contar_vocales que reciba una frase como argumento y utilice un bucle for para contar cuántas vocales (a, e, i, o, u) contiene la frase. La función debe devolver el número total de vocales."
      ]
    },
    {
      "cell_type": "code",
      "execution_count": 10,
      "metadata": {},
      "outputs": [
        {
          "name": "stdout",
          "output_type": "stream",
          "text": [
            "La frase contiene 4 vocales.\n"
          ]
        }
      ],
      "source": [
        "def contar_vocales(frase):\n",
        "    vocales = \"aeiouAEIOU\"\n",
        "    contador = 0\n",
        "    \n",
        "    for letra in frase:\n",
        "        if letra in vocales:\n",
        "            contador += 1\n",
        "    \n",
        "    return contador\n",
        "\n",
        "frase = \"Hola, ¿cómo estás?\"\n",
        "total_vocales = contar_vocales(frase)\n",
        "print(f\"La frase contiene {total_vocales} vocales.\")"
      ]
    },
    {
      "cell_type": "markdown",
      "metadata": {},
      "source": [
        "2. Escribe una función llamada ahorrar_dinero que permita a una persona ahorrar dinero semana a semana. El usuario debe introducir cuánto quiere ahorrar cada semana. El proceso continuará hasta que el total ahorrado sea mayor o igual a una meta establecida (por ejemplo, $100). Al final, la función debe imprimir cuánto dinero se ha ahorrado en total."
      ]
    },
    {
      "cell_type": "code",
      "execution_count": 11,
      "metadata": {},
      "outputs": [
        {
          "name": "stdout",
          "output_type": "stream",
          "text": [
            "Llevas ahorrado: $50.00\n",
            "Llevas ahorrado: $75.00\n",
            "Llevas ahorrado: $135.00\n",
            "¡Felicidades! Has ahorrado un total de $135.00\n"
          ]
        }
      ],
      "source": [
        "def ahorrar_dinero(meta):\n",
        "    total_ahorrado = 0\n",
        "    \n",
        "    while total_ahorrado < meta:\n",
        "        ahorro = float(input(\"¿Cuánto quieres ahorrar esta semana? \"))\n",
        "        total_ahorrado += ahorro\n",
        "        print(f\"Llevas ahorrado: ${total_ahorrado:.2f}\")\n",
        "    \n",
        "    print(f\"¡Felicidades! Has ahorrado un total de ${total_ahorrado:.2f}\")\n",
        "\n",
        "ahorrar_dinero(100)\n"
      ]
    }
  ],
  "metadata": {
    "kernelspec": {
      "display_name": "base",
      "language": "python",
      "name": "python3"
    },
    "language_info": {
      "codemirror_mode": {
        "name": "ipython",
        "version": 3
      },
      "file_extension": ".py",
      "mimetype": "text/x-python",
      "name": "python",
      "nbconvert_exporter": "python",
      "pygments_lexer": "ipython3",
      "version": "3.12.4"
    },
    "prev_pub_hash": "ca1310ac17e8c0d981423b0a99104e3f393f1263e1c63d2826b8166e16846e36"
  },
  "nbformat": 4,
  "nbformat_minor": 4
}
