{
 "cells": [
  {
   "cell_type": "markdown",
   "metadata": {},
   "source": [
    "<h1>Loops (bucles)</h1>\n",
    "\n",
    "Son una estructura de control que permite ejecutar un bloque de código repetidamente, ya sea un número fijo de veces o hasta que se cumpla una condición específica. Los bucles son fundamentales en la programación porque permiten automatizar tareas repetitivas y procesar colecciones de datos de manera eficiente.\n",
    "\n",
    "Los **Loops** son estructuras de codigo fundamentales en cualquier lenguaje de programación. Son bloques de código que se repiten dada una cierta cantidad de veces dada una condición."
   ]
  },
  {
   "cell_type": "markdown",
   "metadata": {},
   "source": [
    "![](https://cf-courses-data.s3.us.cloud-object-storage.appdomain.cloud/IBMDeveloperSkillsNetwork-PY0101EN-SkillsNetwork/labs/Module%203/images/forloop.png)"
   ]
  },
  {
   "cell_type": "markdown",
   "metadata": {},
   "source": [
    "<h3 id=\"range\">Range</h3>\n"
   ]
  },
  {
   "cell_type": "markdown",
   "metadata": {},
   "source": [
    "A veces, es posible que desees repetir una operación varias veces. Las ejecuciones repetidas como esta se realizan mediante <b>bucles</b>. Vamos a ver dos tipos de bucles: los bucles <code>for</code> y <code>while</code>.\n",
    "\n",
    "Antes de hablar de los bucles, discutamos el objeto <code>range</code>. Es útil pensar en el objeto range como una lista ordenada. Por ahora, veamos el caso más simple. Si queremos generar un objeto que contenga elementos ordenados desde 0 hasta 2, simplemente usamos el siguiente comando:\n"
   ]
  },
  {
   "cell_type": "code",
   "execution_count": 5,
   "metadata": {},
   "outputs": [
    {
     "data": {
      "text/plain": [
       "str"
      ]
     },
     "execution_count": 5,
     "metadata": {},
     "output_type": "execute_result"
    }
   ],
   "source": [
    "edad = input(\"Escribe tu edad \")\n",
    "type(edad)\n",
    "#print(edad + 5)"
   ]
  },
  {
   "cell_type": "code",
   "execution_count": 2,
   "metadata": {},
   "outputs": [
    {
     "data": {
      "text/plain": [
       "range(0, 5)"
      ]
     },
     "execution_count": 2,
     "metadata": {},
     "output_type": "execute_result"
    }
   ],
   "source": [
    "range(5)"
   ]
  },
  {
   "cell_type": "code",
   "execution_count": 4,
   "metadata": {},
   "outputs": [
    {
     "data": {
      "text/plain": [
       "range(0, 5)"
      ]
     },
     "execution_count": 4,
     "metadata": {},
     "output_type": "execute_result"
    }
   ],
   "source": [
    "range(0,5)"
   ]
  },
  {
   "cell_type": "markdown",
   "metadata": {},
   "source": [
    "<img src=\"https://cf-courses-data.s3.us.cloud-object-storage.appdomain.cloud/IBMDeveloperSkillsNetwork-PY0101EN-SkillsNetwork/labs/Module%203/images/range.PNG\" width=\"300\">\n"
   ]
  },
  {
   "cell_type": "markdown",
   "metadata": {},
   "source": [
    "<h3 id=\"for\">Qué es un bucle <code>for</code>?</h3>\n"
   ]
  },
  {
   "cell_type": "markdown",
   "metadata": {},
   "source": [
    "El bucle <code>for</code> te permite ejecutar un bloque de código múltiples veces. Por ejemplo, lo usarías si quisieras imprimir cada elemento en una lista. \n",
    "El For es un loop en el que un bloque de código se repite tantas veces como elementos haya en una determinada lista. En cada iteración (repetición) hay una variable que va tomando el valor de uno de los elementos en esta lista.\n",
    "\n",
    "Vamos a intentar usar un bucle <code>for</code> para imprimir todos los años presentados en la lista <code>dates</code>:\n"
   ]
  },
  {
   "cell_type": "code",
   "execution_count": 7,
   "metadata": {},
   "outputs": [
    {
     "name": "stdout",
     "output_type": "stream",
     "text": [
      "1982\n",
      "1980\n"
     ]
    }
   ],
   "source": [
    "dates = [1982, 1980, 1973]\n",
    "print(dates[0])\n",
    "print(dates[1])"
   ]
  },
  {
   "cell_type": "code",
   "execution_count": 11,
   "metadata": {
    "tags": []
   },
   "outputs": [
    {
     "name": "stdout",
     "output_type": "stream",
     "text": [
      "1982\n",
      "1980\n",
      "1973\n"
     ]
    }
   ],
   "source": [
    "dates = [1982, 1980, 1973]  # Lista de fechas\n",
    "\n",
    "\n",
    "N = len(dates)  # Longitud de la lista, en este caso es 3\n",
    "N\n",
    "for elemento in range(N):  # Recorre cada índice de la lista (desde 0 hasta N-1)\n",
    "    print(dates[elemento])  # Imprime el elemento de la lista en la posición 'i'"
   ]
  },
  {
   "cell_type": "code",
   "execution_count": 17,
   "metadata": {},
   "outputs": [
    {
     "name": "stdout",
     "output_type": "stream",
     "text": [
      "1982\n",
      "1980\n",
      "1973\n"
     ]
    }
   ],
   "source": [
    "dates = [1982, 1980, 1973] # Lista de fechas\n",
    "\n",
    "for i in dates:\n",
    "    print(i)"
   ]
  },
  {
   "cell_type": "markdown",
   "metadata": {},
   "source": [
    "El código en la indentación se ejecuta <code>N</code> veces, cada vez que el valor de <code>i</code> aumenta en 1 con cada ejecución. La declaración ejecutada es la de <code>print</code>, que imprime el valor en la lista en el índice <code>i</code>.\n",
    "\n",
    "- En la primera iteración, cuando i = 0, imprime el primer elemento de la lista (dates[0]), que es 1982.\n",
    "- En la segunda iteración, cuando i = 1, imprime el segundo elemento de la lista (dates[1]), que es 1980.\n",
    "- En la tercera iteración, cuando i = 2, imprime el tercer elemento de la lista (dates[2]), que es 1973.\n"
   ]
  },
  {
   "cell_type": "markdown",
   "metadata": {},
   "source": [
    "<img src=\"https://cf-courses-data.s3.us.cloud-object-storage.appdomain.cloud/IBMDeveloperSkillsNetwork-PY0101EN-SkillsNetwork/labs/Module%203/images/LoopsForRange.gif\" width=\"800\">\n"
   ]
  },
  {
   "cell_type": "markdown",
   "metadata": {},
   "source": [
    "En este ejemplo podemos imprimir una secuencia de números del 0 al 7:\n"
   ]
  },
  {
   "cell_type": "code",
   "execution_count": 12,
   "metadata": {
    "tags": []
   },
   "outputs": [
    {
     "name": "stdout",
     "output_type": "stream",
     "text": [
      "0\n",
      "1\n",
      "2\n",
      "3\n",
      "4\n",
      "5\n",
      "6\n",
      "7\n"
     ]
    }
   ],
   "source": [
    "# Example of for loop\n",
    "\n",
    "for i in range(0, 8):\n",
    "    print(i)"
   ]
  },
  {
   "cell_type": "code",
   "execution_count": null,
   "metadata": {},
   "outputs": [],
   "source": []
  },
  {
   "cell_type": "markdown",
   "metadata": {},
   "source": [
    "En Python podemos acceder directamente a los elementos de la lista de la siguiente manera: "
   ]
  },
  {
   "cell_type": "code",
   "execution_count": null,
   "metadata": {
    "tags": []
   },
   "outputs": [
    {
     "name": "stdout",
     "output_type": "stream",
     "text": [
      "1982\n",
      "1980\n",
      "1973\n"
     ]
    }
   ],
   "source": [
    "# Exmaple of for loop, loop through list\n",
    "dates = [1982, 1980, 1973]  # Lista de fechas\n",
    "for year in dates:  \n",
    "    print(year)\n",
    "    "
   ]
  },
  {
   "cell_type": "markdown",
   "metadata": {},
   "source": [
    "\n",
    "En cada iteración, el valor de la variable <code>year</code> se comporta de manera similar al valor de <code>dates[i]</code> en el primer ejemplo. Esto significa que, en cada ciclo del bucle, la variable <code>year</code> tomará el valor de cada elemento de la lista <code>dates</code> de acuerdo al índice <code>i</code>."
   ]
  },
  {
   "cell_type": "markdown",
   "metadata": {},
   "source": [
    "<img src=\"https://cf-courses-data.s3.us.cloud-object-storage.appdomain.cloud/IBMDeveloperSkillsNetwork-PY0101EN-SkillsNetwork/labs/Module%203/images/LoopsForList.gif\" width=\"800\">\n"
   ]
  },
  {
   "cell_type": "markdown",
   "metadata": {},
   "source": [
    "Podemos cambiar los elementos de una lista:\n"
   ]
  },
  {
   "cell_type": "code",
   "execution_count": null,
   "metadata": {
    "tags": []
   },
   "outputs": [
    {
     "name": "stdout",
     "output_type": "stream",
     "text": [
      "La fruta en la posición 0 es manzana\n",
      "Ahora la fruta en la posición 0 es mandarina\n",
      "La fruta en la posición 1 es plátano\n",
      "Ahora la fruta en la posición 1 es mandarina\n",
      "La fruta en la posición 2 es cereza\n",
      "Ahora la fruta en la posición 2 es mandarina\n",
      "La fruta en la posición 3 es naranja\n",
      "Ahora la fruta en la posición 3 es mandarina\n"
     ]
    }
   ],
   "source": [
    "frutas = ['manzana', 'plátano', 'cereza', 'naranja']\n",
    "\n",
    "for i in range(0, 4):\n",
    "    print(\"La fruta en la posición\", i, \"es\", frutas[i])\n",
    "    frutas[i] = 'mandarina'\n",
    "    print(\"Ahora la fruta en la posición\", i, \"es\", frutas[i])"
   ]
  },
  {
   "cell_type": "code",
   "execution_count": 19,
   "metadata": {},
   "outputs": [
    {
     "data": {
      "text/plain": [
       "['mandarina', 'mandarina', 'mandarina', 'mandarina']"
      ]
     },
     "execution_count": 19,
     "metadata": {},
     "output_type": "execute_result"
    }
   ],
   "source": [
    "frutas"
   ]
  },
  {
   "cell_type": "markdown",
   "metadata": {},
   "source": [
    "Podemos acceder al índice y a los elementos de una lista de la siguiente manera: "
   ]
  },
  {
   "cell_type": "code",
   "execution_count": 20,
   "metadata": {
    "tags": []
   },
   "outputs": [
    {
     "name": "stdout",
     "output_type": "stream",
     "text": [
      "0 manzana\n",
      "1 plátano\n",
      "2 cereza\n",
      "3 naranja\n"
     ]
    }
   ],
   "source": [
    "# Loop through the list and iterate on both index and element value\n",
    "\n",
    "frutas = ['manzana', 'plátano', 'cereza', 'naranja']\n",
    "\n",
    "for i, fruta in enumerate(frutas):\n",
    "    print(i, fruta)"
   ]
  },
  {
   "cell_type": "code",
   "execution_count": 21,
   "metadata": {},
   "outputs": [
    {
     "name": "stdout",
     "output_type": "stream",
     "text": [
      "['Mi nombre es Ernesto', 'Mi nombre es Camilo', 'Mi nombre es Violeta']\n"
     ]
    }
   ],
   "source": [
    "lista_nombres = ['Ernesto', 'Camilo', 'Violeta']\n",
    "nueva_lista = []\n",
    "\n",
    "for nombre in lista_nombres:\n",
    "    oracion = 'Mi nombre es ' + nombre\n",
    "    nueva_lista.append(oracion)\n",
    "\n",
    "# Este print esta fuera del for, no está indentado\n",
    "print(nueva_lista)"
   ]
  },
  {
   "cell_type": "code",
   "execution_count": 23,
   "metadata": {},
   "outputs": [
    {
     "name": "stdout",
     "output_type": "stream",
     "text": [
      "[20, 29, 42]\n"
     ]
    }
   ],
   "source": [
    "lista_de_edades = [4,20,15,29,11,42,10,18]\n",
    "lista_mayores = []\n",
    "\n",
    "# Queremos armar una lista solo con las edades mayores o iguales a 18\n",
    "for edad in lista_de_edades:\n",
    "    if (edad >= 20):\n",
    "        # Agremos a la lista de mayores\n",
    "        lista_mayores.append(edad)\n",
    "\n",
    "print(lista_mayores)"
   ]
  },
  {
   "cell_type": "markdown",
   "metadata": {},
   "source": [
    "### Ejercicios"
   ]
  },
  {
   "cell_type": "markdown",
   "metadata": {},
   "source": [
    "1. Escribe un bucle <code>for</code> que imprima todos los elementos entre <b>-5</b> y <b>5</b> usando la función <code>range</code>."
   ]
  },
  {
   "cell_type": "code",
   "execution_count": 29,
   "metadata": {
    "tags": []
   },
   "outputs": [
    {
     "name": "stdout",
     "output_type": "stream",
     "text": [
      "-5\n",
      "-4\n",
      "-3\n",
      "-2\n",
      "-1\n",
      "0\n",
      "1\n",
      "2\n",
      "3\n",
      "4\n",
      "5\n"
     ]
    }
   ],
   "source": [
    "# Write your code below and press Shift+Enter to execute\n",
    "for i in range(-5,6):\n",
    "    print(i)"
   ]
  },
  {
   "cell_type": "markdown",
   "metadata": {},
   "source": [
    "2. Imprime los elementos de la siguiente lista: <code>Genres = ['rock', 'R&B', 'Soundtrack', 'R&B', 'soul', 'pop']</code> Asegúrate de seguir las convenciones de Python.\n"
   ]
  },
  {
   "cell_type": "code",
   "execution_count": 11,
   "metadata": {
    "tags": []
   },
   "outputs": [
    {
     "name": "stdout",
     "output_type": "stream",
     "text": [
      "rock\n",
      "R&B\n",
      "Soundtrack\n",
      "R&B\n",
      "soul\n",
      "pop\n"
     ]
    }
   ],
   "source": [
    "# Write your code below and press Shift+Enter to execute\n",
    "Genres=[ 'rock', 'R&B', 'Soundtrack', 'R&B', 'soul', 'pop']\n",
    "\n",
    "for gen in Genres:\n",
    "    print(gen)"
   ]
  },
  {
   "cell_type": "markdown",
   "metadata": {},
   "source": [
    "3. Tu hermano pequeño acaba de aprender las tablas de multiplicar en la escuela. Hoy ha aprendido las tablas del 6 y del 7. Ayúdalo a memorizar ambas tablas imprimiéndolas usando un bucle <code>for</code>."
   ]
  },
  {
   "cell_type": "code",
   "execution_count": null,
   "metadata": {
    "tags": []
   },
   "outputs": [
    {
     "name": "stdout",
     "output_type": "stream",
     "text": [
      "1 x 6 = 6\n",
      "2 x 6 = 12\n",
      "3 x 6 = 18\n",
      "4 x 6 = 24\n",
      "5 x 6 = 30\n",
      "6 x 6 = 36\n",
      "7 x 6 = 42\n",
      "8 x 6 = 48\n",
      "9 x 6 = 54\n",
      "10 x 6 = 60\n",
      "----------\n",
      "1 x 7 = 7\n",
      "2 x 7 = 14\n",
      "3 x 7 = 21\n",
      "4 x 7 = 28\n",
      "5 x 7 = 35\n",
      "6 x 7 = 42\n",
      "7 x 7 = 49\n",
      "8 x 7 = 56\n",
      "9 x 7 = 63\n",
      "10 x 7 = 70\n"
     ]
    }
   ],
   "source": [
    "# Write your code here\n",
    "\n",
    "for i in range(1,11):\n",
    "    \n",
    "    print(f\"{i} x 6 = {i*6}\")\n",
    "    \n",
    "print(\"-\"*10)\n",
    "\n",
    "\n",
    "\n",
    "for i in range(1,11):\n",
    "    print(f\"{i} x 7 = {i*7}\")"
   ]
  },
  {
   "cell_type": "code",
   "execution_count": 24,
   "metadata": {},
   "outputs": [
    {
     "name": "stdout",
     "output_type": "stream",
     "text": [
      "nombre\n",
      "edad\n",
      "ciudad\n"
     ]
    }
   ],
   "source": [
    "datos = {\"nombre\": \"Ana\", \"edad\": 20, \"ciudad\": \"Cartagena\"}\n",
    "\n",
    "for i in datos.keys():\n",
    "    print(i)"
   ]
  },
  {
   "cell_type": "code",
   "execution_count": 27,
   "metadata": {},
   "outputs": [
    {
     "name": "stdout",
     "output_type": "stream",
     "text": [
      "Ana\n",
      "20\n",
      "Cartagena\n"
     ]
    }
   ],
   "source": [
    "datos = {\"nombre\": \"Ana\", \"edad\": 20, \"ciudad\": \"Cartagena\"}\n",
    "\n",
    "for i in datos.values():\n",
    "    print(i)"
   ]
  },
  {
   "cell_type": "code",
   "execution_count": 29,
   "metadata": {},
   "outputs": [
    {
     "name": "stdout",
     "output_type": "stream",
     "text": [
      "nombre: Ana\n",
      "edad: 20\n",
      "ciudad: Cartagena\n"
     ]
    }
   ],
   "source": [
    "for i, val in datos.items():\n",
    "    print(f\"{i}: {val}\")"
   ]
  },
  {
   "cell_type": "code",
   "execution_count": 31,
   "metadata": {},
   "outputs": [
    {
     "name": "stdout",
     "output_type": "stream",
     "text": [
      "Sebas tiene 24 años\n",
      "Andres tiene 30 años\n",
      "Daniela tiene 18 años\n"
     ]
    }
   ],
   "source": [
    "edades = {\"Sebas\": 24, \"Andres\": 30, \"Luis\": 17, \"Daniela\": 18}\n",
    "\n",
    "for i, valor in edades.items():\n",
    "    if valor > 17:\n",
    "        print(f\"{i} tiene {valor} años\")"
   ]
  },
  {
   "cell_type": "code",
   "execution_count": 32,
   "metadata": {},
   "outputs": [
    {
     "data": {
      "text/plain": [
       "{'Sebas': 24, 'Andres': 30}"
      ]
     },
     "execution_count": 32,
     "metadata": {},
     "output_type": "execute_result"
    }
   ],
   "source": [
    "edades = {\"Sebas\": 24, \"Andres\": 30, \"Luis\": 17, \"Daniela\": 18}\n",
    "\n",
    "mayor_edad = {}\n",
    "\n",
    "for i, valor in edades.items():\n",
    "    if valor > 18:\n",
    "        mayor_edad[i] = valor\n",
    "\n",
    "mayor_edad"
   ]
  },
  {
   "cell_type": "markdown",
   "metadata": {},
   "source": [
    "<h3 id=\"while\">Qué es un bucle <code>while</code>?</h3>\n"
   ]
  },
  {
   "cell_type": "markdown",
   "metadata": {},
   "source": [
    "Como puedes ver, el bucle <code>for</code> se usa para un flujo controlado de repetición. Sin embargo, ¿qué pasa si no sabemos cuándo queremos detener el bucle? ¿Qué pasa si queremos seguir ejecutando un bloque de código hasta que se cumpla una cierta condición? El bucle <code>while</code> existe como una herramienta para la ejecución repetida basada en una condición. El bloque de código seguirá siendo ejecutado hasta que la condición lógica dada devuelva un valor booleano False."
   ]
  },
  {
   "cell_type": "markdown",
   "metadata": {},
   "source": [
    "#### Así es como funciona un bucle while:\n",
    "\n",
    "1. Especificas una condición que el bucle verificará antes de cada iteración (repetición) del bloque de código. Esta condición generalmente involucra una **variable de control** que se actualizará durante cada iteración.\n",
    "2. Si la condición es verdadera inicialmente, el bloque de código se ejecuta.\n",
    "3. Después de ejecutar el bloque de código, la condición se verifica nuevamente.\n",
    "4. Si la condición sigue siendo verdadera, el bloque de código se ejecuta de nuevo.\n",
    "5. Los pasos 3 y 4 se repiten hasta que la condición se vuelva falsa.\n",
    "6. Una vez que la condición se vuelve falsa, el bucle se detiene, y el programa continúa con la siguiente línea de código después del bucle.\n"
   ]
  },
  {
   "cell_type": "markdown",
   "metadata": {},
   "source": [
    "**Aquí tienes un ejemplo de un bucle while que imprime los números del 1 al 5:**\n"
   ]
  },
  {
   "cell_type": "code",
   "execution_count": 33,
   "metadata": {
    "tags": []
   },
   "outputs": [
    {
     "name": "stdout",
     "output_type": "stream",
     "text": [
      "1\n",
      "2\n",
      "3\n",
      "4\n",
      "5\n"
     ]
    }
   ],
   "source": [
    "count = 1 # Variable de control\n",
    "\n",
    "while count <= 5: # Condicion\n",
    "    print(count)\n",
    "    count += 1 # Sumar 1 al valor actual de la variable control"
   ]
  },
  {
   "cell_type": "markdown",
   "metadata": {},
   "source": [
    "En este ejemplo, la condición **count <= 5** se verifica antes de cada iteración. Mientras count sea menor o igual a 5, el bloque de código dentro del bucle se ejecutará. Después de cada iteración, el valor de count se incrementa en 1 usando count += 1. Una vez que count llegue a 6, la condición se vuelve falsa y el bucle se detiene."
   ]
  },
  {
   "cell_type": "markdown",
   "metadata": {},
   "source": [
    "**Ejercicio**: Decide si quieres ejecutar el siguiente bloque de código:"
   ]
  },
  {
   "cell_type": "code",
   "execution_count": 35,
   "metadata": {},
   "outputs": [
    {
     "ename": "KeyboardInterrupt",
     "evalue": "",
     "output_type": "error",
     "traceback": [
      "\u001b[1;31m---------------------------------------------------------------------------\u001b[0m",
      "\u001b[1;31mKeyboardInterrupt\u001b[0m                         Traceback (most recent call last)",
      "Cell \u001b[1;32mIn[35], line 3\u001b[0m\n\u001b[0;32m      1\u001b[0m numero \u001b[38;5;241m=\u001b[39m \u001b[38;5;241m1\u001b[39m\n\u001b[1;32m----> 3\u001b[0m \u001b[38;5;28;01mwhile\u001b[39;00m (numero \u001b[38;5;241m>\u001b[39m \u001b[38;5;241m0\u001b[39m):\n\u001b[0;32m      4\u001b[0m     numero \u001b[38;5;241m=\u001b[39m numero \u001b[38;5;241m+\u001b[39m \u001b[38;5;241m1\u001b[39m\n",
      "\u001b[1;31mKeyboardInterrupt\u001b[0m: "
     ]
    }
   ],
   "source": [
    "numero = 1\n",
    "\n",
    "while (numero > 0):\n",
    "    numero = numero + 1"
   ]
  },
  {
   "cell_type": "markdown",
   "metadata": {},
   "source": [
    "Si decidiste ejecutarlo (o corriste la celda antes de leer la consigna), ¡felicitaciones, has colgado por primera vez un programa! Pero como ya dijimos, hay que probar y equivocarse, nada es irreversible. Dirigete a la solapa 'Kernel' del menú y selecciona 'Interrupt'. Lo que sucuede es que la condición del `while` será siempre cierta, por ende nuestro programa se quedará repitiendo el bloque de codigo dentro del loop indefinidamente. Puede averiguar cuantas iteraciones realizo la maquina inspeccionando la variable 'numero':"
   ]
  },
  {
   "cell_type": "code",
   "execution_count": 36,
   "metadata": {},
   "outputs": [
    {
     "name": "stdout",
     "output_type": "stream",
     "text": [
      "80625924\n"
     ]
    }
   ],
   "source": [
    "print(numero)"
   ]
  },
  {
   "cell_type": "markdown",
   "metadata": {},
   "source": [
    "Supongamos que nos gustaría iterar a través de la lista <code>dates</code> y detenernos en el año 1973, luego imprimir el número de iteraciones. Esto se puede hacer con el siguiente bloque de código:"
   ]
  },
  {
   "cell_type": "code",
   "execution_count": 37,
   "metadata": {
    "tags": []
   },
   "outputs": [
    {
     "name": "stdout",
     "output_type": "stream",
     "text": [
      "1982\n",
      "1980\n",
      "Se realizaron  2 iteraciones para salir del bucle.\n"
     ]
    }
   ],
   "source": [
    "dates = [1982, 1980, 1973, 2000]  # Lista de años\n",
    "i = 0  # Índice inicial\n",
    "year = dates[0]  # Año inicial\n",
    "\n",
    "while (year != 1973):  # Mientras el año no sea 1973\n",
    "    print(year)  # Imprime el año actual\n",
    "    i += 1  # Incrementa el índice\n",
    "    year = dates[i]  # Actualiza el año\n",
    "\n",
    "print(\"Se realizaron \", i ,\"iteraciones para salir del bucle.\")  # Muestra cuántas repeticiones se realizaron\n"
   ]
  },
  {
   "cell_type": "markdown",
   "metadata": {},
   "source": [
    "Un bucle while itera simplemente hasta que no se cumple la condición del argumento, como se muestra en la siguiente figura:"
   ]
  },
  {
   "cell_type": "markdown",
   "metadata": {},
   "source": [
    "<img src=\"https://cf-courses-data.s3.us.cloud-object-storage.appdomain.cloud/IBMDeveloperSkillsNetwork-PY0101EN-SkillsNetwork/labs/Module%203/images/LoopsWhile.gif\" width=\"650\">\n"
   ]
  },
  {
   "cell_type": "markdown",
   "metadata": {},
   "source": [
    "**La principal diferencia entre un bucle while y un bucle for en Python radica en cómo controlan el flujo de ejecución y manejan las iteraciones.**\n"
   ]
  },
  {
   "cell_type": "markdown",
   "metadata": {},
   "source": [
    "### Puntos clave del bucle While:\n",
    "\n",
    "1. Un bucle while ejecuta repetidamente un bloque de código mientras una condición dada sea verdadera.\n",
    "2. No tiene un número fijo de iteraciones; sigue ejecutándose hasta que la condición se vuelva falsa.\n",
    "3. La condición se verifica antes de cada iteración, y si es falsa desde el principio, el bloque de código se omite por completo.\n",
    "4. La condición suele depender de una variable o expresión que puede cambiar durante la ejecución del bucle.\n",
    "5. Ofrece mayor flexibilidad en términos de controlar la ejecución del bucle en función de condiciones dinámicas.\n"
   ]
  },
  {
   "cell_type": "markdown",
   "metadata": {},
   "source": [
    "### Puntos clave del bucle For:\n",
    "\n",
    "1. Un bucle for itera sobre una secuencia (como una lista, cadena o rango) o cualquier objeto que soporte la iteración.\n",
    "2. Tiene un número de iteraciones predefinido basado en la longitud de la secuencia o la cantidad de elementos a iterar.\n",
    "3. Maneja automáticamente la iteración y no requiere mantener una variable separada para rastrear el número de iteraciones.\n",
    "4. Simplifica el código al encapsular la lógica de iteración dentro del propio bucle.\n",
    "5. Se usa comúnmente cuando conoces el número exacto de iteraciones o necesitas iterar sobre cada elemento en una colección.\n"
   ]
  },
  {
   "cell_type": "markdown",
   "metadata": {},
   "source": [
    "### Ejercicios"
   ]
  },
  {
   "cell_type": "markdown",
   "metadata": {},
   "source": [
    "1. Imagina que estás caminando en un parque y deseas contar los pasos que das. El objetivo es que el bucle continúe contando hasta que llegues a 20 pasos. Una vez que llegues, el bucle debe detenerse y mostrar un mensaje diciendo que has alcanzado los 20 pasos."
   ]
  },
  {
   "cell_type": "code",
   "execution_count": 38,
   "metadata": {},
   "outputs": [
    {
     "name": "stdout",
     "output_type": "stream",
     "text": [
      "Has dado 1 pasos.\n",
      "Has dado 2 pasos.\n",
      "Has dado 3 pasos.\n",
      "Has dado 4 pasos.\n",
      "Has dado 5 pasos.\n",
      "Has dado 6 pasos.\n",
      "Has dado 7 pasos.\n",
      "Has dado 8 pasos.\n",
      "Has dado 9 pasos.\n",
      "Has dado 10 pasos.\n",
      "Has dado 11 pasos.\n",
      "Has dado 12 pasos.\n",
      "Has dado 13 pasos.\n",
      "Has dado 14 pasos.\n",
      "Has dado 15 pasos.\n",
      "Has dado 16 pasos.\n",
      "Has dado 17 pasos.\n",
      "Has dado 18 pasos.\n",
      "Has dado 19 pasos.\n",
      "Has dado 20 pasos.\n",
      "¡Felicidades! Has llegado a 20 pasos.\n"
     ]
    }
   ],
   "source": [
    "pasos = 0\n",
    "\n",
    "while pasos < 20:\n",
    "    pasos += 1  # Se incrementa el contador de pasos\n",
    "    print(f\"Has dado {pasos} pasos.\")\n",
    "\n",
    "print(\"¡Felicidades! Has llegado a 20 pasos.\")\n"
   ]
  },
  {
   "cell_type": "markdown",
   "metadata": {},
   "source": [
    "2. Supongamos que estás esperando un tren y cada 10 minutos miras el reloj. Quieres seguir esperando hasta que pase una hora. Utiliza un bucle while para imprimir el mensaje \"El tren llegará pronto.\" cada vez que pasen 10 minutos, hasta que haya pasado una hora."
   ]
  },
  {
   "cell_type": "code",
   "execution_count": null,
   "metadata": {},
   "outputs": [
    {
     "name": "stdout",
     "output_type": "stream",
     "text": [
      "El tren llegará pronto, han pasado 10 minutos\n",
      "El tren llegará pronto, han pasado 20 minutos\n",
      "El tren llegará pronto, han pasado 30 minutos\n",
      "El tren llegará pronto, han pasado 40 minutos\n",
      "El tren llegará pronto, han pasado 50 minutos\n",
      "El tren llegará pronto, han pasado 60 minutos\n",
      "Ha pasado una hora de espera.\n"
     ]
    }
   ],
   "source": [
    "tiempo_espera = 0\n",
    "\n",
    "while tiempo_espera < 60:\n",
    "    tiempo_espera += 10  # Aumenta el tiempo de espera\n",
    "    print(f\"El tren llegará pronto, han pasado {tiempo_espera} minutos\")\n",
    "\n",
    "print(\"Ha pasado una hora de espera.\")"
   ]
  }
 ],
 "metadata": {
  "kernelspec": {
   "display_name": "base",
   "language": "python",
   "name": "python3"
  },
  "language_info": {
   "codemirror_mode": {
    "name": "ipython",
    "version": 3
   },
   "file_extension": ".py",
   "mimetype": "text/x-python",
   "name": "python",
   "nbconvert_exporter": "python",
   "pygments_lexer": "ipython3",
   "version": "3.12.4"
  }
 },
 "nbformat": 4,
 "nbformat_minor": 4
}
