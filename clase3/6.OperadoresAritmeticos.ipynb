{
  "cells": [
    {
      "cell_type": "markdown",
      "metadata": {
        "id": "Zip2yREWPBN0"
      },
      "source": [
        "### 5.0 Operadores arimeticos\n",
        "Con las variables que definimos, podemos realizar distintas operaciones. Dependiendo el tipo de variable, hay diferentes operaciones diponibles.\n",
        "\n",
        "#### 5.1. Operaciones con números"
      ]
    },
    {
      "cell_type": "code",
      "execution_count": null,
      "metadata": {
        "id": "QbeN4rjGPBN2",
        "outputId": "11936930-62d9-478f-8412-a76bd1c42a44"
      },
      "outputs": [
        {
          "name": "stdout",
          "output_type": "stream",
          "text": [
            "24\n",
            "16\n"
          ]
        }
      ],
      "source": [
        "# Se pueden realizar las operaciones basicas entre numeros\n",
        "a = 20\n",
        "b = 4\n",
        "print(a+b)\n",
        "print(a-b)"
      ]
    },
    {
      "cell_type": "code",
      "execution_count": null,
      "metadata": {
        "id": "x7NDD_tJPBN6",
        "outputId": "0ed7e62c-8b1c-4076-802b-db325aea7560"
      },
      "outputs": [
        {
          "name": "stdout",
          "output_type": "stream",
          "text": [
            "24.5\n",
            "15.5\n"
          ]
        }
      ],
      "source": [
        "# Se pueden realizar las operaciones incluso entre distintos tipos de variables\n",
        "a = 20\n",
        "b = 4.5\n",
        "\n",
        "c = a+b\n",
        "d = a-b\n",
        "\n",
        "print(c)\n",
        "print(d)"
      ]
    },
    {
      "cell_type": "code",
      "execution_count": null,
      "metadata": {
        "id": "yZLqW2ZYPBN_"
      },
      "outputs": [],
      "source": [
        "# Notemos que estos resultados son de tipo float\n",
        "print(type(c))\n",
        "print(type(d))"
      ]
    },
    {
      "cell_type": "code",
      "execution_count": null,
      "metadata": {
        "id": "z9kq2lEVPBOF",
        "outputId": "cd3c46b6-789f-496e-993b-b9377291cef1"
      },
      "outputs": [
        {
          "name": "stdout",
          "output_type": "stream",
          "text": [
            "3.3333333333333335\n"
          ]
        }
      ],
      "source": [
        "# Podemos dividir dos numeros\n",
        "x = 10\n",
        "y = 3\n",
        "z = x/y\n",
        "print(z)"
      ]
    },
    {
      "cell_type": "code",
      "execution_count": null,
      "metadata": {
        "id": "IgJQDZ7MPBOI",
        "outputId": "c2928a3d-0ca3-4dd1-d91f-1cccba7c94fe"
      },
      "outputs": [
        {
          "name": "stdout",
          "output_type": "stream",
          "text": [
            "<class 'float'>\n"
          ]
        }
      ],
      "source": [
        "# Notemos que, a pesar de venir de una operación entre dos enteros,\n",
        "# z es de tipo float\n",
        "print(type(z))"
      ]
    },
    {
      "cell_type": "code",
      "execution_count": null,
      "metadata": {
        "id": "tZWn26P9PBON",
        "outputId": "21bc6ec8-8f64-42ac-cef3-8f14468189a8"
      },
      "outputs": [
        {
          "name": "stdout",
          "output_type": "stream",
          "text": [
            "1\n",
            "<class 'int'>\n"
          ]
        }
      ],
      "source": [
        "# Esta operación es muy usada en computación, nos devuelve el resto de la división\n",
        "x = 10\n",
        "y = 3\n",
        "print(x%y)\n",
        "print(type(x%y))"
      ]
    },
    {
      "cell_type": "markdown",
      "metadata": {
        "id": "-5X5DceISQ-O"
      },
      "source": [
        "**Ejercicio**: Calcular el porcentaje que representa el valor 17 sobre un total de 54 y guardarlo en una variable llamada 'porcentaje'."
      ]
    },
    {
      "cell_type": "markdown",
      "metadata": {
        "id": "qUnNrBQMTIMb"
      },
      "source": [
        "porcentaje = 17*100/54\n",
        "print(porcentaje)"
      ]
    },
    {
      "cell_type": "markdown",
      "metadata": {
        "id": "Eq2Zw2imPBOQ"
      },
      "source": [
        "#### Operaciones con Texto"
      ]
    },
    {
      "cell_type": "code",
      "execution_count": null,
      "metadata": {
        "id": "MvMmHUutPBOR",
        "outputId": "83fb1d19-489e-4090-8660-234f13457f7f"
      },
      "outputs": [
        {
          "name": "stdout",
          "output_type": "stream",
          "text": [
            "Los textos se concatenan.\n"
          ]
        }
      ],
      "source": [
        "txt_1 = 'Los textos'\n",
        "txt_2 = ' se concatenan.'\n",
        "print(txt_1 + txt_2)"
      ]
    },
    {
      "cell_type": "code",
      "execution_count": null,
      "metadata": {
        "id": "tFVge951PBOW",
        "outputId": "b13c27b7-ba40-4ac8-ca88-191aa3dd1e00"
      },
      "outputs": [
        {
          "name": "stdout",
          "output_type": "stream",
          "text": [
            "Los textos se multiplican. Los textos se multiplican. \n"
          ]
        }
      ],
      "source": [
        "txt_3 = 'Los textos se multiplican. '\n",
        "print(txt_3 * 2)"
      ]
    },
    {
      "cell_type": "code",
      "execution_count": null,
      "metadata": {
        "id": "eowEHnQxPBOh",
        "outputId": "e7610cd8-9d67-4fa0-f442-eeeb7b2313b9"
      },
      "outputs": [
        {
          "ename": "TypeError",
          "evalue": "unsupported operand type(s) for -: 'str' and 'str'",
          "output_type": "error",
          "traceback": [
            "\u001b[0;31m---------------------------------------------------------------------------\u001b[0m",
            "\u001b[0;31mTypeError\u001b[0m                                 Traceback (most recent call last)",
            "\u001b[0;32m<ipython-input-23-def6c3f4c5e8>\u001b[0m in \u001b[0;36m<module>\u001b[0;34m\u001b[0m\n\u001b[1;32m      1\u001b[0m \u001b[0mb\u001b[0m \u001b[0;34m=\u001b[0m \u001b[0;34m'Los textos'\u001b[0m\u001b[0;34m\u001b[0m\u001b[0;34m\u001b[0m\u001b[0m\n\u001b[1;32m      2\u001b[0m \u001b[0mc\u001b[0m \u001b[0;34m=\u001b[0m \u001b[0;34m' no se restan.'\u001b[0m\u001b[0;34m\u001b[0m\u001b[0;34m\u001b[0m\u001b[0m\n\u001b[0;32m----> 3\u001b[0;31m \u001b[0mprint\u001b[0m\u001b[0;34m(\u001b[0m\u001b[0mb\u001b[0m \u001b[0;34m-\u001b[0m \u001b[0mc\u001b[0m\u001b[0;34m)\u001b[0m\u001b[0;34m\u001b[0m\u001b[0;34m\u001b[0m\u001b[0m\n\u001b[0m",
            "\u001b[0;31mTypeError\u001b[0m: unsupported operand type(s) for -: 'str' and 'str'"
          ]
        }
      ],
      "source": [
        "b = 'Los textos'\n",
        "c = ' no se restan.'\n",
        "print(b - c)"
      ]
    },
    {
      "cell_type": "markdown",
      "metadata": {
        "id": "IADvs1-uPBOm"
      },
      "source": [
        "**Nota**: No nos cansaremos de decirles que presten atención a los mensajes de error."
      ]
    },
    {
      "cell_type": "code",
      "execution_count": null,
      "metadata": {
        "id": "14fD4pOGPBOn",
        "outputId": "d6afa2f0-6a69-46f4-e6aa-e073a2013ab2"
      },
      "outputs": [
        {
          "ename": "TypeError",
          "evalue": "can only concatenate str (not \"int\") to str",
          "output_type": "error",
          "traceback": [
            "\u001b[0;31m---------------------------------------------------------------------------\u001b[0m",
            "\u001b[0;31mTypeError\u001b[0m                                 Traceback (most recent call last)",
            "\u001b[0;32m<ipython-input-24-5630403cc9e5>\u001b[0m in \u001b[0;36m<module>\u001b[0;34m\u001b[0m\n\u001b[1;32m      2\u001b[0m \u001b[0mb\u001b[0m \u001b[0;34m=\u001b[0m \u001b[0;34m'Mi edad es '\u001b[0m\u001b[0;34m\u001b[0m\u001b[0;34m\u001b[0m\u001b[0m\n\u001b[1;32m      3\u001b[0m \u001b[0mc\u001b[0m \u001b[0;34m=\u001b[0m \u001b[0;36m28\u001b[0m\u001b[0;34m\u001b[0m\u001b[0;34m\u001b[0m\u001b[0m\n\u001b[0;32m----> 4\u001b[0;31m \u001b[0mprint\u001b[0m\u001b[0;34m(\u001b[0m\u001b[0mb\u001b[0m \u001b[0;34m+\u001b[0m \u001b[0mc\u001b[0m\u001b[0;34m)\u001b[0m\u001b[0;34m\u001b[0m\u001b[0;34m\u001b[0m\u001b[0m\n\u001b[0m",
            "\u001b[0;31mTypeError\u001b[0m: can only concatenate str (not \"int\") to str"
          ]
        }
      ],
      "source": [
        "# Que pasa si queremos sumar un número al texto?\n",
        "b = 'Mi edad es '\n",
        "c = 28\n",
        "print(b + c)"
      ]
    },
    {
      "cell_type": "markdown",
      "metadata": {
        "id": "AdySRkr3PBOp"
      },
      "source": [
        "El error nos dice que a los 'string' solo se le pueden concatenar otros 'strings' (no enteros). La manera correcta sería entonces:"
      ]
    },
    {
      "cell_type": "code",
      "execution_count": null,
      "metadata": {
        "id": "zWPtmEdFPBOr",
        "outputId": "6c7445f2-8241-4582-8686-de2fb1d0be20"
      },
      "outputs": [
        {
          "name": "stdout",
          "output_type": "stream",
          "text": [
            "Mi edad es 28\n"
          ]
        }
      ],
      "source": [
        "# Que pasa si queremos sumar un número al texto?\n",
        "b = 'Mi edad es '\n",
        "c = 28\n",
        "print(b + str(c))"
      ]
    },
    {
      "cell_type": "markdown",
      "metadata": {
        "id": "Cpb9WziZTUcO"
      },
      "source": [
        "**Ejercicio**: Armar la frase 'El gran gran gran gran gran castillo mide 50 metros.' a partir de operar con las siguientes variables (viene con trampita):"
      ]
    },
    {
      "cell_type": "code",
      "execution_count": null,
      "metadata": {
        "id": "4K9QTbTMT8gE",
        "outputId": "e818dc70-a80d-4d83-84a5-a2aa87d45f71"
      },
      "outputs": [
        {
          "name": "stdout",
          "output_type": "stream",
          "text": [
            "El gran gran gran gran gran castillo mide 50 metros.\n"
          ]
        }
      ],
      "source": [
        "txt1 = 'gran '\n",
        "txt2 = 'El '\n",
        "tet3 = 'mide '\n",
        "txt4 = ' metros.'\n",
        "numero = 50\n",
        "\n",
        "frase = txt2 + 5*txt1 + 'castillo '+ tet3 + str(numero) + txt4\n",
        "print(frase)"
      ]
    },
    {
      "cell_type": "markdown",
      "metadata": {
        "id": "tY9du3p-PBOt"
      },
      "source": [
        "#### 5.2 Operaciones Lógicas"
      ]
    },
    {
      "cell_type": "code",
      "execution_count": null,
      "metadata": {
        "id": "mHPhaiiJPBOv",
        "outputId": "233add10-5ef8-4512-c53c-dcd73ba11a6e"
      },
      "outputs": [
        {
          "name": "stdout",
          "output_type": "stream",
          "text": [
            "True\n"
          ]
        }
      ],
      "source": [
        "variable_1 = True\n",
        "variable_2 = False\n",
        "print(variable_1 or variable_2)"
      ]
    },
    {
      "cell_type": "code",
      "execution_count": null,
      "metadata": {
        "id": "kv2eNRpePBOy",
        "outputId": "354f1f5a-3c36-48c3-865a-27c54046383f"
      },
      "outputs": [
        {
          "name": "stdout",
          "output_type": "stream",
          "text": [
            "False\n"
          ]
        }
      ],
      "source": [
        "print(not(variable_1))"
      ]
    },
    {
      "cell_type": "code",
      "execution_count": null,
      "metadata": {
        "id": "i9QxO0SgPBO3",
        "outputId": "ce1f57f7-67c9-46bc-8ced-59e1dd1c977e"
      },
      "outputs": [
        {
          "name": "stdout",
          "output_type": "stream",
          "text": [
            "False\n"
          ]
        }
      ],
      "source": [
        "variable_3 = variable_1 and variable_2\n",
        "print(variable_3)"
      ]
    },
    {
      "cell_type": "markdown",
      "metadata": {
        "id": "Rdo5rRsdPBO7"
      },
      "source": [
        "## 6.0 Loops y Condicionales"
      ]
    },
    {
      "cell_type": "markdown",
      "metadata": {
        "id": "b0wCmLL2PBPC"
      },
      "source": [
        "Podemos inspeccionar elementos de una lista accediendo a una determinada posición de la misma. Los índices de las posiciones empiezan en 0, y se especifican poniendo corchetes con el índice dentro luego del nombre de la lista:"
      ]
    },
    {
      "cell_type": "markdown",
      "metadata": {
        "id": "oGW0jo5hPBPZ"
      },
      "source": [
        "### 6.1 Loops\n",
        "Los **Loops** son estructuras de codigo fundamentales en cualquier lenguaje de programación. Son bloques de código que se repiten dada una cierta cantidad de veces dada una condición.\n",
        "\n",
        "#### 6.1.1 For\n",
        "El For es un loop en el que un bloque de código se repite tantas veces como elementos haya en una determinada lista. En cada iteración (repetición) hay una variable que va tomando el valor de uno de los elementos en esta lista."
      ]
    },
    {
      "cell_type": "code",
      "execution_count": null,
      "metadata": {
        "id": "hZw979QmPBPa",
        "outputId": "a82be6a9-6bc5-460f-adb2-5ae397d44fac"
      },
      "outputs": [
        {
          "name": "stdout",
          "output_type": "stream",
          "text": [
            "3\n",
            "55\n",
            "1\n",
            "876\n",
            "12\n"
          ]
        }
      ],
      "source": [
        "lista_numeros = [3,55,1,876,12]\n",
        "\n",
        "# Definimos el codigo dentro del for mediante la indentación\n",
        "# (Todo lo que este corrido un 'tab' a la derecha)\n",
        "for elemento in lista_numeros:\n",
        "    print(elemento)"
      ]
    },
    {
      "cell_type": "code",
      "execution_count": null,
      "metadata": {
        "id": "kpqiAZb-PBPd",
        "outputId": "c8bf04a6-43cf-44f0-e8b6-4967cda78333"
      },
      "outputs": [
        {
          "name": "stdout",
          "output_type": "stream",
          "text": [
            "3\n",
            "55\n",
            "1\n",
            "876\n",
            "12\n"
          ]
        }
      ],
      "source": [
        "# Repitamos los mismo que la celda anteriro\n",
        "# pero ahora agregemos una variable i\n",
        "# que cuente la cantidad de veces que ese corre el codigo\n",
        "\n",
        "lista_numeros = [3,55,1,876,12]\n",
        "\n",
        "# La iniciamos en cero\n",
        "i = 0\n",
        "\n",
        "for elemento in lista_numeros:\n",
        "\n",
        "    # Le sumamos 1 cada vez que entra\n",
        "    i = i+1\n",
        "    print(elemento)"
      ]
    },
    {
      "cell_type": "code",
      "execution_count": null,
      "metadata": {
        "id": "hsb4LLSdPBPh",
        "outputId": "d0bea540-8c45-4a71-d10a-bda1bec508df"
      },
      "outputs": [
        {
          "name": "stdout",
          "output_type": "stream",
          "text": [
            "5\n"
          ]
        }
      ],
      "source": [
        "print(i)"
      ]
    },
    {
      "cell_type": "markdown",
      "metadata": {
        "id": "Qbz2a3orPBPl"
      },
      "source": [
        "También podemos recorrer listas de texto. Presten atencion al siguiente codigo, e intenten precedir el resultado antes de correr la celda."
      ]
    },
    {
      "cell_type": "code",
      "execution_count": null,
      "metadata": {
        "id": "z1jQ13uzPBPm",
        "outputId": "5e2a3a2a-f824-4512-d3a9-3e982f73a889"
      },
      "outputs": [
        {
          "name": "stdout",
          "output_type": "stream",
          "text": [
            "['Mi nombre es Ernesto', 'Mi nombre es Camilo', 'Mi nombre es Violeta']\n"
          ]
        }
      ],
      "source": [
        "lista_nombres = ['Ernesto', 'Camilo', 'Violeta']\n",
        "nueva_lista = []\n",
        "\n",
        "for item in lista_nombres:\n",
        "    oracion = 'Mi nombre es ' + item\n",
        "    nueva_lista.append(oracion)\n",
        "\n",
        "# Este print esta fuera del for, no está indentado\n",
        "print(nueva_lista)"
      ]
    },
    {
      "cell_type": "markdown",
      "metadata": {
        "id": "565EnFNTVU3V"
      },
      "source": [
        "**Ejercicio**: Genere una lista llamada 'numerotes' que contenga el cuadrado de cada elemento en la lista 'numeritos'."
      ]
    },
    {
      "cell_type": "code",
      "execution_count": null,
      "metadata": {
        "id": "YB0EcpVqV3hY",
        "outputId": "39f3dd9a-525f-433c-cd0c-cc519a15de7c"
      },
      "outputs": [
        {
          "name": "stdout",
          "output_type": "stream",
          "text": [
            "[9, 1, 25, 49, 144, 100, 289, 16, 484]\n"
          ]
        }
      ],
      "source": [
        "numeritos = [3,1,5,7,12,10,17,4,22]\n",
        "\n",
        "numerotes = []\n",
        "\n",
        "for numero in numeritos:\n",
        "    numerotes.append(numero**2)\n",
        "\n",
        "print(numerotes)"
      ]
    },
    {
      "cell_type": "markdown",
      "metadata": {
        "id": "S8lTPAaiPBPo"
      },
      "source": [
        "\n",
        "#### 6.1.2 While\n",
        "El while repite un bloque de código mientras se cumpla una cierta condición que le ponemos. Para mayor claridad, pondremos la condición dentro de parentesis '()'."
      ]
    },
    {
      "cell_type": "code",
      "execution_count": null,
      "metadata": {
        "id": "EFy5Woa-PBPp",
        "outputId": "4d89284f-3100-4930-ed5c-37f9c0d3a02b"
      },
      "outputs": [
        {
          "name": "stdout",
          "output_type": "stream",
          "text": [
            "1\n",
            "2\n",
            "3\n",
            "4\n"
          ]
        }
      ],
      "source": [
        "numero = 1\n",
        "\n",
        "while (numero < 5):\n",
        "    print(numero)\n",
        "    numero = numero + 1"
      ]
    },
    {
      "cell_type": "code",
      "execution_count": null,
      "metadata": {
        "id": "ub1o-7-aPBPr",
        "outputId": "6b5b5c29-4b36-4991-983c-dbd1df229337"
      },
      "outputs": [
        {
          "name": "stdout",
          "output_type": "stream",
          "text": [
            "True\n"
          ]
        },
        {
          "data": {
            "text/plain": [
              "bool"
            ]
          },
          "execution_count": 24,
          "metadata": {},
          "output_type": "execute_result"
        }
      ],
      "source": [
        "# La condición debe ser una operación lógica y dar como resultado un booleano\n",
        "print(2 < 5)\n",
        "type(2 < 5)"
      ]
    },
    {
      "cell_type": "code",
      "execution_count": null,
      "metadata": {
        "id": "CnqMdJlEPBPv",
        "outputId": "b268681a-f463-4640-f666-52c1866389eb"
      },
      "outputs": [
        {
          "name": "stdout",
          "output_type": "stream",
          "text": [
            "False\n"
          ]
        },
        {
          "data": {
            "text/plain": [
              "bool"
            ]
          },
          "execution_count": 25,
          "metadata": {},
          "output_type": "execute_result"
        }
      ],
      "source": [
        "print(5 < 5)\n",
        "type(5 < 5)"
      ]
    },
    {
      "cell_type": "markdown",
      "metadata": {
        "id": "lbjDKBFTPBPy"
      },
      "source": [
        "**Ejercicio**: Decida si quiere ejecutar el siguiente bloque de código."
      ]
    },
    {
      "cell_type": "code",
      "execution_count": 1,
      "metadata": {
        "id": "11Yjx3U2PBPy",
        "outputId": "042ac6dc-4b36-4ae1-96c2-14c37bd62d9f"
      },
      "outputs": [
        {
          "ename": "KeyboardInterrupt",
          "evalue": "",
          "output_type": "error",
          "traceback": [
            "\u001b[1;31m---------------------------------------------------------------------------\u001b[0m",
            "\u001b[1;31mKeyboardInterrupt\u001b[0m                         Traceback (most recent call last)",
            "Cell \u001b[1;32mIn[1], line 3\u001b[0m\n\u001b[0;32m      1\u001b[0m numero \u001b[38;5;241m=\u001b[39m \u001b[38;5;241m1\u001b[39m\n\u001b[1;32m----> 3\u001b[0m \u001b[38;5;28;01mwhile\u001b[39;00m (numero \u001b[38;5;241m>\u001b[39m \u001b[38;5;241m0\u001b[39m):\n\u001b[0;32m      4\u001b[0m     numero \u001b[38;5;241m=\u001b[39m numero \u001b[38;5;241m+\u001b[39m \u001b[38;5;241m1\u001b[39m\n",
            "\u001b[1;31mKeyboardInterrupt\u001b[0m: "
          ]
        }
      ],
      "source": [
        "numero = 1\n",
        "\n",
        "while (numero > 0):\n",
        "    numero = numero + 1"
      ]
    },
    {
      "cell_type": "markdown",
      "metadata": {
        "id": "BdO41jDPPBP0"
      },
      "source": [
        "Si decidió ejecutarlo (o corrió la celda antes de leer la consigna), ¡felicitaciones, usted ha colgado por primera vez un programa! Pero como ya dijimos, hay que probar y equivocarse, nada es irreversible. Vaya a la solapa 'Kernel' del menú y seleccione 'Interrupt'. Lo que sucuede es que la condición del `while` será siempre cierta, por ende nuestro programa se quedará repitiendo el bloque de codigo dentro del loop indefinidamente. Puede averiguar cuantas iteraciones realizo la maquina inspeccionando la variable 'numero':"
      ]
    },
    {
      "cell_type": "code",
      "execution_count": 2,
      "metadata": {
        "id": "UGOMivAkPBP0",
        "outputId": "6db26dd1-8eb2-460d-b4d7-c4906aa08781"
      },
      "outputs": [
        {
          "name": "stdout",
          "output_type": "stream",
          "text": [
            "834235315\n"
          ]
        }
      ],
      "source": [
        "print(numero)"
      ]
    },
    {
      "cell_type": "markdown",
      "metadata": {
        "id": "wSghbQot0SP9"
      },
      "source": [
        "¡Notar qué rápido la computadora hace algunas operaciones!"
      ]
    },
    {
      "cell_type": "markdown",
      "metadata": {
        "id": "oa016g7sPBP2"
      },
      "source": [
        "### 6.2 Condicionales\n",
        "Los condicionales son un bloque de codigo que se ejecuta solo en el caso que se cumpla una dada condición.\n",
        "\n",
        "### 6.2.1 If\n",
        "El condicional más simple es el `if`. Nuevamente para mayor claridad escribiremos la condicion entre parentesis (), aunque esto no es necesario."
      ]
    },
    {
      "cell_type": "code",
      "execution_count": null,
      "metadata": {
        "id": "TYisVuiEPBP4",
        "outputId": "25193afc-afbe-4473-d010-92906654846b"
      },
      "outputs": [
        {
          "name": "stdout",
          "output_type": "stream",
          "text": [
            "El valor el mayo que 10\n"
          ]
        }
      ],
      "source": [
        "valor = 15\n",
        "\n",
        "if (valor > 10):\n",
        "    print('El valor el mayo que 10')"
      ]
    },
    {
      "cell_type": "markdown",
      "metadata": {
        "id": "-hz-IXpJPBP6"
      },
      "source": [
        "La condición que escribimos debe ser una operación lógica que da como resultado un booleano."
      ]
    },
    {
      "cell_type": "code",
      "execution_count": null,
      "metadata": {
        "id": "BCXXXwRMPBP7",
        "outputId": "bb39079d-bbb5-41fd-c147-2a9b0fab4dda"
      },
      "outputs": [
        {
          "name": "stdout",
          "output_type": "stream",
          "text": [
            "True\n"
          ]
        }
      ],
      "source": [
        "print(15 > 10)"
      ]
    },
    {
      "cell_type": "code",
      "execution_count": null,
      "metadata": {
        "id": "PshNhscXPBP9",
        "outputId": "4c59549e-0e64-4ff9-c381-bacbdbb1d58c"
      },
      "outputs": [
        {
          "name": "stdout",
          "output_type": "stream",
          "text": [
            "<class 'bool'>\n"
          ]
        }
      ],
      "source": [
        "print(type(15 > 10))"
      ]
    },
    {
      "cell_type": "markdown",
      "metadata": {
        "id": "zaIO1UwlPBP_"
      },
      "source": [
        "### 6.2.2 If, Else\n",
        "A este condicional se le peude agregar otro bloque de codigo que se ejecute si la condición exigida NO se cuemple. Esto se logra mediante la expresión 'else'."
      ]
    },
    {
      "cell_type": "code",
      "execution_count": null,
      "metadata": {
        "id": "Hf8xuG6iPBP_",
        "outputId": "648aeb46-8db8-4669-d339-68d15dd47413"
      },
      "outputs": [
        {
          "name": "stdout",
          "output_type": "stream",
          "text": [
            "Esta persona NO se llama Juan\n"
          ]
        }
      ],
      "source": [
        "nombre = 'Pedro'\n",
        "\n",
        "if (nombre == 'Juan'):\n",
        "    print('Esta persona se llama Juan')\n",
        "else:\n",
        "    print('Esta persona NO se llama Juan')"
      ]
    },
    {
      "cell_type": "code",
      "execution_count": null,
      "metadata": {
        "id": "GVfCLIQyPBQB",
        "outputId": "4adefa9e-a63d-4f36-8ce8-300987c706d1"
      },
      "outputs": [
        {
          "data": {
            "text/plain": [
              "False"
            ]
          },
          "execution_count": 32,
          "metadata": {},
          "output_type": "execute_result"
        }
      ],
      "source": [
        "'Juan'=='Pedro'"
      ]
    },
    {
      "cell_type": "markdown",
      "metadata": {
        "id": "1AJNWoqhPBQJ"
      },
      "source": [
        "### 6.2.3 If, Elif, Else\n",
        "A esta estructura se le pueden sumar tantas condiciones encadenadas como uno desee, mediante la expresión `elif`. El orden en que se van chequeando las condiciones depende de su posición, priemero se chequea el `if`, luego el primer `elif`, luego el segundo, y así sucesivamente."
      ]
    },
    {
      "cell_type": "code",
      "execution_count": null,
      "metadata": {
        "id": "psA9onaFPBQL",
        "outputId": "6ea15df0-f8cd-4bf0-f932-5f706e18ffa0"
      },
      "outputs": [
        {
          "name": "stdout",
          "output_type": "stream",
          "text": [
            "Esta persona tiene mas de 18 años\n"
          ]
        }
      ],
      "source": [
        "edad = 20\n",
        "\n",
        "if (edad < 18):\n",
        "    print('Esta persona tiene menos de 18 años')\n",
        "elif (edad > 18):\n",
        "    print('Esta persona tiene mas de 18 años')\n",
        "else:\n",
        "    print('Esta persona tiene justo 18 años')"
      ]
    },
    {
      "cell_type": "markdown",
      "metadata": {
        "id": "ZHXdIEkSW6wa"
      },
      "source": [
        "**Ejercicio**: Escriba un bloque de código que, dado un número, imprima la frase 'El numero es par' si el número es par o la frase 'El numero es impar' si no lo es."
      ]
    },
    {
      "cell_type": "code",
      "execution_count": null,
      "metadata": {
        "id": "7uWbEw9BYAL4",
        "outputId": "d3e970a3-b8c5-4b03-ecd9-6d80aa6828fc"
      },
      "outputs": [
        {
          "name": "stdout",
          "output_type": "stream",
          "text": [
            "Es impar\n"
          ]
        }
      ],
      "source": [
        "numero = 17\n",
        "\n",
        "if numero%2==0:\n",
        "    print('Es par')\n",
        "else:\n",
        "    print('Es impar')"
      ]
    },
    {
      "cell_type": "markdown",
      "metadata": {
        "id": "qecxWClXPBQM"
      },
      "source": [
        "### Combinando estructuras de código\n",
        "Las estructuras de loops y condicionales que aprendimos se pueden combinar para generar comportamientos más complejos."
      ]
    },
    {
      "cell_type": "code",
      "execution_count": null,
      "metadata": {
        "id": "69DHgsOjPBQN",
        "outputId": "deb7b751-5678-47ff-9949-3b5712256120"
      },
      "outputs": [
        {
          "name": "stdout",
          "output_type": "stream",
          "text": [
            "[20, 29, 42, 18]\n"
          ]
        }
      ],
      "source": [
        "lista_de_edades = [4,20,15,29,11,42,10,18]\n",
        "lista_mayores = []\n",
        "\n",
        "# Queremos armar una lista solo con las edades mayores o iguales a 18\n",
        "for edad in lista_de_edades:\n",
        "    if (edad >= 18):\n",
        "        # Agremos a la lista de mayores\n",
        "        lista_mayores.append(edad)\n",
        "\n",
        "print(lista_mayores)"
      ]
    },
    {
      "cell_type": "markdown",
      "metadata": {
        "id": "ztSrrW-jPBQQ"
      },
      "source": [
        "## Ejercicios integradores y de repaso\n",
        "\n",
        "A continuación dejamos muchos ejercicios. ¡No se preocupen si no pueden hacer todos!\n"
      ]
    },
    {
      "cell_type": "markdown",
      "metadata": {
        "id": "djx6Sf_l0SP-"
      },
      "source": [
        "Operaciones Booleanas Básicas"
      ]
    },
    {
      "cell_type": "code",
      "execution_count": null,
      "metadata": {
        "id": "DTseUg7U0SP-",
        "outputId": "e0500670-d653-4b42-82be-6400761d2757"
      },
      "outputs": [
        {
          "name": "stdout",
          "output_type": "stream",
          "text": [
            "True False False\n",
            "True True False\n"
          ]
        }
      ],
      "source": [
        "print(True and True, True and False, False and False)\n",
        "print(True or True, True or False, False or False)"
      ]
    },
    {
      "cell_type": "markdown",
      "metadata": {
        "id": "EvmHInAv0SP-"
      },
      "source": [
        "**Ejercicio**: Hacer una declaración if/else que compare dos variables y que decida cuál es mayor."
      ]
    },
    {
      "cell_type": "code",
      "execution_count": null,
      "metadata": {
        "id": "Dr0E-5uB0SP_",
        "outputId": "f51e3cce-c2b5-4fad-cf5a-3a425ec4c242"
      },
      "outputs": [
        {
          "name": "stdout",
          "output_type": "stream",
          "text": [
            "B es mayor a A\n"
          ]
        }
      ],
      "source": [
        "A = 3\n",
        "B = 4\n",
        "if A>B :\n",
        "    print('A es mayor a B' )\n",
        "else:\n",
        "    print('B es mayor a A')"
      ]
    },
    {
      "cell_type": "markdown",
      "metadata": {
        "id": "umPxb_zF0SP_"
      },
      "source": [
        "**Ejercicio**: Dada la siguiente lista de numeros:"
      ]
    },
    {
      "cell_type": "code",
      "execution_count": null,
      "metadata": {
        "id": "nixTh2uwPBQQ",
        "outputId": "e672c504-2e87-4152-81ce-c628698ef2f0"
      },
      "outputs": [
        {
          "name": "stdout",
          "output_type": "stream",
          "text": [
            "['2', '3', '2', '3', '2', '2', '2', '2', '3', '2', '3', '1', '3', '1', '2', '2', '2', '2', '2', '2', '2', '2', '1', '2', '3', '2', '2', '2', '2', '1', '2', '3', '2', '2', '3', '2', '3', '3', '2', '2', '1', '3', '3', '2', '3', '2', '2', '1', '2', '1', '1', '2', '2', '3', '2', '2', '2', '3', '2', '2', '2', '1', '2', '2', '3', '2', '2', '2', '2', '1', '2', '2', '2', '2', '3', '1', '2', '3', '3', '2', '3', '2', '2', '3', '3', '1', '1', '3', '2', '1', '2', '2', '2', '1', '1', '2', '2', '2', '2', '2', '2', '2', '3', '3', '1', '3', '3', '3', '2', '2', '2', '2', '2', '2', '2', '3', '3', '2', '2', '3', '2', '2', '2', '2', '2', '3', '3', '2', '2', '1', '3', '2', '2', '2', '3', '2', '3', '1', '3', '3', '2', '3', '3', '2', '2', '2', '2', '2', '2', '1', '2', '2', '1', '2', '3', '2', '1', '3', '1', '2', '3', '3', '3', '2', '3', '1', '3', '2', '3', '1', '2', '2', '2', '3', '3', '2', '2', '2', '2', '2', '3', '1', '2', '3', '3', '2', '2', '3', '2', '2', '2', '3', '2', '2', '2', '2', '1', '2', '3', '1', '3', '2', '2', '3', '3', '3', '2', '2', '1', '1']\n"
          ]
        }
      ],
      "source": [
        "numeros_en_texto = ['2', '3', '2', '3', '2', '2', '2', '2', '3', '2', '3', '1', '3', '1', '2', '2', '2', '2', '2', '2', '2', '2', '1', '2', '3', '2', '2', '2', '2', '1', '2', '3', '2', '2', '3', '2', '3', '3', '2', '2', '1', '3', '3', '2', '3', '2', '2', '1', '2', '1', '1', '2', '2', '3', '2', '2', '2', '3', '2', '2', '2', '1', '2', '2', '3', '2', '2', '2', '2', '1', '2', '2', '2', '2', '3', '1', '2', '3', '3', '2', '3', '2', '2', '3', '3', '1', '1', '3', '2', '1', '2', '2', '2', '1', '1', '2', '2', '2', '2', '2', '2', '2', '3', '3', '1', '3', '3', '3', '2', '2', '2', '2', '2', '2', '2', '3', '3', '2', '2', '3', '2', '2', '2', '2', '2', '3', '3', '2', '2', '1', '3', '2', '2', '2', '3', '2', '3', '1', '3', '3', '2', '3', '3', '2', '2', '2', '2', '2', '2', '1', '2', '2', '1', '2', '3', '2', '1', '3', '1', '2', '3', '3', '3', '2', '3', '1', '3', '2', '3', '1', '2', '2', '2', '3', '3', '2', '2', '2', '2', '2', '3', '1', '2', '3', '3', '2', '2', '3', '2', '2', '2', '3', '2', '2', '2', '2', '1', '2', '3', '1', '3', '2', '2', '3', '3', '3', '2', '2', '1', '1']\n",
        "print(numeros_en_texto)"
      ]
    },
    {
      "cell_type": "markdown",
      "metadata": {
        "id": "XLWP4dKfPBQS"
      },
      "source": [
        "Calcule la suma de los unos (1) y los tres (3) en esta lista. Hay muchas formas de hacerlo, si encuentra más de una, mejor. El resultado es 210."
      ]
    },
    {
      "cell_type": "code",
      "execution_count": null,
      "metadata": {
        "id": "mbrdf6JO0SP_",
        "outputId": "d4242781-78f6-446d-ec34-5a6f86d8ae3e"
      },
      "outputs": [
        {
          "name": "stdout",
          "output_type": "stream",
          "text": [
            "210\n"
          ]
        }
      ],
      "source": [
        "suma = 0\n",
        "for numero in numeros_en_texto:\n",
        "    if int(numero) == 1:\n",
        "        suma=suma+1\n",
        "    elif int(numero) == 3:\n",
        "        suma +=3\n",
        "\n",
        "print(suma)"
      ]
    },
    {
      "cell_type": "markdown",
      "metadata": {
        "id": "zPYUgoxW0SP_"
      },
      "source": [
        "**Ejercicio**:\n",
        "* Hacer un for loop que le sume uno a todos los elementos de la lista A = [0,1,2,3,4] y lo imprima.\n",
        "* Hacer un for loop que le sume uno a todos los elementos de la lista A = [0,1,2,3,4] y lo guarde en una lista nueva B. Googlear: append.\n",
        "* ¿Qué hace el comando *range*?"
      ]
    },
    {
      "cell_type": "code",
      "execution_count": null,
      "metadata": {
        "id": "o6cbn1Z80SP_",
        "outputId": "961394ed-b4e5-443e-af3c-6fc005eee6a6"
      },
      "outputs": [
        {
          "name": "stdout",
          "output_type": "stream",
          "text": [
            "1\n",
            "2\n",
            "3\n",
            "4\n",
            "5\n"
          ]
        }
      ],
      "source": [
        "# Hacer un for loop que le sume uno a todos los elementos de la lista A = [0,1,2,3,4] y lo imprima.\n",
        "A = [0,1,2,3,4]\n",
        "for elemento in A:\n",
        "    print(elemento + 1)"
      ]
    },
    {
      "cell_type": "code",
      "execution_count": null,
      "metadata": {
        "id": "d8bXU5T40SP_",
        "outputId": "4933f692-8566-4e1f-ce0d-e125e99728db"
      },
      "outputs": [
        {
          "name": "stdout",
          "output_type": "stream",
          "text": [
            "[0, 1, 2, 3, 4] [1, 2, 3, 4, 5]\n"
          ]
        }
      ],
      "source": [
        "# Hacer un for loop que le sume uno a todos los elementos de la lista A = [0,1,2,3,4] y lo guarde en una lista nueva B. Googlear: append.\n",
        "A = [0,1,2,3,4]\n",
        "B = []\n",
        "for elemento in A:\n",
        "    B.append(elemento + 1)\n",
        "print(A, B)"
      ]
    },
    {
      "cell_type": "code",
      "execution_count": null,
      "metadata": {
        "id": "tmI8XGnx0SP_",
        "outputId": "33538447-5720-40fa-84a9-52369b3b4d20"
      },
      "outputs": [
        {
          "name": "stdout",
          "output_type": "stream",
          "text": [
            "range(0, 6)\n",
            "[0, 1, 2, 3, 4, 5]\n"
          ]
        }
      ],
      "source": [
        "# ¿Qué hace el comando *range*?\n",
        "print(range(6))\n",
        "print(list(range(6)))"
      ]
    },
    {
      "cell_type": "code",
      "execution_count": null,
      "metadata": {
        "id": "Wh6kmqhv0SP_",
        "outputId": "68b4458c-bd33-4d90-d88c-2233da49402a"
      },
      "outputs": [
        {
          "name": "stdout",
          "output_type": "stream",
          "text": [
            "0\n",
            "1\n",
            "2\n",
            "3\n",
            "4\n",
            "5\n"
          ]
        }
      ],
      "source": [
        "for i in range(6):\n",
        "    print(i)"
      ]
    },
    {
      "cell_type": "markdown",
      "metadata": {
        "id": "PYQ_uz9j0SP_"
      },
      "source": [
        "**Ejercicio**: Escribir una rutina que imprima aquellos elementos de la lista *a* que son menores que 10.\n",
        "Pistas: *for*, *if*"
      ]
    },
    {
      "cell_type": "code",
      "execution_count": null,
      "metadata": {
        "id": "YpENiA6C0SP_",
        "outputId": "14efebf2-0835-40c8-92b3-a45b11022a68"
      },
      "outputs": [
        {
          "name": "stdout",
          "output_type": "stream",
          "text": [
            "1\n",
            "1\n",
            "2\n",
            "3\n",
            "5\n",
            "8\n",
            "8\n"
          ]
        }
      ],
      "source": [
        "a = [1, 1, 2, 3, 5, 8, 8, 13, 21, 34, 34, 55, 89]\n",
        "for i in a:\n",
        "    if i <10:\n",
        "        print(i)"
      ]
    },
    {
      "cell_type": "markdown",
      "metadata": {
        "id": "NFilJpTe0SP_"
      },
      "source": [
        "**Extras**: en lugar de imprimir los elementos de a uno, armar una nueva lista con aquellos elementos que sean menores a 10. ¿Cómo filtran elementos repetidos?"
      ]
    },
    {
      "cell_type": "code",
      "execution_count": null,
      "metadata": {
        "id": "07O4VwRt0SP_",
        "outputId": "84c335c6-6c99-4ee6-8aa1-663e56ab20d5"
      },
      "outputs": [
        {
          "name": "stdout",
          "output_type": "stream",
          "text": [
            "[1, 2, 3, 5, 8]\n",
            "[1, 2, 3, 5, 8]\n"
          ]
        }
      ],
      "source": [
        "a = [1, 1, 2, 3, 5, 8, 8, 13, 21, 34, 34, 55, 89]\n",
        "\n",
        "# DOS OPCIONES\n",
        "# Primera: mirando si el elemento a agregar ya esta en b\n",
        "b = []\n",
        "for i in a:\n",
        "    if i <10:\n",
        "        if i not in b:\n",
        "            b.append(i)\n",
        "print(b)\n",
        "\n",
        "# Segunda: filtrando despues\n",
        "b = []\n",
        "for i in a:\n",
        "    if i <10:\n",
        "        b.append(i)\n",
        "b = list(set(b))  ## GOOGLEAR QUE ES UN SET\n",
        "print(b)"
      ]
    },
    {
      "cell_type": "markdown",
      "metadata": {
        "id": "M6IdGPvZ0SQA"
      },
      "source": [
        "**Ejercicio**: dadas dos listas *a* y *b*, armar una lista con:\n",
        "* Con todos los elementos de *a* y *b*\n",
        "* Con todos los elementos de *a* y *b*, ordenados de menor a mayor\n",
        "* Con todos los elementos de *a* y *b*, ordenados de mayor a menor\n",
        "* Con todos los elementos de *a* y *b*, ordenados de menor a mayor y sin elementos repetidos\n",
        "* Con todos los elementos que están en ambas listas\n",
        "* Con todos los elementos que NO están en ambas listas"
      ]
    },
    {
      "cell_type": "code",
      "execution_count": null,
      "metadata": {
        "id": "EkdKPfF_0SQA"
      },
      "outputs": [],
      "source": [
        "a = [12,3,5,12,8,9,25,12,1,3,4,5,17,15]\n",
        "b = [3,5,7,8,45,8,9,16,1,11,30,41,2,3,15,1,29,22]"
      ]
    },
    {
      "cell_type": "markdown",
      "metadata": {
        "id": "kcsS_I-k0SQA"
      },
      "source": [
        "¡**NO hay una única forma de hacerlos**!"
      ]
    },
    {
      "cell_type": "code",
      "execution_count": null,
      "metadata": {
        "id": "2bSuwzyX0SQA",
        "outputId": "b704d1ac-abda-4c45-b14a-8278d32629b2"
      },
      "outputs": [
        {
          "name": "stdout",
          "output_type": "stream",
          "text": [
            "[12, 3, 5, 12, 8, 9, 25, 12, 1, 3, 4, 5, 17, 15, 3, 5, 7, 8, 45, 8, 9, 16, 1, 11, 30, 41, 2, 3, 15, 1, 29, 22]\n"
          ]
        }
      ],
      "source": [
        "# Con todos los elementos de a* y *b\n",
        "todos = a + b\n",
        "print(todos)"
      ]
    },
    {
      "cell_type": "code",
      "execution_count": null,
      "metadata": {
        "id": "HN5yr3640SQA",
        "outputId": "692828b4-fa72-41dc-e2ad-ec6e177e2f5a"
      },
      "outputs": [
        {
          "name": "stdout",
          "output_type": "stream",
          "text": [
            "[1, 1, 1, 2, 3, 3, 3, 3, 4, 5, 5, 5, 7, 8, 8, 8, 9, 9, 11, 12, 12, 12, 15, 15, 16, 17, 22, 25, 29, 30, 41, 45]\n"
          ]
        }
      ],
      "source": [
        "# Con todos los elementos de *a* y *b*, ordenados de menor a mayor\n",
        "todos = a + b\n",
        "todos.sort() #ordena\n",
        "print(todos)"
      ]
    },
    {
      "cell_type": "code",
      "execution_count": null,
      "metadata": {
        "id": "MOTL8PRX0SQA",
        "outputId": "aa7b558a-3313-4898-8473-9e2640791da8"
      },
      "outputs": [
        {
          "name": "stdout",
          "output_type": "stream",
          "text": [
            "[45, 41, 30, 29, 25, 22, 17, 16, 15, 15, 12, 12, 12, 11, 9, 9, 8, 8, 8, 7, 5, 5, 5, 4, 3, 3, 3, 3, 2, 1, 1, 1]\n"
          ]
        }
      ],
      "source": [
        "# Con todos los elementos de *a* y *b*, ordenados de mayor a menor\n",
        "todos = a + b\n",
        "todos.sort(reverse = True)\n",
        "print(todos)"
      ]
    },
    {
      "cell_type": "code",
      "execution_count": null,
      "metadata": {
        "id": "K6Vnzbss0SQA",
        "outputId": "f614a9b1-5475-4af4-8d23-d5438c49cae3"
      },
      "outputs": [
        {
          "name": "stdout",
          "output_type": "stream",
          "text": [
            "[1, 2, 3, 4, 5, 7, 8, 9, 11, 12, 15, 16, 17, 22, 25, 29, 30, 41, 45]\n"
          ]
        }
      ],
      "source": [
        "# Con todos los elementos de *a* y *b*, ordenados de menor a mayor y sin elementos repetidos\n",
        "todos = a + b\n",
        "todos = list(set(todos))\n",
        "todos.sort()\n",
        "print(todos)"
      ]
    },
    {
      "cell_type": "code",
      "execution_count": null,
      "metadata": {
        "id": "CoJqq7wI0SQA",
        "outputId": "452519e6-1f82-4b73-c3fc-39532f183e83"
      },
      "outputs": [
        {
          "name": "stdout",
          "output_type": "stream",
          "text": [
            "[1, 3, 4, 5, 8, 9, 12, 15, 17, 25]\n",
            "[1, 2, 3, 5, 7, 8, 9, 41, 11, 45, 15, 16, 22, 29, 30]\n",
            "[1, 3, 5, 8, 9, 15]\n"
          ]
        }
      ],
      "source": [
        "# Con todos los elementos que están en ambas listas\n",
        "todos_ambas = []\n",
        "for elemento in a + b:\n",
        "    if elemento in a and elemento in b:\n",
        "        todos_ambas.append(elemento)\n",
        "\n",
        "## ESTO NO LO PIDE PERO ES MAS FACIL PARA VISUALIZAR\n",
        "print(list(set(a)))\n",
        "print(list(set(b)))\n",
        "print(list(set(todos_ambas)))"
      ]
    },
    {
      "cell_type": "code",
      "execution_count": null,
      "metadata": {
        "id": "AojZkDdd0SQA"
      },
      "outputs": [],
      "source": [
        "# Con todos los elementos que NO están en ambas listas\n",
        "\n",
        "## TAREA!"
      ]
    },
    {
      "cell_type": "markdown",
      "metadata": {
        "id": "YF5oYUFZ0SQA"
      },
      "source": [
        "**Ejercicio**: Para googlear:\n",
        "* ¿Qué es un diccionario? Escribir un ejemplo en una celda."
      ]
    },
    {
      "cell_type": "markdown",
      "metadata": {
        "id": "U9Q8Yw0l0SQA"
      },
      "source": [
        "**Diccionarios**"
      ]
    },
    {
      "cell_type": "code",
      "execution_count": null,
      "metadata": {
        "id": "ar0O9qZs0SQA",
        "outputId": "d10524bc-c6e7-4e90-d905-51a543e85673"
      },
      "outputs": [
        {
          "name": "stdout",
          "output_type": "stream",
          "text": [
            "{'Key 1': 12, 'Key 2': [1, 2, 3, 4], 'Key 3': 'Puede ser un string'}\n",
            "dict_keys(['Key 1', 'Key 2', 'Key 3'])\n",
            "dict_values([12, [1, 2, 3, 4], 'Puede ser un string'])\n"
          ]
        }
      ],
      "source": [
        "# Diccionario\n",
        "diccionario = {'Key 1': 12, 'Key 2': [1,2,3,4], 'Key 3': 'Puede ser un string'}\n",
        "print(diccionario)\n",
        "print(diccionario.keys())\n",
        "print(diccionario.values())"
      ]
    },
    {
      "cell_type": "code",
      "execution_count": null,
      "metadata": {
        "id": "yvCMJq2H0SQA"
      },
      "outputs": [],
      "source": [
        "diccionario['Key 1']"
      ]
    },
    {
      "cell_type": "code",
      "execution_count": null,
      "metadata": {
        "id": "vSFk53gw0SQA",
        "outputId": "328ace09-461e-430f-b6a6-89f5fde8422a"
      },
      "outputs": [
        {
          "name": "stdout",
          "output_type": "stream",
          "text": [
            "{1: 12, 2: [1, 2, 3, 4], 3: 'Puede ser un string'}\n",
            "dict_keys([1, 2, 3])\n",
            "dict_values([12, [1, 2, 3, 4], 'Puede ser un string'])\n"
          ]
        }
      ],
      "source": [
        "# Los keys no necesariamente tienen que ser strings\n",
        "diccionario = {1: 12, 2: [1,2,3,4], 3: 'Puede ser un string'}\n",
        "print(diccionario)\n",
        "print(diccionario.keys())\n",
        "print(diccionario.values())"
      ]
    },
    {
      "cell_type": "code",
      "execution_count": null,
      "metadata": {
        "id": "nU4YxmZO0SQA",
        "outputId": "06ebd981-4d40-4b56-9cdf-0ea7dc9e1553"
      },
      "outputs": [
        {
          "data": {
            "text/plain": [
              "[1, 2, 3, 4]"
            ]
          },
          "execution_count": 4,
          "metadata": {},
          "output_type": "execute_result"
        }
      ],
      "source": [
        "diccionario[2]"
      ]
    }
  ],
  "metadata": {
    "colab": {
      "provenance": []
    },
    "kernelspec": {
      "display_name": "Python 3",
      "language": "python",
      "name": "python3"
    },
    "language_info": {
      "codemirror_mode": {
        "name": "ipython",
        "version": 3
      },
      "file_extension": ".py",
      "mimetype": "text/x-python",
      "name": "python",
      "nbconvert_exporter": "python",
      "pygments_lexer": "ipython3",
      "version": "3.12.1"
    }
  },
  "nbformat": 4,
  "nbformat_minor": 0
}
