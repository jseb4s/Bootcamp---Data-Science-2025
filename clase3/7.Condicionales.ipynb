{
  "cells": [
    {
      "cell_type": "markdown",
      "metadata": {},
      "source": [
        "### Indentación\n"
      ]
    },
    {
      "cell_type": "markdown",
      "metadata": {},
      "source": [
        "La indentación en programación se refiere a la práctica de agregar espacios o tabulaciones al inicio de una línea de código para mostrar su nivel jerárquico dentro de una estructura. En lenguajes como Python, la indentación es esencial para organizar y definir bloques de código que pertenecen a estructuras de control (como if, for, while, funciones, clases, etc.).\n",
        "\n",
        "![](https://db0dce98.rocketcdn.me/es/files/2023/02/python-indentation.jpg)\n",
        "\n",
        "**¿Por qué es importante la indentación?**\n",
        "\n",
        "La indentación permite que el programa sea legible y facilita la comprensión de la jerarquía de las operaciones. Además, en Python, la indentación no es solo una cuestión de estilo, sino que es obligatoria para definir qué líneas de código están dentro de un bloque.\n",
        "\n",
        "**Reglas de indentación en Python:**\n",
        "\n",
        "- Espacios vs Tabulaciones: Es recomendable usar espacios en lugar de tabulaciones. Python oficialmente recomienda usar 4 espacios por cada nivel de indentación.\n",
        "\n",
        "- Consistencia: Es importante que utilices el mismo tipo de indentación (ya sea 4 espacios o tabulaciones) en todo tu código. Mezclar tabulaciones y espacios puede causar errores difíciles de detectar.\n",
        "\n",
        "\n",
        "[PEP8](https://peps.python.org/pep-0008/), la guía de estilo oficial para escribir código en Python.\n",
        "\n",
        "[SOLID](https://www.freecodecamp.org/espanol/news/los-principios-solid-explicados-en-espanol/), los 5 principios de diseño de software."
      ]
    },
    {
      "cell_type": "markdown",
      "metadata": {},
      "source": [
        "# Condicionales\n"
      ]
    },
    {
      "cell_type": "markdown",
      "metadata": {},
      "source": [
        "### Branching (Ramificación)\n"
      ]
    },
    {
      "cell_type": "markdown",
      "metadata": {},
      "source": [
        "La ramificación nos permite ejecutar diferentes sentencias para diferentes entradas. Es útil pensar en una sentencia **if** como una habitación cerrada, si la sentencia es **True** podemos entrar en la habitación y su programa ejecutará algunas tareas predefinidas, pero si la sentencia es **False** el programa ignorará la tarea.\n"
      ]
    },
    {
      "cell_type": "markdown",
      "metadata": {},
      "source": [
        "Por ejemplo, consideremos el escenario de un concierto de ACDC. Si la persona es mayor de 18 años, puede entrar al concierto de ACDC. Si tiene 18 años o menos, no puede entrar al concierto.\n",
        "\n",
        "Podemos usar las declaraciones condicionales como las condiciones que deben verificarse en la declaración if. La sintaxis está conformada por las siguientes sentencias:\n",
        "\n",
        "\n",
        " <code> if <i>declaración condicional</i>:</code>"
      ]
    },
    {
      "cell_type": "code",
      "execution_count": 3,
      "metadata": {
        "trusted": true
      },
      "outputs": [
        {
          "name": "stdout",
          "output_type": "stream",
          "text": [
            "move on\n"
          ]
        }
      ],
      "source": [
        "# If statement example\n",
        "\n",
        "age = 19\n",
        "#age = 18\n",
        "\n",
        "#expression that can be true or false\n",
        "if age > 18:\n",
        "    \n",
        "    print(\"you can enter\" )\n",
        "    \n",
        "print(\"move on\")"
      ]
    },
    {
      "cell_type": "markdown",
      "metadata": {},
      "source": [
        "Es útil usar el siguiente diagrama para ilustrar el proceso. En el lado izquierdo, vemos lo que ocurre cuando la condición es <b>True</b>. La persona entra al concierto de ACDC, lo que representa que el código con sangría se ejecuta; luego la persona sigue adelante. En el lado derecho, vemos lo que ocurre cuando la condición es <b>False</b>; la persona no obtiene acceso y sigue adelante. En este caso, el segmento de código con sangría no se ejecuta, pero el resto de las declaraciones sí se ejecutan.\n"
      ]
    },
    {
      "cell_type": "markdown",
      "metadata": {},
      "source": [
        "<img src=\"https://cf-courses-data.s3.us.cloud-object-storage.appdomain.cloud/IBMDeveloperSkillsNetwork-PY0101EN-SkillsNetwork/labs/Module%203/images/CondsIf.gif\" width=\"650\">\n"
      ]
    },
    {
      "cell_type": "markdown",
      "metadata": {},
      "source": [
        "### Ejemplos:"
      ]
    },
    {
      "cell_type": "markdown",
      "metadata": {},
      "source": [
        "1. Un cine ofrece entradas con un descuento a personas menores de 12 años o mayores de 65 años. Crea un programa de modo que si la edad de los clientes es menor que 12 o mayor que 65, se muestre \"¡Descuento aprobado!\"."
      ]
    },
    {
      "cell_type": "code",
      "execution_count": 18,
      "metadata": {},
      "outputs": [
        {
          "name": "stdout",
          "output_type": "stream",
          "text": [
            "¡Descuento aprobado!\n"
          ]
        }
      ],
      "source": [
        "# Definimos la edad\n",
        "edad = 10\n",
        "\n",
        "# Verificamos si la edad es menor que 12 o mayor que 65\n",
        "if edad < 12 or edad > 65:\n",
        "    print(\"¡Descuento aprobado!\")"
      ]
    },
    {
      "cell_type": "markdown",
      "metadata": {},
      "source": [
        "2. Escribe un programa que pida al usuario un número y verifique si es positivo."
      ]
    },
    {
      "cell_type": "code",
      "execution_count": 16,
      "metadata": {},
      "outputs": [
        {
          "name": "stdout",
          "output_type": "stream",
          "text": [
            "El número es positivo\n"
          ]
        }
      ],
      "source": [
        "numero = float(input(\"Ingresa un número: \"))\n",
        "\n",
        "# Verificamos si el número es positivo\n",
        "if numero > 0:\n",
        "    print(\"El número es positivo\")"
      ]
    },
    {
      "cell_type": "code",
      "execution_count": 30,
      "metadata": {},
      "outputs": [
        {
          "name": "stdout",
          "output_type": "stream",
          "text": [
            "Descuento aplicable\n"
          ]
        }
      ],
      "source": [
        "# Definimos las variables\n",
        "es_estudiante = True\n",
        "edad = 20\n",
        "es_mayor_65 = False\n",
        "\n",
        "# Verificamos si el cliente es elegible para el descuento\n",
        "if (es_estudiante and edad > 18) or es_mayor_65:\n",
        "    print(\"Descuento aplicable\")\n"
      ]
    },
    {
      "cell_type": "markdown",
      "metadata": {},
      "source": [
        "3. Una tienda ofrece un descuento en ciertos casos:\n",
        "\n",
        "- Si un cliente es estudiante y tiene más de 18 años, recibe un descuento.\n",
        "- O, si el cliente es mayor de 65 años, también recibe un descuento."
      ]
    },
    {
      "cell_type": "markdown",
      "metadata": {},
      "source": [
        "### Ejercicios"
      ]
    },
    {
      "cell_type": "markdown",
      "metadata": {},
      "source": [
        "1. Escribe un programa que solicite al usuario el nivel de batería de su celular (como porcentaje). Si el nivel de batería es menor al 30%, el programa debe mostrar el mensaje \"Batería baja, conecta el cargador\"."
      ]
    },
    {
      "cell_type": "code",
      "execution_count": 13,
      "metadata": {},
      "outputs": [],
      "source": [
        "bateria = int(input(\"Ingrese el nivel de batería (%): \"))\n",
        "\n",
        "# Verificamos si el nivel de batería es menor al 20%\n",
        "if bateria < 30:\n",
        "    print(\"Batería baja, conecta el cargador\")"
      ]
    },
    {
      "cell_type": "markdown",
      "metadata": {},
      "source": [
        "2. Escribe un programa que pida al usuario que ingrese la temperatura del motor de un auto en grados Celsius. Si la temperatura es mayor a 90 grados, debe mostrar el mensaje \"Advertencia: temperatura del motor elevada\"."
      ]
    },
    {
      "cell_type": "code",
      "execution_count": 14,
      "metadata": {},
      "outputs": [
        {
          "name": "stdout",
          "output_type": "stream",
          "text": [
            "Advertencia: temperatura del motor elevada\n"
          ]
        }
      ],
      "source": [
        "# Pedimos la temperatura del motor al usuario\n",
        "temperatura_motor = float(input(\"Ingrese la temperatura del motor en grados Celsius: \"))\n",
        "\n",
        "# Verificamos si la temperatura es mayor a 90 grados\n",
        "if temperatura_motor > 90:\n",
        "    print(\"Advertencia: temperatura del motor elevada\")"
      ]
    },
    {
      "cell_type": "markdown",
      "metadata": {},
      "source": [
        "### else"
      ]
    },
    {
      "cell_type": "markdown",
      "metadata": {},
      "source": [
        "La declaración <code>else</code> ejecuta un bloque de código si ninguna de las condiciones anteriores es True antes de esta declaración <code>else</code>. Usemos nuevamente la analogía del concierto de ACDC. Si el usuario tiene 17 años, no puede ir al concierto de ACDC, pero sí puede ir al concierto de Meatloaf.\n",
        "\n",
        "La sintaxis de la declaración <code>else</code> es similar a la de la declaración <code>if</code>, usandose como <code>else :</code>.\n",
        "Prueba cambiar los valores de <code>edad</code> para ver qué sucede:"
      ]
    },
    {
      "cell_type": "code",
      "execution_count": 4,
      "metadata": {
        "trusted": true
      },
      "outputs": [
        {
          "name": "stdout",
          "output_type": "stream",
          "text": [
            "go see Meat Loaf\n",
            "move on\n"
          ]
        }
      ],
      "source": [
        "# Else statement example\n",
        "\n",
        "age = 18\n",
        "# age = 19\n",
        "\n",
        "if age > 18:\n",
        "    print(\"you can enter\" )\n",
        "else:\n",
        "    print(\"go see Meat Loaf\" )\n",
        "    \n",
        "print(\"move on\")"
      ]
    },
    {
      "cell_type": "markdown",
      "metadata": {},
      "source": [
        "El proceso se muestra a continuación, donde cada una de las posibilidades se ilustra a cada lado de la imagen. A la izquierda está el caso en el que la edad es 17, fijamos la variable edad en 17, y esto corresponde al individuo que asiste al concierto de Meatloaf. La parte derecha muestra lo que ocurre cuando el individuo tiene más de 18 años, en este caso 19, y se le permite el acceso al concierto.\n"
      ]
    },
    {
      "cell_type": "markdown",
      "metadata": {},
      "source": [
        "<img src=\"https://cf-courses-data.s3.us.cloud-object-storage.appdomain.cloud/IBMDeveloperSkillsNetwork-PY0101EN-SkillsNetwork/labs/Module%203/images/CondsElse.gif\" width=\"650\">\n"
      ]
    },
    {
      "cell_type": "markdown",
      "metadata": {},
      "source": [
        "### Ejemplos"
      ]
    },
    {
      "cell_type": "markdown",
      "metadata": {},
      "source": [
        "1. Un profesor desea determinar si un estudiante ha aprobado un examen.\n",
        "\n",
        "- Si la puntuación es 60 o más, muestra \"Aprobado\".\n",
        "- Si la puntuación es menor a 60, muestra \"Reprobado\"."
      ]
    },
    {
      "cell_type": "code",
      "execution_count": 21,
      "metadata": {},
      "outputs": [
        {
          "name": "stdout",
          "output_type": "stream",
          "text": [
            "Aprobado\n"
          ]
        }
      ],
      "source": [
        "# Definimos la puntuación obtenida\n",
        "puntuacion = 75\n",
        "\n",
        "# Verificamos si la puntuación es 60 o mayor\n",
        "if puntuacion >= 60:\n",
        "    print(\"Aprobado\")\n",
        "else:\n",
        "    print(\"Reprobado\")"
      ]
    },
    {
      "cell_type": "markdown",
      "metadata": {},
      "source": [
        "2. Imagina que tienes un sistema de control de saldo bancario. Si el saldo es suficiente para realizar una compra, se autoriza la transacción. Si no es suficiente, la compra es rechazada.\n",
        "\n",
        "- Si el saldo en cuenta es mayor o igual al monto de la compra, muestra \"Compra autorizada\".\n",
        "- Si el saldo es insuficiente, muestra \"Saldo insuficiente para realizar la compra\"."
      ]
    },
    {
      "cell_type": "code",
      "execution_count": 22,
      "metadata": {},
      "outputs": [
        {
          "name": "stdout",
          "output_type": "stream",
          "text": [
            "Compra autorizada\n"
          ]
        }
      ],
      "source": [
        "# Definimos el saldo en cuenta y el monto de la compra\n",
        "saldo = 1000\n",
        "monto_compra = 750\n",
        "\n",
        "# Verificamos si el saldo es suficiente para la compra\n",
        "if saldo >= monto_compra:\n",
        "    print(\"Compra autorizada\")\n",
        "else:\n",
        "    print(\"Saldo insuficiente para realizar la compra\")"
      ]
    },
    {
      "cell_type": "markdown",
      "metadata": {},
      "source": [
        "3. Una entidad financiera tiene los siguientes requisitos para aprobar un préstamo:\n",
        "\n",
        "- El solicitante debe tener al menos 18 años de edad y un salario mensual superior a 2000.\n",
        "- O, si el solicitante tiene entre 21 y 30 años y un puntaje de crédito mayor o igual a 700, también se aprueba el préstamo."
      ]
    },
    {
      "cell_type": "code",
      "execution_count": 29,
      "metadata": {},
      "outputs": [
        {
          "name": "stdout",
          "output_type": "stream",
          "text": [
            "Préstamo aprobado\n"
          ]
        }
      ],
      "source": [
        "# Definimos las variables\n",
        "edad = 25\n",
        "salario = 2500\n",
        "puntaje_credito = 650\n",
        "\n",
        "# Verificamos la elegibilidad\n",
        "if (edad >= 18 and salario > 2000) or (21 <= edad <= 30 and puntaje_credito >= 700):\n",
        "    print(\"Préstamo aprobado\")\n",
        "else:\n",
        "    print(\"Préstamo rechazado\")"
      ]
    },
    {
      "cell_type": "markdown",
      "metadata": {},
      "source": [
        "### Ejercicios"
      ]
    },
    {
      "cell_type": "markdown",
      "metadata": {},
      "source": [
        "Escribe un programa que determine si la temperatura de un lugar es demasiado fría o no.\n",
        "\n",
        "- Si la temperatura es menor a 10 grados, muestra \"Hace frío\".\n",
        "- Si la temperatura es 10 grados o mayor, muestra \"La temperatura es agradable\"."
      ]
    },
    {
      "cell_type": "code",
      "execution_count": 20,
      "metadata": {},
      "outputs": [
        {
          "name": "stdout",
          "output_type": "stream",
          "text": [
            "Hace frío\n"
          ]
        }
      ],
      "source": [
        "# Definimos la temperatura\n",
        "temperatura = 8\n",
        "\n",
        "# Verificamos si la temperatura es menor a 10 grados\n",
        "if temperatura < 10:\n",
        "    print(\"Hace frío\")\n",
        "else:\n",
        "    print(\"La temperatura es agradable\")\n"
      ]
    },
    {
      "cell_type": "markdown",
      "metadata": {},
      "source": [
        "2. Una tienda ofrece un 10% de descuento si el cliente gasta más de $100.\n",
        "Escribe un programa que:\n",
        "\n",
        "- Solicite al usuario que ingrese el valor de su compra.\n",
        "- Si la compra es mayor a $100, calcule y muestre el valor con el descuento del 10% aplicado.\n",
        "- Si la compra es de $100 o menos, muestre el valor total sin descuento."
      ]
    },
    {
      "cell_type": "code",
      "execution_count": 19,
      "metadata": {},
      "outputs": [
        {
          "name": "stdout",
          "output_type": "stream",
          "text": [
            "El valor final con el descuento es: $108.0\n"
          ]
        }
      ],
      "source": [
        "# Pedimos el valor de la compra al usuario\n",
        "compra = float(input(\"Ingrese el valor de su compra: \"))\n",
        "\n",
        "# Verificamos si la compra es mayor a $100\n",
        "if compra > 100:\n",
        "    descuento = compra * 0.10\n",
        "    total = compra - descuento\n",
        "    print(f\"El valor final con el descuento es: ${total}\")\n",
        "else:\n",
        "    print(f\"El valor total sin descuento es: ${compra}\")"
      ]
    },
    {
      "cell_type": "markdown",
      "metadata": {},
      "source": [
        "### elif (else-if)"
      ]
    },
    {
      "cell_type": "markdown",
      "metadata": {},
      "source": [
        "\n",
        "La declaración <code>elif</code>, abreviatura de \"else if\", nos permite verificar condiciones adicionales si las declaraciones condicionales anteriores son <b>False</b>. Si la condición para la declaración <code>elif</code> es <b>True</b>, se ejecutarán las expresiones alternativas. Considera el ejemplo del concierto, donde si la persona tiene 18 años, irá al concierto de Pink Floyd en lugar de asistir al de ACDC o al de Meatloaf. Una persona de 18 años entra a la fila, y como no es mayor de 18, no puede ver a ACDC, pero dado que tiene 18 años, asiste al concierto de Pink Floyd.\n",
        "\n",
        "La sintaxis de la declaración <code>elif</code> es similar, simplemente cambiamos el <code>if</code> en la declaración <code>if</code> por <code>elif</code>.\n"
      ]
    },
    {
      "cell_type": "code",
      "execution_count": 8,
      "metadata": {},
      "outputs": [
        {
          "name": "stdout",
          "output_type": "stream",
          "text": [
            "go see Pink Floyd\n",
            "move on\n"
          ]
        }
      ],
      "source": [
        "# Reemplazando elif por else if\n",
        "\n",
        "age = 18\n",
        "\n",
        "if age > 18:\n",
        "    print(\"you can enter\")\n",
        "else:\n",
        "    if age == 18:\n",
        "        print(\"go see Pink Floyd\")\n",
        "    else:\n",
        "        print(\"go see Meat Loaf\")\n",
        "\n",
        "print(\"move on\")\n"
      ]
    },
    {
      "cell_type": "code",
      "execution_count": 7,
      "metadata": {
        "trusted": true
      },
      "outputs": [
        {
          "name": "stdout",
          "output_type": "stream",
          "text": [
            "go see Pink Floyd\n",
            "move on\n"
          ]
        }
      ],
      "source": [
        "# Elif statment example\n",
        "\n",
        "age = 18\n",
        "\n",
        "if age > 18:\n",
        "    print(\"you can enter\" )\n",
        "elif age == 18:\n",
        "    print(\"go see Pink Floyd\")\n",
        "else:\n",
        "    print(\"go see Meat Loaf\" )\n",
        "    \n",
        "print(\"move on\")"
      ]
    },
    {
      "cell_type": "markdown",
      "metadata": {},
      "source": [
        "Las tres combinaciones se muestran en la siguiente figura.  La región más a la izquierda muestra lo que ocurre cuando el individuo tiene menos de 18 años. El componente central muestra cuando el individuo tiene exactamente 18 años. La más a la derecha muestra cuando el individuo tiene más de 18 años."
      ]
    },
    {
      "cell_type": "markdown",
      "metadata": {},
      "source": [
        "<img src=\"https://cf-courses-data.s3.us.cloud-object-storage.appdomain.cloud/IBMDeveloperSkillsNetwork-PY0101EN-SkillsNetwork/labs/Module%203/images/CondsElif.gif\" width=\"650\">\n"
      ]
    },
    {
      "cell_type": "markdown",
      "metadata": {},
      "source": [
        "### Ejemplos"
      ]
    },
    {
      "cell_type": "markdown",
      "metadata": {},
      "source": [
        "1. Crea un programa que clasifique a una persona según su edad:\n",
        "\n",
        "- Si la persona tiene 18 años o menos, muestra \"Niño o adolescente\".\n",
        "- Si la persona tiene entre 19 y 60 años, muestra \"Adulto\".\n",
        "- Si la persona tiene 61 años o más, muestra \"Persona mayor\"."
      ]
    },
    {
      "cell_type": "code",
      "execution_count": 24,
      "metadata": {},
      "outputs": [
        {
          "name": "stdout",
          "output_type": "stream",
          "text": [
            "Adulto\n"
          ]
        }
      ],
      "source": [
        "# Definimos la edad\n",
        "edad = 25\n",
        "\n",
        "# Clasificamos a la persona según su edad\n",
        "if edad <= 18:\n",
        "    print(\"Niño o adolescente\")\n",
        "elif 19 <= edad <= 60:\n",
        "    print(\"Adulto\")\n",
        "else:\n",
        "    print(\"Persona mayor\")"
      ]
    },
    {
      "cell_type": "markdown",
      "metadata": {},
      "source": [
        "2. Escribe un programa que determine si un número es positivo, negativo o cero:\n",
        "\n",
        "- Si el número es positivo, muestra \"El número es positivo\".\n",
        "- Si el número es negativo, muestra \"El número es negativo\".\n",
        "- Si el número es cero, muestra \"El número es cero\"."
      ]
    },
    {
      "cell_type": "code",
      "execution_count": 26,
      "metadata": {},
      "outputs": [
        {
          "name": "stdout",
          "output_type": "stream",
          "text": [
            "El número es negativo\n"
          ]
        }
      ],
      "source": [
        "# Definimos el número\n",
        "numero = -5\n",
        "\n",
        "# Verificamos si el número es positivo, negativo o cero\n",
        "if numero > 0:\n",
        "    print(\"El número es positivo\")\n",
        "elif numero < 0:\n",
        "    print(\"El número es negativo\")\n",
        "else:\n",
        "    print(\"El número es cero\")"
      ]
    },
    {
      "cell_type": "markdown",
      "metadata": {},
      "source": [
        "### Ejercicios"
      ]
    },
    {
      "cell_type": "markdown",
      "metadata": {},
      "source": [
        "1. Un profesor clasifica las calificaciones de sus estudiantes con base en la siguiente escala:\n",
        "\n",
        "- Si la puntuación es mayor o igual a 90, muestra \"Excelente\".\n",
        "- Si la puntuación es entre 70 y 89, muestra \"Satisfactorio\".\n",
        "- Si la puntuación es entre 50 y 69, muestra \"Aprobado\".\n",
        "- Si la puntuación es menor a 50, muestra \"Reprobado\"."
      ]
    },
    {
      "cell_type": "code",
      "execution_count": 27,
      "metadata": {},
      "outputs": [
        {
          "name": "stdout",
          "output_type": "stream",
          "text": [
            "Satisfactorio\n"
          ]
        }
      ],
      "source": [
        "# Definimos la puntuación obtenida\n",
        "puntuacion = 82\n",
        "\n",
        "# Clasificamos la puntuación según la escala\n",
        "if puntuacion >= 90:\n",
        "    print(\"Excelente\")\n",
        "elif 70 <= puntuacion < 90:\n",
        "    print(\"Satisfactorio\")\n",
        "elif 50 <= puntuacion < 70:\n",
        "    print(\"Aprobado\")\n",
        "else:\n",
        "    print(\"Reprobado\")"
      ]
    },
    {
      "cell_type": "markdown",
      "metadata": {},
      "source": [
        "2. En una empresa, se determina el porcentaje de impuestos que un empleado debe pagar dependiendo de su salario mensual:\n",
        "\n",
        "- Si el salario es mayor o igual a 5000, se paga el 30% de impuestos.\n",
        "- Si el salario es entre 3000 y 4999, se paga el 20% de impuestos.\n",
        "- Si el salario es entre 1000 y 2999, se paga el 10% de impuestos.\n",
        "- Si el salario es menor a 1000, no se paga impuestos."
      ]
    },
    {
      "cell_type": "code",
      "execution_count": 28,
      "metadata": {},
      "outputs": [
        {
          "name": "stdout",
          "output_type": "stream",
          "text": [
            "Impuestos a pagar: 700.0\n"
          ]
        }
      ],
      "source": [
        "# Definimos el salario mensual\n",
        "salario = 3500\n",
        "\n",
        "# Determinamos el porcentaje de impuestos\n",
        "if salario >= 5000:\n",
        "    impuestos = salario * 0.30\n",
        "elif salario >= 3000:\n",
        "    impuestos = salario * 0.20\n",
        "elif salario >= 1000:\n",
        "    impuestos = salario * 0.10\n",
        "else:\n",
        "    impuestos = 0\n",
        "\n",
        "# Mostramos el monto de impuestos a pagar\n",
        "print(f\"Impuestos a pagar: {impuestos}\")"
      ]
    }
  ],
  "metadata": {
    "kernelspec": {
      "display_name": "Python 3",
      "language": "python",
      "name": "python3"
    },
    "language_info": {
      "codemirror_mode": {
        "name": "ipython",
        "version": 3
      },
      "file_extension": ".py",
      "mimetype": "text/x-python",
      "name": "python",
      "nbconvert_exporter": "python",
      "pygments_lexer": "ipython3",
      "version": "3.12.1"
    }
  },
  "nbformat": 4,
  "nbformat_minor": 4
}
