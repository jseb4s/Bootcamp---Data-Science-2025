{
 "cells": [
  {
   "cell_type": "markdown",
   "metadata": {},
   "source": [
    "# Librerías, Funciones, Métodos y Ambientes Virtuales\n",
    "\n",
    "En esta clase, aprenderemos conceptos fundamentales de programación en Python:\n",
    "1. **Qué es una librería**\n",
    "2. **Qué es una función**\n",
    "3. **Qué es un método**\n",
    "4. **Qué es un ambiente virtual y cómo usarlo**\n",
    "\n",
    "---\n",
    "\n",
    "## 1. ¿Qué es una Librería?\n",
    "\n",
    "Una **librería** (o biblioteca) en Python es un conjunto de módulos y funciones predefinidas que nos permiten realizar tareas específicas sin tener que escribir todo el código desde cero. Las librerías son como \"cajas de herramientas\" que nos ahorran tiempo y esfuerzo.\n",
    "\n",
    "### Ejemplo de Librerías en Python:\n",
    "- **Pandas**: Para manipulación y análisis de datos.\n",
    "- **NumPy**: Para cálculos numéricos.\n",
    "- **Matplotlib**: Para visualización de datos.\n",
    "- **Requests**: Para hacer solicitudes HTTP (por ejemplo, descargar datos de la web).\n",
    "\n",
    "\n",
    "![Descripción de la imagen](https://cdn.forbes.com.mx/2021/07/07-03-640x360.jpg)\n",
    "\n",
    "### ¿Cómo se usa una librería?\n",
    "Para usar una librería, primero debemos **importarla**. Por ejemplo:\n",
    "\n",
    "```python\n",
    "import pandas as pd"
   ]
  },
  {
   "cell_type": "markdown",
   "metadata": {},
   "source": [
    "Aquí, pandas es la librería, y pd es un alias (un nombre corto) que usaremos para referirnos a ella."
   ]
  },
  {
   "cell_type": "markdown",
   "metadata": {},
   "source": [
    "# 2. ¿Qué es una Función?\n",
    "Una **función** es un bloque de código reutilizable que realiza una tarea específica. Las funciones nos permiten organizar nuestro código y evitar repetir lo mismo varias veces.\n",
    "\n",
    "### Partes de una función:\n",
    "- Nombre: Identifica la función.\n",
    "\n",
    "- Parámetros: Datos que la función recibe como entrada.\n",
    "\n",
    "- Cuerpo: Bloque de código que realiza la tarea.\n",
    "\n",
    "- Retorno: Valor que la función devuelve como resultado.\n",
    "\n",
    "### Ejemplo de una función:"
   ]
  },
  {
   "cell_type": "code",
   "execution_count": 1,
   "metadata": {},
   "outputs": [
    {
     "name": "stdout",
     "output_type": "stream",
     "text": [
      "Hola, Juan!\n"
     ]
    }
   ],
   "source": [
    "def saludar(nombre):\n",
    "    return f\"Hola, {nombre}!\"\n",
    "\n",
    "# Usar la función creada:\n",
    "mensaje = saludar(\"Juan\")\n",
    "print(mensaje)"
   ]
  },
  {
   "cell_type": "markdown",
   "metadata": {},
   "source": [
    "# 3. ¿Qué es un Método?\n",
    "Un método es una función que está asociada a un objeto. En Python, todo es un objeto (números, cadenas, listas, etc.), y los métodos nos permiten realizar acciones sobre esos objetos.\n",
    "\n",
    "### Ejemplo de Métodos:"
   ]
  },
  {
   "cell_type": "code",
   "execution_count": 1,
   "metadata": {},
   "outputs": [
    {
     "name": "stdout",
     "output_type": "stream",
     "text": [
      "HOLA, MUNDO\n",
      "hola, mundo\n"
     ]
    }
   ],
   "source": [
    "# Ejemplo con una cadena (string)\n",
    "texto = \"Hola, Mundo\"\n",
    "print(texto.upper())  # Convierte el texto a mayúsculas\n",
    "print(texto.lower())  # Convierte el texto a minúsculas"
   ]
  },
  {
   "cell_type": "markdown",
   "metadata": {},
   "source": [
    "# 4. ¿Qué es un Ambiente Virtual?\n",
    "Un ambiente virtual es una herramienta que nos permite crear un entorno aislado para un proyecto de Python. Esto es útil por:\n",
    "\n",
    "- Aislamiento: Cada proyecto puede tener sus propias dependencias (librerías y versiones) sin afectar otros proyectos.\n",
    "\n",
    "- Compatibilidad: Evita conflictos entre versiones de librerías.\n",
    "\n",
    "- Portabilidad: Facilita la replicación del entorno en otra máquina."
   ]
  },
  {
   "cell_type": "markdown",
   "metadata": {},
   "source": [
    "## ¿Cómo crear un ambiente virtual?\n",
    "**1. Crear el ambiente virtual:**\n",
    "\n",
    "En la terminal, ejecuta lo siguiente: ```python -m venv .venv```\n",
    "\n",
    "Esto creará una carpeta llamada .venv que contiene el entorno virtual.\n",
    "\n",
    "\n",
    "**2. Activar el ambiente virtual:**\n",
    "\n",
    "En la terminal, ejecuta lo siguiente (windows): ```.venv\\Scripts\\activate```\n",
    "\n",
    "En la terminal, ejecuta lo siguiente (macOS/Linux): ```source .venv/bin/activate```\n",
    "\n",
    "Una vez activado, verás el nombre del ambiente virtual en la terminal.\n",
    "\n",
    "**3. Instalar librerías en el ambiente virtual:**\n",
    "\n",
    "Con el ambiente activado, puedes instalar librerías usando pip. Por ejemplo: ```pip install pandas```\n",
    "\n",
    "**4. Crear archivo requirements.txt**\n",
    "\n",
    "Un archivo **requirements.txt** es un documento de texto que contiene una lista de paquetes de Python con sus versiones específicas. Se usa para instalar todas las dependencias necesarias en un entorno de desarrollo o producción de forma rápida y consistente."
   ]
  },
  {
   "cell_type": "markdown",
   "metadata": {},
   "source": [
    "`````python\n",
    "numpy==1.23.5\n",
    "pandas>=1.5.3\n",
    "scikit-learn<=1.2.0\n",
    "matplotlib"
   ]
  },
  {
   "cell_type": "markdown",
   "metadata": {},
   "source": [
    "```numpy==1.23.5``` → Instalará exactamente la versión 1.23.5.\n",
    "\n",
    "```pandas>=1.5.3``` → Instalará la versión 1.5.3 o superior.\n",
    "\n",
    "```scikit-learn<=1.2.0``` → Instalará la versión 1.2.0 o anterior.\n",
    "\n",
    "```matplotlib``` → Instalará la última versión disponible."
   ]
  },
  {
   "cell_type": "markdown",
   "metadata": {},
   "source": [
    "En la terminal, ejecuta lo siguiente: ```pip freeze > requirements.txt```\n",
    "\n",
    "Para instalar librerias de un archivo requirements, ejecuta lo siguiente: ```pip install -r requirements.txt```"
   ]
  }
 ],
 "metadata": {
  "kernelspec": {
   "display_name": "base",
   "language": "python",
   "name": "python3"
  },
  "language_info": {
   "codemirror_mode": {
    "name": "ipython",
    "version": 3
   },
   "file_extension": ".py",
   "mimetype": "text/x-python",
   "name": "python",
   "nbconvert_exporter": "python",
   "pygments_lexer": "ipython3",
   "version": "3.12.4"
  }
 },
 "nbformat": 4,
 "nbformat_minor": 2
}
