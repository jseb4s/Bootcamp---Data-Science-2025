{
 "cells": [
  {
   "cell_type": "markdown",
   "metadata": {},
   "source": [
    "# Introducción a PowerShell y Comandos de Terminal\n",
    "\n",
    "## ¿Qué es PowerShell?\n",
    "\n",
    "PowerShell es una herramienta de línea de comandos y lenguaje de scripting desarrollada por Microsoft. Es más potente que el símbolo del sistema (`cmd`) y permite automatizar tareas, administrar archivos y configurar sistemas Windows de manera eficiente.\n",
    "\n",
    "A continuación, explicaremos y aplicaremos algunos de los comandos más utilizados en la terminal de PowerShell.\n",
    "\n",
    "---\n",
    "\n",
    "## 1. `pwd`\n",
    "### ¿Qué hace?\n",
    "Muestra el directorio de trabajo actual.\n",
    "\n",
    "### Uso:\n",
    "```powershell\n",
    "pwd"
   ]
  },
  {
   "cell_type": "markdown",
   "metadata": {},
   "source": [
    "## 2. `ls`\n",
    "### ¿Qué hace?\n",
    "Lista los archivos y directorios en el directorio actual..\n",
    "\n",
    "### Uso:\n",
    "```powershell\n",
    "ls  # Lista archivos y directorios\n",
    "ls -Directory  # Solo directorios\n",
    "ls -File  # Solo archivos"
   ]
  },
  {
   "cell_type": "markdown",
   "metadata": {},
   "source": [
    "## 3. `mkdir`\n",
    "### ¿Qué hace?\n",
    "Crea un nuevo directorio.\n",
    "\n",
    "### Uso:\n",
    "```bash\n",
    "mkdir nuevo_directorio"
   ]
  },
  {
   "cell_type": "markdown",
   "metadata": {},
   "source": [
    "## 4. `cd`\n",
    "### ¿Qué hace?\n",
    "Cambia el directorio de trabajo.\n",
    "\n",
    "### Uso:\n",
    "```powershell\n",
    "\n",
    "cd NombreDirectorio  # Moverse a un directorio específico\n",
    "cd ..  # Retroceder un nivel\n",
    "cd /  # Ir al directorio raíz\n"
   ]
  },
  {
   "cell_type": "markdown",
   "metadata": {},
   "source": [
    "## 5. `New-Item`\n",
    "### ¿Qué hace?\n",
    "Crea un nuevo archivo.\n",
    "\n",
    "### Uso:\n",
    "```bash\n",
    "New-Item archivo.txt  # Crea un archivo vacío\n",
    "New-Item -Path \"config.json\" -ItemType File -Value '{ \"config\": \"default\" }'\n"
   ]
  },
  {
   "cell_type": "markdown",
   "metadata": {},
   "source": [
    "## 6. `echo`\n",
    "### ¿Qué hace?\n",
    "Imprime un mensaje en la terminal o guarda un texto en un archivo..\n",
    "\n",
    "### Uso:\n",
    "```powershell\n",
    "echo \"Hola, mundo\"  # Imprime en pantalla\n",
    "echo \"Texto de prueba\" > archivo.txt  # Escribe en un archivo\n",
    "echo \"Nueva línea\" >> archivo.txt  # Agrega texto al archivo\n"
   ]
  },
  {
   "cell_type": "markdown",
   "metadata": {},
   "source": [
    "## 7. `cat`\n",
    "### ¿Qué hace?\n",
    "Muestra el contenido de un archivo.\n",
    "\n",
    "### Uso:\n",
    "```powershell\n",
    "cat archivo.txt  # Muestra todo el contenido\n",
    "cat archivo.txt -TotalCount 5  # Muestra las primeras 5 líneas\n",
    "cat archivo.txt -Tail 1  # Muestra la última línea\n"
   ]
  },
  {
   "cell_type": "markdown",
   "metadata": {},
   "source": [
    "## 8. `Remove-Item`\n",
    "### ¿Qué hace?\n",
    "Elimina archivos o directorios.\n",
    "\n",
    "### Uso:\n",
    "```powershell\n",
    "Remove-Item archivo.txt  # Eliminar archivo\n",
    "Remove-Item -Recurse carpeta/  # Eliminar carpeta con contenido"
   ]
  },
  {
   "cell_type": "markdown",
   "metadata": {},
   "source": [
    "## 9. `Clear-Host`\n",
    "### ¿Qué hace?\n",
    "Limpia la pantalla de la terminal.\n",
    "\n",
    "### Uso:\n",
    "```powershell\n",
    "Clear-Host"
   ]
  },
  {
   "cell_type": "markdown",
   "metadata": {},
   "source": [
    "## 10. `history`\n",
    "### ¿Qué hace?\n",
    "Muestra el historial de comandos ejecutados.\n",
    "\n",
    "### Uso:\n",
    "```powershell\n",
    "history -Count 10  # Últimos 10 comandos"
   ]
  },
  {
   "cell_type": "markdown",
   "metadata": {},
   "source": [
    "# Otros comandos:\n",
    "\n",
    "| Comando           | Descripción                                | Ejemplo de uso                          |\n",
    "|------------------|--------------------------------|----------------------------------|\n",
    "| `mv`            | Mueve o renombra archivos y directorios | `mv archivo.txt carpeta/` |\n",
    "| `cp`            | Copia archivos y directorios  | `cp archivo.txt copia.txt` |\n",
    "| `rmdir`         | Borra directorios vacíos     | `rmdir carpeta_vacia` |\n",
    "| `Get-Process`   | Lista procesos activos en el sistema | `Get-Process` |\n",
    "| `Get-Content`   | Muestra el contenido de un archivo | `Get-Content archivo.txt` |\n",
    "| `Select-String` | Busca texto dentro de un archivo | `Select-String \"error\" log.txt` |\n",
    "| `Get-ChildItem` | Lista archivos en un directorio con filtros | `Get-ChildItem -Filter \"*.txt\"` |\n",
    "| `Set-ExecutionPolicy` | Cambia la política de ejecución de scripts | `Set-ExecutionPolicy RemoteSigned` |\n",
    "| `Test-Path`     | Verifica si un archivo o carpeta existe | `Test-Path archivo.txt` |\n",
    "| `Start-Process` | Ejecuta programas desde la terminal | `Start-Process notepad.exe` |\n"
   ]
  },
  {
   "cell_type": "markdown",
   "metadata": {},
   "source": [
    "---"
   ]
  },
  {
   "cell_type": "markdown",
   "metadata": {},
   "source": [
    "# Bash vs PowerShell\n",
    "\n",
    "| Característica       | Bash                          | PowerShell                        |\n",
    "|---------------------|-----------------------------|----------------------------------|\n",
    "| **Sistema Operativo** | Linux y macOS (Windows con WSL) | Windows (también en Linux y macOS) |\n",
    "| **Salida de Comandos** | Texto plano | Objetos con propiedades y métodos |\n",
    "| **Sintaxis** | Basado en Unix/Linux | Basado en .NET y comandos estructurados |\n",
    "| **Gestión de Archivos** | `ls`, `cp`, `mv`, `rm` | `Get-ChildItem`, `Copy-Item`, `Move-Item`, `Remove-Item` |\n",
    "| **Ejecución de Scripts** | `./script.sh` (requiere permisos) | `.\\script.ps1` (puede necesitar configuración extra) |"
   ]
  },
  {
   "cell_type": "markdown",
   "metadata": {},
   "source": [
    "| Sistema     | Ventajas | Desventajas |\n",
    "|------------|----------|-------------|\n",
    "| **Bash** | ✅ Nativo en Linux y macOS | ❌ Menos compatible con Windows |\n",
    "|           | ✅ Gran cantidad de documentación y comunidad | ❌ No maneja objetos, solo texto |\n",
    "|           | ✅ Ligero y rápido para administración de servidores | ❌ Sintaxis menos estructurada para scripts complejos |\n",
    "| **PowerShell** | ✅ Mejor integración con Windows y herramientas .NET | ❌ No es nativo en Linux/macOS (aunque está disponible) |\n",
    "|               | ✅ Trabaja con objetos en lugar de solo texto | ❌ Más complejo para tareas simples en comparación con Bash |\n",
    "|               | ✅ Más potente para administración de sistemas Windows | ❌ Scripts pueden requerir permisos adicionales para ejecutarse |\n"
   ]
  },
  {
   "cell_type": "markdown",
   "metadata": {},
   "source": [
    "En esencia, Bash y PowerShell pueden hacer muchas de las mismas tareas, como gestionar archivos, ejecutar scripts, administrar procesos y automatizar tareas. Sin embargo, tienen diferencias clave en cómo hacen esas tareas:\n",
    "\n",
    "🔹 Bash es más ligero y eficiente para trabajar en entornos Linux/macOS, donde es nativo. Su enfoque está basado en texto y comandos simples, lo que lo hace ideal para administración de servidores y scripts rápidos.\n",
    "\n",
    "🔹 PowerShell es más potente en entornos Windows, ya que trabaja con objetos en lugar de solo texto. Esto lo hace ideal para administrar sistemas Windows, integrarse con herramientas .NET y realizar automatizaciones avanzadas."
   ]
  }
 ],
 "metadata": {
  "language_info": {
   "name": "python"
  }
 },
 "nbformat": 4,
 "nbformat_minor": 2
}
