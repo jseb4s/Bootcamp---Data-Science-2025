{
  "cells": [
    {
      "cell_type": "markdown",
      "metadata": {},
      "source": [
        "# 1. Introducción"
      ]
    },
    {
      "cell_type": "markdown",
      "metadata": {},
      "source": [
        "## Di 'Hola' al mundo en Python\n"
      ]
    },
    {
      "cell_type": "markdown",
      "metadata": {},
      "source": [
        "Cuando se aprende un nuevo lenguaje de programación, es habitual empezar con un ejemplo del tipo «hola mundo». Por simple que sea, esta única línea de código garantizará que sepamos cómo imprimir una cadena en la salida y cómo ejecutar código dentro de las celdas de un cuaderno."
      ]
    },
    {
      "cell_type": "markdown",
      "metadata": {},
      "source": [
        "Para ejecutar el código Python en la celda de código siguiente, haga clic en la celda para seleccionarla y pulse __Ctrl + Enter__"
      ]
    },
    {
      "cell_type": "code",
      "execution_count": 1,
      "metadata": {},
      "outputs": [
        {
          "name": "stdout",
          "output_type": "stream",
          "text": [
            "Hello, Python!\n"
          ]
        }
      ],
      "source": [
        "print('Hello, Python!')"
      ]
    },
    {
      "cell_type": "markdown",
      "metadata": {},
      "source": [
        "Después de ejecutar la celda anterior, deberías ver que Python imprime <code>Hello, Python!</code>. Felicitaciones por ejecutar tu primer código Python!\n"
      ]
    },
    {
      "cell_type": "markdown",
      "metadata": {},
      "source": [
        "<hr/>\n",
        "<div class=\"alert alert-success alertsuccess\" style=\"margin-top: 20px\">\n",
        "    [Tip:] <code>print()</code> es una función. Tu acabas de pasar la cadena <code>'Hello, Python!'</code> como un argumento para decirle a Python que debe imprimir.\n",
        "</div>\n",
        "<hr/>\n"
      ]
    },
    {
      "cell_type": "markdown",
      "metadata": {},
      "source": [
        "### Que versión de Python estamos utilizando?\n"
      ]
    },
    {
      "cell_type": "markdown",
      "metadata": {},
      "source": [
        "<p>\n",
        "    En la actualidad existen dos versiones populares del lenguaje de programación Python: Python 2 y Python 3. La comunidad de Python ha decidido pasar de Python 2 a Python 3, y muchas bibliotecas populares han anunciado que dejarán de dar soporte a Python 2.\n",
        "</p>\n",
        "<p>\n",
        "    En este curso estaremos utilizando Python 3. ¿Cómo sabemos que nuestro cuaderno es ejecutado por en Python 3? Podemos mirar en la esquina superior derecha de este cuaderno y ver «Python 3».\n",
        "</p>\n",
        "<p>\n",
        "    También podemos preguntar directamente a Python y obtener una respuesta detallada. Probemos ejecutando el siguiente código:\n",
        "</p>\n"
      ]
    },
    {
      "cell_type": "code",
      "execution_count": 2,
      "metadata": {},
      "outputs": [
        {
          "name": "stdout",
          "output_type": "stream",
          "text": [
            "3.12.4 | packaged by Anaconda, Inc. | (main, Jun 18 2024, 15:03:56) [MSC v.1929 64 bit (AMD64)]\n"
          ]
        }
      ],
      "source": [
        "import sys\n",
        "print(sys.version)"
      ]
    },
    {
      "cell_type": "markdown",
      "metadata": {},
      "source": [
        "<hr/>\n",
        "<div class=\"alert alert-success alertsuccess\" style=\"margin-top: 20px\">\n",
        "    [Tip:] <code>sys</code> es un módulo incorporado que contiene muchos parámetros y funciones específicos del sistema, incluyendo la versión de Python en uso. Antes de utilizarlo, debemos explicar que es <code>import</code>.\n",
        "</div>\n",
        "<hr/>\n"
      ]
    },
    {
      "cell_type": "markdown",
      "metadata": {},
      "source": [
        "### Escribir comentarios en Python\n"
      ]
    },
    {
      "cell_type": "markdown",
      "metadata": {},
      "source": [
        "<p>\n",
        "    Además de escribir código, ten en cuenta que siempre es buena idea añadir comentarios a tu código. Ayudará a los demás a entender lo que intentabas conseguir (la razón por la que escribiste un determinado fragmento de código). Esto no sólo ayuda a <strong>otras personas</strong> a entender tu codigo , tambien puede servir de recordatorio <strong>para ti</strong> cuando vuelves al codigo semanas o meses después.</p>\n",
        "\n",
        "<p>\n",
        "    Para escribir comentarios en Python, utiliza el símbolo numérico <code>#</code> antes de escribir tu comentario. Cuando ejecutes tu código, Python ignorará todo lo que pase de la línea <code>#</code> en una línea determinada.\n",
        "</p>"
      ]
    },
    {
      "cell_type": "code",
      "execution_count": 5,
      "metadata": {},
      "outputs": [
        {
          "name": "stdout",
          "output_type": "stream",
          "text": [
            "Hello, Python!\n"
          ]
        }
      ],
      "source": [
        "print('Hello, Python!') # This line prints a string"
      ]
    },
    {
      "cell_type": "markdown",
      "metadata": {},
      "source": [
        "<p>\n",
        "    Después de ejecutar la celda anterior, deberías observar que <code>This line prints a string</code> no aparece en la salida, porque es un comentario (y por lo tanto es ignorado por Python).\n",
        "</p>"
      ]
    },
    {
      "cell_type": "markdown",
      "metadata": {},
      "source": [
        "<h3 id=\"errors\">Errores en Python</h3>\n"
      ]
    },
    {
      "cell_type": "markdown",
      "metadata": {},
      "source": [
        "<p>Todo el mundo comete errores. Para muchos tipos de errores, Python te dirá que has cometido un error dándote un mensaje de error. Es importante leer los mensajes de error cuidadosamente para entender realmente dónde cometiste un error y cómo puedes corregirlo.</p>\n",
        "<p>Por ejemplo, si escribes <code>frint</code> en lugar de <code>print</code>, Python mostrará un mensaje de error:</p>\n"
      ]
    },
    {
      "cell_type": "code",
      "execution_count": null,
      "metadata": {},
      "outputs": [
        {
          "name": "stdout",
          "output_type": "stream",
          "text": [
            "Hello, Python!\n"
          ]
        }
      ],
      "source": [
        "frint(\"Hello, Python!\")"
      ]
    },
    {
      "cell_type": "markdown",
      "metadata": {},
      "source": [
        "<p>El mensaje de error te indica: \n",
        "<ol>\n",
        "    <li>dónde se ha producido el error, y</li> \n",
        "    <li>que tipo de error es (NameError)</li> \n",
        "</ol>\n",
        "<p>Aquí, Python intentó ejecutar la función <code>frint</code>, pero no pudo determinar que es <code>frint</code> ya que no es una función incorporada y tampoco ha sido definida previamente por nosotros.</p>\n"
      ]
    },
    {
      "cell_type": "markdown",
      "metadata": {},
      "source": [
        "<p>\n",
        "    A continuación, observarás que si cometemos otro tipo de error, como no cerrar una cadena entre comillas, obtendremos un error diferente (p.e., un <code>SyntaxError</code>). Intentemoslo:\n",
        "</p>"
      ]
    },
    {
      "cell_type": "code",
      "execution_count": 7,
      "metadata": {},
      "outputs": [
        {
          "ename": "SyntaxError",
          "evalue": "unterminated string literal (detected at line 1) (2908026681.py, line 1)",
          "output_type": "error",
          "traceback": [
            "\u001b[1;36m  Cell \u001b[1;32mIn[7], line 1\u001b[1;36m\u001b[0m\n\u001b[1;33m    print(\"Hello, Python!)\u001b[0m\n\u001b[1;37m          ^\u001b[0m\n\u001b[1;31mSyntaxError\u001b[0m\u001b[1;31m:\u001b[0m unterminated string literal (detected at line 1)\n"
          ]
        }
      ],
      "source": [
        "print(\"Hello, Python!)"
      ]
    },
    {
      "cell_type": "markdown",
      "metadata": {},
      "source": [
        "### ¿Sabe Python de tu error antes de ejecutar tu código?\n"
      ]
    },
    {
      "cell_type": "markdown",
      "metadata": {},
      "source": [
        "Python es lo que se denomina un <em>lenguaje interpretado</em>. Los lenguajes compilados examinan todo el programa en tiempo de compilación y pueden advertirte de toda una serie de errores antes de la ejecución. Por el contrario, Python interpreta tu script línea por línea a medida que lo ejecuta. Python detendrá la ejecución de todo el programa cuando encuentre un error (a menos que el error sea esperado y manejado por el programador, un tema más avanzado que cubriremos más adelante en este curso).\n"
      ]
    },
    {
      "cell_type": "markdown",
      "metadata": {},
      "source": [
        "Intentemos ejecutar el código en la celda de abajo y miremos qué pasa:\n"
      ]
    },
    {
      "cell_type": "code",
      "execution_count": 8,
      "metadata": {},
      "outputs": [
        {
          "name": "stdout",
          "output_type": "stream",
          "text": [
            "This will be printed\n"
          ]
        },
        {
          "ename": "NameError",
          "evalue": "name 'frint' is not defined",
          "output_type": "error",
          "traceback": [
            "\u001b[1;31m---------------------------------------------------------------------------\u001b[0m",
            "\u001b[1;31mNameError\u001b[0m                                 Traceback (most recent call last)",
            "Cell \u001b[1;32mIn[8], line 2\u001b[0m\n\u001b[0;32m      1\u001b[0m \u001b[38;5;28mprint\u001b[39m(\u001b[38;5;124m\"\u001b[39m\u001b[38;5;124mThis will be printed\u001b[39m\u001b[38;5;124m\"\u001b[39m)\n\u001b[1;32m----> 2\u001b[0m \u001b[43mfrint\u001b[49m(\u001b[38;5;124m\"\u001b[39m\u001b[38;5;124mThis will cause an error\u001b[39m\u001b[38;5;124m\"\u001b[39m)\n\u001b[0;32m      3\u001b[0m \u001b[38;5;28mprint\u001b[39m(\u001b[38;5;124m\"\u001b[39m\u001b[38;5;124mThis will NOT be printed\u001b[39m\u001b[38;5;124m\"\u001b[39m)\n",
            "\u001b[1;31mNameError\u001b[0m: name 'frint' is not defined"
          ]
        }
      ],
      "source": [
        "print(\"This will be printed\")\n",
        "frint(\"This will cause an error\")\n",
        "print(\"This will NOT be printed\")"
      ]
    },
    {
      "cell_type": "markdown",
      "metadata": {},
      "source": [
        "### Ejercicio: Tu primer programa\n"
      ]
    },
    {
      "cell_type": "markdown",
      "metadata": {},
      "source": [
        "<p>Generaciones de programadores han comenzado sus carreras de codificación simplemente imprimiendo «¡Hola, mundo!». Tú seguirás sus pasos.</p>\n",
        "<p>En la celda de abajo, utiliza la función <code>print()</code> para imprimir la frase: <code>Hello, world!</code></p>\n"
      ]
    },
    {
      "cell_type": "code",
      "execution_count": null,
      "metadata": {},
      "outputs": [],
      "source": [
        "# Escribe tu codigo\n"
      ]
    },
    {
      "cell_type": "markdown",
      "metadata": {},
      "source": [
        "<p>Ahora, vamos a mejorar tu código con un comentario. En la celda de código de abajo, imprime la frase: <code>Hello, world!</code> y comentalo con la frase <code>Print the traditional hello world</code>. Realiza todo en una sola linea de código.</p>\n"
      ]
    },
    {
      "cell_type": "code",
      "execution_count": null,
      "metadata": {},
      "outputs": [],
      "source": [
        "# Escribe tu codigo\n"
      ]
    },
    {
      "cell_type": "markdown",
      "metadata": {},
      "source": [
        "```toggle## Change Log\n",
        "```\n",
        "\n",
        "\n",
        "```toggle|  Date (YYYY-MM-DD) |  Version | Changed By  |  Change Description |\n",
        "```\n",
        "```toggle|---|---|---|---|\n",
        "```\n",
        "```toggle| 2023-10-30 | 2.2 | Abhishek Gagneja| Updated instructions |\n",
        "```\n",
        "```toggle| 2022-01-10  | 2.1  | Malika  | Removed the readme for GitShare|\n",
        "```\n",
        "```toggle| 2020-08-26  | 2.0  | Lavanya | Moved lab to course repo in GitLab |\n",
        "```\n"
      ]
    }
  ],
  "metadata": {
    "kernelspec": {
      "display_name": "base",
      "language": "python",
      "name": "python3"
    },
    "language_info": {
      "codemirror_mode": {
        "name": "ipython",
        "version": 3
      },
      "file_extension": ".py",
      "mimetype": "text/x-python",
      "name": "python",
      "nbconvert_exporter": "python",
      "pygments_lexer": "ipython3",
      "version": "3.12.4"
    },
    "prev_pub_hash": "ca1310ac17e8c0d981423b0a99104e3f393f1263e1c63d2826b8166e16846e36"
  },
  "nbformat": 4,
  "nbformat_minor": 4
}
