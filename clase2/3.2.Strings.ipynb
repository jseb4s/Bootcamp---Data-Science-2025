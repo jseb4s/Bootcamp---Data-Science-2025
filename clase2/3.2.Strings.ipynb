{
  "cells": [
    {
      "cell_type": "markdown",
      "metadata": {},
      "source": [
        "### Concatenar Cadenas\n"
      ]
    },
    {
      "cell_type": "markdown",
      "metadata": {},
      "source": [
        "Podemos concatenar o combinar cadenas utilizando los símbolos de suma, y el resultado es una nueva cadena que es una combinación de ambas:"
      ]
    },
    {
      "cell_type": "code",
      "execution_count": 1,
      "metadata": {},
      "outputs": [
        {
          "data": {
            "text/plain": [
              "'Aerosmith is the best'"
            ]
          },
          "execution_count": 1,
          "metadata": {},
          "output_type": "execute_result"
        }
      ],
      "source": [
        "name = \"Aerosmith\"\n",
        "statement = name + \" \" + \"is the best\"\n",
        "statement"
      ]
    },
    {
      "cell_type": "markdown",
      "metadata": {},
      "source": [
        "Para replicar valores de una cadena simplemente multiplicamos la cadena por el número de veces que queremos replicarla. En este caso, el número es tres. El resultado es una nueva cadena, y esta nueva cadena consta de tres copias de la cadena original:"
      ]
    },
    {
      "cell_type": "code",
      "execution_count": 2,
      "metadata": {},
      "outputs": [
        {
          "data": {
            "text/plain": [
              "'Michael JacksonMichael JacksonMichael Jackson'"
            ]
          },
          "execution_count": 2,
          "metadata": {},
          "output_type": "execute_result"
        }
      ],
      "source": [
        "3 * \"Michael Jackson\""
      ]
    },
    {
      "cell_type": "markdown",
      "metadata": {},
      "source": [
        "## Secuencias de escape\n"
      ]
    },
    {
      "cell_type": "markdown",
      "metadata": {},
      "source": [
        "Las secuencias de escape en Python son combinaciones de caracteres que comienzan con una barra invertida <code>\\\\</code> y tienen un significado especial. Estas secuencias permiten representar caracteres que de otro modo serían difíciles o imposibles de incluir directamente en una cadena de texto. Por ejemplo, permiten insertar caracteres como saltos de línea, tabulaciones, entre otros."
      ]
    },
    {
      "cell_type": "code",
      "execution_count": 3,
      "metadata": {},
      "outputs": [
        {
          "name": "stdout",
          "output_type": "stream",
          "text": [
            " Iron Maiden \n",
            " is the \n",
            " best\n"
          ]
        }
      ],
      "source": [
        "print(\" Iron Maiden \\n is the \\n best\" )"
      ]
    },
    {
      "cell_type": "code",
      "execution_count": 4,
      "metadata": {},
      "outputs": [
        {
          "name": "stdout",
          "output_type": "stream",
          "text": [
            "Metallica \t is the best\n"
          ]
        }
      ],
      "source": [
        "print(\"Metallica \\t is the best\" )"
      ]
    },
    {
      "cell_type": "code",
      "execution_count": 5,
      "metadata": {},
      "outputs": [
        {
          "name": "stdout",
          "output_type": "stream",
          "text": [
            "RHCP is the \\ best\n"
          ]
        },
        {
          "name": "stderr",
          "output_type": "stream",
          "text": [
            "<>:1: SyntaxWarning: invalid escape sequence '\\ '\n",
            "<>:1: SyntaxWarning: invalid escape sequence '\\ '\n",
            "C:\\Users\\JUANC\\AppData\\Local\\Temp\\ipykernel_18504\\2011976780.py:1: SyntaxWarning: invalid escape sequence '\\ '\n",
            "  print(\"RHCP is the \\ best\")\n"
          ]
        }
      ],
      "source": [
        "print(\"RHCP is the \\ best\")"
      ]
    },
    {
      "cell_type": "code",
      "execution_count": 6,
      "metadata": {},
      "outputs": [
        {
          "name": "stdout",
          "output_type": "stream",
          "text": [
            "AC\\DC\n"
          ]
        }
      ],
      "source": [
        "print(\"AC\\\\DC\")"
      ]
    },
    {
      "cell_type": "markdown",
      "metadata": {},
      "source": [
        "| Secuencia de Escape | Descripción                   | Ejemplo de Código                  | Resultado                            |\n",
        "|---------------------|-------------------------------|------------------------------------|--------------------------------------|\n",
        "| `\\n`                | Salto de línea                | `print(\"Hola\\nMundo\")`            | Hola<br>Mundo                       |\n",
        "| `\\t`                | Tabulación                    | `print(\"Hola\\tMundo\")`            | Hola    Mundo                       |\n",
        "| `\\\\`                | Barra invertida literal       | `print(\"Hola\\\\Mundo\")`            | Hola\\Mundo                          |\n",
        "| `\\'`                | Comilla simple literal        | `print('It\\'s Python')`           | It's Python                         |\n",
        "| `\\\"`                | Comilla doble literal         | `print(\"Dijo: \\\"Hola\\\"\")`         | Dijo: \"Hola\"                        |\n",
        "| `\\r`                | Retorno de carro              | `print(\"Hola\\rMundo\")`            | Mundo                               |\n",
        "| `\\b`                | Retroceso (backspace)         | `print(\"Hola\\bMundo\")`            | HolMundo                            |\n",
        "| `\\f`                | Salto de página               | `print(\"Hola\\fMundo\")`            | Hola␌Mundo (depende del entorno)    |\n",
        "| `\\uXXXX`            | Carácter Unicode (hex)        | `print(\"\\u03A9\")`                 | Ω (letra Omega en Unicode)          |\n",
        "| `\\xXX`              | Carácter en hexadecimal       | `print(\"\\x48\\x6F\\x6C\\x61\")`       | Hola                                |"
      ]
    },
    {
      "cell_type": "markdown",
      "metadata": {},
      "source": [
        "También podemos colocar una «r» antes de la cadena para mostrar la barra invertida:"
      ]
    },
    {
      "cell_type": "code",
      "execution_count": 7,
      "metadata": {},
      "outputs": [
        {
          "name": "stdout",
          "output_type": "stream",
          "text": [
            "AC\\DC\n"
          ]
        }
      ],
      "source": [
        "print(r\"AC\\DC\" )"
      ]
    },
    {
      "cell_type": "markdown",
      "metadata": {},
      "source": [
        "La letra r antes de una cadena en Python indica que se trata de una cadena sin procesar o cadena cruda (raw string). En una cadena cruda, las secuencias de escape, como \\n, \\t, etc., no se interpretan como caracteres especiales; en su lugar, se tratan literalmente como texto.\n",
        "\n",
        "Esto es especialmente útil cuando se trabaja con rutas de archivos, expresiones regulares, o cualquier otra situación en la que quieras que las barras invertidas (\\) se mantengan tal como están, sin que Python intente interpretarlas como secuencias de escape."
      ]
    },
    {
      "cell_type": "code",
      "execution_count": 49,
      "metadata": {},
      "outputs": [
        {
          "name": "stdout",
          "output_type": "stream",
          "text": [
            "Hola\\ Como estas\\n\n"
          ]
        }
      ],
      "source": [
        "print(r\"Hola\\ Como estas\\n\")"
      ]
    },
    {
      "cell_type": "markdown",
      "metadata": {},
      "source": [
        "### f-strings\n",
        "\n",
        "Las f-strings son una forma de formatear cadenas en Python, disponibles desde Python 3.6. Llevan el prefijo 'f' y utilizan llaves {} para encerrar las variables que serán formateadas."
      ]
    },
    {
      "cell_type": "markdown",
      "metadata": {},
      "source": [
        "![f-strings en Python](https://www.codingem.com/wp-content/uploads/2022/02/f-strings-in-python.png)"
      ]
    },
    {
      "cell_type": "code",
      "execution_count": 8,
      "metadata": {},
      "outputs": [
        {
          "name": "stdout",
          "output_type": "stream",
          "text": [
            "My name is John and I am 30 years old.\n"
          ]
        }
      ],
      "source": [
        "name = \"John\"\n",
        "age = 30\n",
        "\n",
        "print(f\"My name is {name} and I am {age} years old.\")"
      ]
    },
    {
      "cell_type": "code",
      "execution_count": 9,
      "metadata": {},
      "outputs": [
        {
          "name": "stdout",
          "output_type": "stream",
          "text": [
            "The sum of x and y is 30.\n"
          ]
        }
      ],
      "source": [
        "x = 10\n",
        "y = 20\n",
        "print(f\"The sum of x and y is {x+y}.\")"
      ]
    },
    {
      "cell_type": "markdown",
      "metadata": {},
      "source": [
        "### str.format"
      ]
    },
    {
      "cell_type": "markdown",
      "metadata": {},
      "source": [
        "Es una forma de formatear cadenas de texto, permitiendo insertar variables o expresiones dentro de una cadena mediante llaves {}. Es una alternativa a las f-strings, aunque fue introducido antes de ellas."
      ]
    },
    {
      "cell_type": "code",
      "execution_count": 52,
      "metadata": {},
      "outputs": [
        {
          "name": "stdout",
          "output_type": "stream",
          "text": [
            "My name is John and I am 50 years old.\n"
          ]
        }
      ],
      "source": [
        "name = \"John\"\n",
        "age = 50\n",
        "print(\"My name is {} and I am {} years old.\".format(name, age))"
      ]
    },
    {
      "cell_type": "code",
      "execution_count": 53,
      "metadata": {},
      "outputs": [
        {
          "name": "stdout",
          "output_type": "stream",
          "text": [
            "Hola, me llamo Luis y tengo 30 años.\n"
          ]
        }
      ],
      "source": [
        "print(\"Hola, me llamo {nombre} y tengo {edad} años.\".format(nombre=\"Luis\", edad=30))"
      ]
    },
    {
      "cell_type": "markdown",
      "metadata": {},
      "source": [
        "### Operador %"
      ]
    },
    {
      "cell_type": "markdown",
      "metadata": {},
      "source": [
        "El formato con % es una forma más antigua de formatear cadenas en Python, inspirada en el estilo de formateo de cadenas de C. En esta técnica, se utiliza el operador % junto con marcadores de posición dentro de la cadena para insertar variables. A pesar de que las f-strings y el método str.format() son más recomendados en versiones recientes de Python, el formato con % sigue siendo válido y útil en algunos contextos."
      ]
    },
    {
      "cell_type": "code",
      "execution_count": 55,
      "metadata": {},
      "outputs": [
        {
          "name": "stdout",
          "output_type": "stream",
          "text": [
            "Hola, me llamo Marta y tengo 25 años.\n"
          ]
        }
      ],
      "source": [
        "nombre = \"Marta\"\n",
        "edad = 25\n",
        "\n",
        "mensaje = \"Hola, me llamo %s y tengo %d años.\" % (nombre, edad)\n",
        "print(mensaje)"
      ]
    },
    {
      "cell_type": "markdown",
      "metadata": {},
      "source": [
        "# Ejercicio"
      ]
    },
    {
      "cell_type": "markdown",
      "metadata": {},
      "source": [
        "Almacena tu nombre y edad en variables separadas, concatenalas e imprimelas en una sola frase haciendo uso del operador <code>+</code>"
      ]
    },
    {
      "cell_type": "code",
      "execution_count": 62,
      "metadata": {},
      "outputs": [
        {
          "data": {
            "text/plain": [
              "'Mi nombre es Juan Sebastian y tengo 24 años'"
            ]
          },
          "execution_count": 62,
          "metadata": {},
          "output_type": "execute_result"
        }
      ],
      "source": [
        "nombre = \"Juan Sebastian\"\n",
        "edad = \"24\"\n",
        "\n",
        "presentacion = \"Mi nombre es \" +  nombre + \" y tengo \" + edad  + \" años\"\n",
        "presentacion"
      ]
    },
    {
      "cell_type": "markdown",
      "metadata": {},
      "source": [
        "Imprime una frase en dos líneas, donde la segunda línea esté tabulada."
      ]
    },
    {
      "cell_type": "code",
      "execution_count": 56,
      "metadata": {},
      "outputs": [
        {
          "name": "stdout",
          "output_type": "stream",
          "text": [
            "Hola\n",
            "\t¿Cómo estás?\n"
          ]
        }
      ],
      "source": [
        "print(\"Hola\\n\\t¿Cómo estás?\")"
      ]
    },
    {
      "cell_type": "markdown",
      "metadata": {},
      "source": [
        "Almacena tu nombre y edad en variables separadas, concatenalas e imprimelas en una sola frase haciendo uso de <code>f-strings</code>"
      ]
    },
    {
      "cell_type": "code",
      "execution_count": 64,
      "metadata": {},
      "outputs": [
        {
          "name": "stdout",
          "output_type": "stream",
          "text": [
            "Mi nombre es Juan Sebastian y tengo 24 años.\n"
          ]
        }
      ],
      "source": [
        "nombre = \"Juan Sebastian\"\n",
        "edad = 24\n",
        "\n",
        "mensaje = f\"Mi nombre es {nombre} y tengo {edad} años.\"\n",
        "\n",
        "print(mensaje)"
      ]
    },
    {
      "cell_type": "markdown",
      "metadata": {},
      "source": [
        "Almacena tu nombre, estatura y edad en variables separadas. Concatena estas variables en una sola frase usando el operador <code>+</code>. Luego, imprime cada una en una línea, de la siguiente forma:\n",
        "\n",
        "Nombre: Juan Sebastian\n",
        "\n",
        "Estatura: 1.75\n",
        "\n",
        "Edad: 24"
      ]
    },
    {
      "cell_type": "code",
      "execution_count": 70,
      "metadata": {},
      "outputs": [
        {
          "name": "stdout",
          "output_type": "stream",
          "text": [
            "Nombre: Juan Sebastian\n",
            "Estatura: 1.75\n",
            "Edad: 24\n"
          ]
        }
      ],
      "source": [
        "nombre = \"Juan Sebastian\"\n",
        "estatura = \"1.75\"\n",
        "edad = \"24\"\n",
        "\n",
        "mensaje = \"Nombre: \" + nombre + \"\\nEstatura: \" + estatura + f\"\\nEdad: {edad}\"\n",
        "\n",
        "print(mensaje)"
      ]
    }
  ],
  "metadata": {
    "kernelspec": {
      "display_name": "base",
      "language": "python",
      "name": "python3"
    },
    "language_info": {
      "codemirror_mode": {
        "name": "ipython",
        "version": 3
      },
      "file_extension": ".py",
      "mimetype": "text/x-python",
      "name": "python",
      "nbconvert_exporter": "python",
      "pygments_lexer": "ipython3",
      "version": "3.12.4"
    }
  },
  "nbformat": 4,
  "nbformat_minor": 4
}
