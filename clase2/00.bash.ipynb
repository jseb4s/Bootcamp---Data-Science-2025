{
 "cells": [
  {
   "cell_type": "markdown",
   "metadata": {},
   "source": [
    "# Introducción a Bash y Comandos de Terminal\n",
    "\n",
    "## ¿Qué es Bash?\n",
    "\n",
    "Bash (Bourne Again SHell) es un intérprete de comandos utilizado en sistemas operativos Unix y Linux. Permite a los usuarios interactuar con el sistema operativo ejecutando comandos para gestionar archivos, procesos y configurar el sistema.\n",
    "\n",
    "A continuación, explicaremos y aplicaremos algunos de los comandos más utilizados en la terminal Bash.\n",
    "\n",
    "---\n",
    "\n",
    "## 1. `pwd`\n",
    "### ¿Qué hace?\n",
    "Muestra el directorio de trabajo actual.\n",
    "\n",
    "### Uso:\n",
    "```bash\n",
    "pwd"
   ]
  },
  {
   "cell_type": "markdown",
   "metadata": {},
   "source": [
    "## 2. `ls`\n",
    "### ¿Qué hace?\n",
    "Lista los archivos y directorios en el directorio actual..\n",
    "\n",
    "### Uso:\n",
    "```bash\n",
    "ls\n",
    "\n",
    "ls --help: Muestra información sobre el uso del comando.\n",
    "ls -l: Muestra detalles adicionales, como permisos, propietario, tamaño y fecha de modificación."
   ]
  },
  {
   "cell_type": "markdown",
   "metadata": {},
   "source": [
    "## 3. `mkdir`\n",
    "### ¿Qué hace?\n",
    "Crea un nuevo directorio.\n",
    "\n",
    "### Uso:\n",
    "```bash\n",
    "mkdir nuevo_directorio"
   ]
  },
  {
   "cell_type": "markdown",
   "metadata": {},
   "source": [
    "## 4. `cd`\n",
    "### ¿Qué hace?\n",
    "Cambia el directorio de trabajo.\n",
    "\n",
    "### Uso:\n",
    "```bash\n",
    "cd nuevo_directorio\n",
    "cd ..   # Para retroceder un nivel en la jerarquía de directorios"
   ]
  },
  {
   "cell_type": "markdown",
   "metadata": {},
   "source": [
    "## 5. `touch`\n",
    "### ¿Qué hace?\n",
    "Crea un nuevo archivo vacío.\n",
    "\n",
    "### Uso:\n",
    "```bash\n",
    "touch archivo.txt"
   ]
  },
  {
   "cell_type": "markdown",
   "metadata": {},
   "source": [
    "## 6. `echo`\n",
    "### ¿Qué hace?\n",
    "Imprime un mensaje en la terminal o guarda un texto en un archivo..\n",
    "\n",
    "### Uso:\n",
    "```bash\n",
    "echo \"Hola, mundo\"\n",
    "echo \"Texto de ejemplo\" > archivo.txt # Agrega contenido a un nuevo archivo.\n",
    "echo \"Línea extra\" >> archivo.txt  # Agrega contenido al archivo existente."
   ]
  },
  {
   "cell_type": "markdown",
   "metadata": {},
   "source": [
    "## 7. `cat`\n",
    "### ¿Qué hace?\n",
    "Muestra el contenido de un archivo.\n",
    "\n",
    "### Uso:\n",
    "```bash\n",
    "cat archivo.txt"
   ]
  },
  {
   "cell_type": "markdown",
   "metadata": {},
   "source": [
    "## 8. `rm`\n",
    "### ¿Qué hace?\n",
    "Elimina archivos o directorios.\n",
    "\n",
    "### Uso:\n",
    "```bash\n",
    "rm archivo.txt\n",
    "rm -r carpeta  # Elimina un directorio y su contenido"
   ]
  },
  {
   "cell_type": "markdown",
   "metadata": {},
   "source": [
    "## 9. `clear`\n",
    "### ¿Qué hace?\n",
    "Limpia la pantalla de la terminal.\n",
    "\n",
    "### Uso:\n",
    "```bash\n",
    "clear"
   ]
  },
  {
   "cell_type": "markdown",
   "metadata": {},
   "source": [
    "## 10. `history`\n",
    "### ¿Qué hace?\n",
    "Muestra el historial de comandos ejecutados.\n",
    "\n",
    "### Uso:\n",
    "```bash\n",
    "history 500 # Muestra los últimos 500 comandos"
   ]
  },
  {
   "cell_type": "markdown",
   "metadata": {},
   "source": [
    "# Otros comandos:\n",
    "\n",
    "| Comando  | Descripción | Ejemplo de uso |\n",
    "|----------|------------|---------------|\n",
    "| `mv`     | Mueve o renombra archivos y directorios | `mv archivo.txt carpeta/` |\n",
    "| `cp`     | Copia archivos y directorios | `cp archivo.txt copia.txt` |\n",
    "| `rmdir`  | Borra directorios vacíos | `rmdir carpeta_vacia` |\n",
    "| `df`     | Muestra el espacio disponible en el disco | `df -h` |\n",
    "| `du`     | Muestra el tamaño de un archivo o directorio | `du -sh carpeta/` |\n",
    "| `grep`   | Busca texto dentro de un archivo | `grep \"error\" log.txt` |\n",
    "| `find`   | Busca archivos en un directorio | `find . -name \"*.txt\"` |\n",
    "| `chmod`  | Cambia permisos de un archivo | `chmod 755 script.sh` |\n",
    "| `wget`   | Descarga archivos desde internet | `wget https://ejemplo.com/archivo.zip` |\n",
    "| `tar`    | Comprime o descomprime archivos | `tar -czf backup.tar.gz carpeta/` |"
   ]
  }
 ],
 "metadata": {
  "language_info": {
   "name": "python"
  }
 },
 "nbformat": 4,
 "nbformat_minor": 2
}
