{
 "cells": [
  {
   "cell_type": "markdown",
   "id": "86fa96cc",
   "metadata": {},
   "source": [
    "# 🧠 Guía Básica de Dash (Python)\n",
    "\n",
    "Dash es un framework en Python para crear **Dashboards interactivos y visuales** fácilmente, usando componentes como tarjetas, gráficos, filtros, y más.\n",
    "\n",
    "---\n",
    "\n",
    "## 📦 ¿Qué es Dash?\n",
    "\n",
    "- Dash combina lo mejor de **Flask** (backend), **Plotly** (gráficos) y **React.js** (frontend).\n",
    "- Permite crear interfaces web sin escribir JavaScript.\n",
    "- Todo se hace en Python, ¡y se ve como una aplicación web moderna!\n",
    "\n",
    "---\n",
    "\n",
    "## 🧩 Estructura de un Dashboard en Dash\n",
    "\n",
    "Un proyecto en Dash se divide en 3 partes principales:\n",
    "\n",
    "### 1. **Layout (Diseño)**\n",
    "\n",
    "Aquí defines **cómo se ve** el dashboard:\n",
    "- Qué componentes hay (gráficos, filtros, botones, textos…).\n",
    "- Dónde se ubican.\n",
    "- Qué IDs tienen (para conectarlos después).\n",
    "\n",
    "Ejemplo:\n",
    "\n",
    "```python\n",
    "app.layout = html.Div([\n",
    "    dcc.Dropdown(id='mi-dropdown', options=[...]),\n",
    "    dcc.Graph(id='mi-grafico'),\n",
    "    html.Div(id='resultado')\n",
    "])"
   ]
  },
  {
   "cell_type": "markdown",
   "id": "b356062a",
   "metadata": {},
   "source": [
    "### 2. **Inputs y Outputs (Conexiones)**\n",
    "Cada vez que el usuario cambia algo (como seleccionar un valor o escribir un número), Dash puede:\n",
    "\n",
    "- Leer ese valor (Input)\n",
    "\n",
    "- Procesarlo\n",
    "\n",
    "- Actualizar algún componente (Output)"
   ]
  },
  {
   "cell_type": "markdown",
   "id": "90e358c2",
   "metadata": {},
   "source": [
    "### 3. **Callback (Lógica)**\n",
    "Es la función que dice:\n",
    "\"Cuando el usuario haga esto ➝ cambia aquello.\"\n",
    "\n",
    "```python\n",
    "\n",
    "@app.callback(\n",
    "    Output('resultado', 'children'),\n",
    "    Input('mi-dropdown', 'value')\n",
    ")\n",
    "def actualizar_resultado(valor):\n",
    "    return f\"Seleccionaste: {valor}\"\n"
   ]
  },
  {
   "cell_type": "markdown",
   "id": "5ad958a7",
   "metadata": {},
   "source": [
    "### Propiedades comunes de componentes\n",
    "\n",
    "| Propiedad           | ¿Para qué sirve?                         | Se usa con...                   |\n",
    "|---------------------|------------------------------------------|---------------------------------|\n",
    "| `children`          | Contenido dentro del componente          | `html.Div`, `dbc.Card`          |\n",
    "| `value`             | El valor seleccionado o escrito          | `Dropdown`, `Input`             |\n",
    "| `figure`            | El gráfico a mostrar                     | `dcc.Graph`                     |\n",
    "| `options`           | Lista de opciones para dropdown          | `Dropdown`                      |\n",
    "| `date`              | Fecha seleccionada                       | `DatePickerSingle`              |\n",
    "| `start_date` / `end_date` | Rango de fechas                   | `DatePickerRange`               |"
   ]
  },
  {
   "cell_type": "markdown",
   "id": "1280ecda",
   "metadata": {},
   "source": [
    "### Estructura típica de un proyecto en Dash\n",
    "```python\n",
    "\n",
    "import dash\n",
    "from dash import dcc, html, Input, Output\n",
    "\n",
    "app = dash.Dash(__name__)\n",
    "\n",
    "# 1. Layout (cómo se ve)\n",
    "app.layout = html.Div([\n",
    "    dcc.Input(id='entrada'),\n",
    "    html.Div(id='salida')\n",
    "])\n",
    "\n",
    "# 2. Callback (qué pasa cuando el usuario cambia algo)\n",
    "@app.callback(\n",
    "    Output('salida', 'children'),\n",
    "    Input('entrada', 'value')\n",
    ")\n",
    "def actualizar_salida(valor):\n",
    "    return f\"Escribiste: {valor}\"\n",
    "\n",
    "# 3. Ejecutar servidor\n",
    "if __name__ == '__main__':\n",
    "    app.run_server(debug=True)"
   ]
  },
  {
   "cell_type": "markdown",
   "id": "c388897b",
   "metadata": {},
   "source": [
    "## 🔁 ¿Cómo funciona un Callback?\n",
    "- El usuario cambia un valor (por ejemplo, selecciona una empresa).\n",
    "\n",
    "- Ese valor se envía como Input a la función Python.\n",
    "\n",
    "- La función procesa, calcula y devuelve algo.\n",
    "\n",
    "- Ese resultado se muestra en pantalla (Output).\n",
    "\n",
    "## 🧠 Buenas prácticas\n",
    "- Usa IDs únicos para cada componente.\n",
    "\n",
    "- Agrupa visualmente usando dbc.Row y dbc.Col.\n",
    "\n",
    "- Divide bien tu lógica en funciones si es compleja.\n",
    "\n",
    "- Usa dcc.Loading para que el dashboard no se congele al actualizar."
   ]
  },
  {
   "cell_type": "markdown",
   "id": "77edbc65",
   "metadata": {},
   "source": [
    "## 🌀 ¿Por qué usamos `@` en Dash?\n",
    "\n",
    "El símbolo `@` en Python se llama **decorador**. Es una forma corta de decirle a Python:\n",
    "\n",
    "> “Esta función debe ser modificada o controlada por otra cosa.”\n",
    "\n",
    "### 🔍 En Dash:\n",
    "\n",
    "```python\n",
    "@app.callback(\n",
    "    Output('salida', 'children'),\n",
    "    Input('entrada', 'value')\n",
    ")\n",
    "def actualizar(valor):\n",
    "    return f\"Escribiste: {valor}\"\n"
   ]
  },
  {
   "cell_type": "markdown",
   "id": "894071b2",
   "metadata": {},
   "source": [
    "# Ejemplo aplicado\n",
    "\n",
    "### SP500"
   ]
  }
 ],
 "metadata": {
  "language_info": {
   "name": "python"
  }
 },
 "nbformat": 4,
 "nbformat_minor": 5
}
