{
 "cells": [
  {
   "cell_type": "markdown",
   "metadata": {},
   "source": [
    "# Taller de SQLite\n",
    "\n",
    "## 1. Introducción\n",
    "\n",
    "Este taller práctico te guiará a través de la creación de una base de datos SQLite para gestionar una empresa, cubriendo:\n",
    "\n",
    "- Creación de tablas y relaciones (DDL)\n",
    "\n",
    "- Inserción y manipulación de datos (DML)\n",
    "\n",
    "- Consultas avanzadas (JOINS, GROUP BY, HAVING, subconsultas)\n",
    "\n",
    "- Control de acceso y permisos (DCL)\n",
    "\n",
    "- Visualización del esquema de la base de datos\n",
    "---"
   ]
  },
  {
   "cell_type": "markdown",
   "metadata": {},
   "source": [
    "## 2. Creación de la Base de Datos y Tablas (DDL)"
   ]
  },
  {
   "cell_type": "code",
   "execution_count": 1,
   "metadata": {},
   "outputs": [],
   "source": [
    "import sqlite3\n",
    "\n",
    "conn = sqlite3.connect(\"empresa.db\")"
   ]
  },
  {
   "cell_type": "code",
   "execution_count": 2,
   "metadata": {},
   "outputs": [],
   "source": [
    "cursor = conn.cursor()"
   ]
  },
  {
   "cell_type": "code",
   "execution_count": 6,
   "metadata": {},
   "outputs": [],
   "source": [
    "cursor.execute(\"\"\"\n",
    "               CREATE TABLE IF NOT EXISTS departamentos (\n",
    "                   id INTEGER PRIMARY KEY AUTOINCREMENT,\n",
    "                   nombre TEXT UNIQUE NOT NULL\n",
    "               )\n",
    "               \"\"\")\n",
    "\n",
    "cursor.execute(\"\"\"\n",
    "               CREATE TABLE IF NOT EXISTS empleados (\n",
    "                   id INTEGER PRIMARY KEY AUTOINCREMENT,\n",
    "                   nombre TEXT NOT NULL,\n",
    "                   edad INTEGER,\n",
    "                   genero TEXT,\n",
    "                   departamento_id INTEGER,\n",
    "                   FOREIGN KEY (departamento_id) REFERENCES departamentos(id)\n",
    "               )\n",
    "               \"\"\")\n",
    "\n",
    "cursor.execute(\"\"\"\n",
    "               CREATE TABLE IF NOT EXISTS clientes (\n",
    "                   id INTEGER PRIMARY KEY AUTOINCREMENT,\n",
    "                   nombre TEXT NOT NULL,\n",
    "                   email TEXT UNIQUE NOT NULL,\n",
    "                   telefono INTEGER\n",
    "               )\n",
    "               \"\"\")\n",
    "\n",
    "\n",
    "cursor.execute(\"\"\"\n",
    "               CREATE TABLE IF NOT EXISTS proyectos (\n",
    "                   id INTEGER PRIMARY KEY AUTOINCREMENT,\n",
    "                   nombre TEXT NOT NULL,\n",
    "                   cliente_id INTEGER,\n",
    "                   FOREIGN KEY (cliente_id) REFERENCES clientes(id)\n",
    "               )\n",
    "               \"\"\")\n",
    "\n",
    "cursor.execute(\"\"\"\n",
    "               CREATE TABLE IF NOT EXISTS facturas (\n",
    "                   id INTEGER PRIMARY KEY AUTOINCREMENT,\n",
    "                   proyecto_id INTEGER,\n",
    "                   fecha TEXT NOT NULL,\n",
    "                   monto REAL NOT NULL,\n",
    "                   FOREIGN KEY (proyecto_id) REFERENCES proyectos(id)\n",
    "               )\n",
    "               \"\"\")\n",
    "\n",
    "conn.commit()\n",
    "conn.close()"
   ]
  },
  {
   "cell_type": "markdown",
   "metadata": {},
   "source": [
    "## 3. Inserción de Datos (DML)"
   ]
  },
  {
   "cell_type": "code",
   "execution_count": 7,
   "metadata": {},
   "outputs": [],
   "source": [
    "conn = sqlite3.connect(\"empresa.db\")\n",
    "cursor = conn.cursor()\n",
    "\n",
    "cursor.execute(\"INSERT INTO empleados (nombre, edad, genero, departamento_id) VALUES ('Sebastian Moncada', 24, 'Male', 1)\")\n",
    "cursor.execute(\"INSERT INTO clientes (nombre, email, telefono) VALUES ('Alpina', 'alpina@email.com', 155564)\")\n",
    "cursor.execute(\"INSERT INTO proyectos (nombre, cliente_id) VALUES ('ETL', 3)\")\n",
    "cursor.execute(\"INSERT INTO facturas (proyecto_id, monto, fecha) VALUES (3, 500.25, '2025-04-08')\")\n",
    "\n",
    "conn.commit()\n",
    "conn.close()"
   ]
  },
  {
   "cell_type": "code",
   "execution_count": 8,
   "metadata": {},
   "outputs": [],
   "source": [
    "conn = sqlite3.connect(\"empresa.db\")\n",
    "cursor = conn.cursor()\n",
    "\n",
    "# departamentos\n",
    "cursor.executemany(\"INSERT INTO departamentos (nombre) VALUES (?)\", [\n",
    "    ('Ventas',), ('TI',), ('Logistica',), ('Recursos Humanos',)\n",
    "])\n",
    "\n",
    "# empleados\n",
    "cursor.executemany(\"INSERT INTO empleados (nombre, edad, genero, departamento_id) VALUES (?, ?, ?, ?)\", [\n",
    "    ('Ana Perez', 30, 'Female', 1), ('Carlos Diaz', 45, 'Male', 2), ('Laura Perez', 32, 'Female', 2), ('Juan Sanchez', 52, 'Male', 1)\n",
    "])\n",
    "\n",
    "# clientes\n",
    "cursor.executemany(\"INSERT INTO clientes (nombre, email, telefono) VALUES (?, ?, ?)\", [\n",
    "    ('Bavaria', 'bavaria@email.com', 5656541), ('Ave Maria', 'ave@mail.com', 456864541)\n",
    "])\n",
    "\n",
    "\n",
    "# proyectos\n",
    "cursor.executemany(\"INSERT INTO proyectos (nombre, cliente_id) VALUES (?, ?)\", [\n",
    "    ('Data Science', 2), ('Mobile apps', 3)\n",
    "])\n",
    "\n",
    "# facturas\n",
    "cursor.executemany(\"INSERT INTO facturas (proyecto_id, monto, fecha) VALUES (?, ?, ?)\", [\n",
    "    (2, 1500.00, '2025-01-15'), (3, 3564.25, '2024-03-22')\n",
    "])\n",
    "\n",
    "conn.commit()\n",
    "conn.close()"
   ]
  },
  {
   "cell_type": "markdown",
   "metadata": {},
   "source": [
    "## 4. Consultas Avanzadas"
   ]
  },
  {
   "cell_type": "code",
   "execution_count": 9,
   "metadata": {},
   "outputs": [],
   "source": [
    "conn = sqlite3.connect(\"empresa.db\")\n",
    "cursor = conn.cursor()"
   ]
  },
  {
   "cell_type": "code",
   "execution_count": 14,
   "metadata": {},
   "outputs": [
    {
     "name": "stdout",
     "output_type": "stream",
     "text": [
      "[(1, 'Alpina', 'alpina@email.com', 155564), (2, 'Bavaria', 'bavaria@email.com', 5656541), (3, 'Ave Maria', 'ave@mail.com', 456864541)]\n"
     ]
    }
   ],
   "source": [
    "cursor.execute(\"\"\"\n",
    "SELECT * FROM clientes\n",
    "               \"\"\")\n",
    "print(cursor.fetchall())"
   ]
  },
  {
   "cell_type": "code",
   "execution_count": 15,
   "metadata": {},
   "outputs": [
    {
     "name": "stdout",
     "output_type": "stream",
     "text": [
      "[('Sebastian Moncada', 24, 'Ventas'), ('Ana Perez', 30, 'Ventas'), ('Carlos Diaz', 45, 'TI'), ('Laura Perez', 32, 'TI'), ('Juan Sanchez', 52, 'Ventas')]\n"
     ]
    }
   ],
   "source": [
    "cursor.execute(\"\"\"\n",
    "SELECT empleados.nombre, empleados.edad, departamentos.nombre AS departamento \n",
    "FROM empleados\n",
    "JOIN departamentos ON empleados.departamento_id = departamentos.id\n",
    "               \"\"\")\n",
    "print(cursor.fetchall())"
   ]
  },
  {
   "cell_type": "code",
   "execution_count": 16,
   "metadata": {},
   "outputs": [
    {
     "name": "stdout",
     "output_type": "stream",
     "text": [
      "[('Bavaria', 1500.0), ('Ave Maria', 4064.5)]\n"
     ]
    }
   ],
   "source": [
    "cursor.execute(\"\"\"\n",
    "SELECT clientes.nombre, SUM(facturas.monto) AS total_facturado \n",
    "FROM clientes\n",
    "JOIN proyectos ON clientes.id = proyectos.cliente_id\n",
    "JOIN facturas ON proyectos.id = facturas.proyecto_id\n",
    "GROUP BY clientes.id\n",
    "               \"\"\")\n",
    "print(cursor.fetchall())"
   ]
  },
  {
   "cell_type": "code",
   "execution_count": 17,
   "metadata": {},
   "outputs": [],
   "source": [
    "conn.close()"
   ]
  },
  {
   "cell_type": "code",
   "execution_count": 22,
   "metadata": {},
   "outputs": [],
   "source": [
    "import pandas as pd\n",
    "conn = sqlite3.connect(\"empresa.db\")\n",
    "\n",
    "df = pd.read_sql_query(\"SELECT clientes.nombre, SUM(facturas.monto) AS total_facturado FROM clientes JOIN proyectos ON clientes.id = proyectos.cliente_id JOIN facturas ON proyectos.id = facturas.proyecto_id GROUP BY clientes.id\", conn)\n",
    "conn.close()"
   ]
  },
  {
   "cell_type": "code",
   "execution_count": 23,
   "metadata": {},
   "outputs": [
    {
     "data": {
      "text/html": [
       "<div>\n",
       "<style scoped>\n",
       "    .dataframe tbody tr th:only-of-type {\n",
       "        vertical-align: middle;\n",
       "    }\n",
       "\n",
       "    .dataframe tbody tr th {\n",
       "        vertical-align: top;\n",
       "    }\n",
       "\n",
       "    .dataframe thead th {\n",
       "        text-align: right;\n",
       "    }\n",
       "</style>\n",
       "<table border=\"1\" class=\"dataframe\">\n",
       "  <thead>\n",
       "    <tr style=\"text-align: right;\">\n",
       "      <th></th>\n",
       "      <th>nombre</th>\n",
       "      <th>total_facturado</th>\n",
       "    </tr>\n",
       "  </thead>\n",
       "  <tbody>\n",
       "    <tr>\n",
       "      <th>0</th>\n",
       "      <td>Bavaria</td>\n",
       "      <td>1500.0</td>\n",
       "    </tr>\n",
       "    <tr>\n",
       "      <th>1</th>\n",
       "      <td>Ave Maria</td>\n",
       "      <td>4064.5</td>\n",
       "    </tr>\n",
       "  </tbody>\n",
       "</table>\n",
       "</div>"
      ],
      "text/plain": [
       "      nombre  total_facturado\n",
       "0    Bavaria           1500.0\n",
       "1  Ave Maria           4064.5"
      ]
     },
     "execution_count": 23,
     "metadata": {},
     "output_type": "execute_result"
    }
   ],
   "source": [
    "df.head()"
   ]
  },
  {
   "cell_type": "markdown",
   "metadata": {},
   "source": [
    "## 5. Visualización del Esquema"
   ]
  },
  {
   "cell_type": "markdown",
   "metadata": {},
   "source": [
    "---\n",
    "## 6. Actividad\n",
    "\n",
    "- Agregar una tabla \"Tareas\" asociada a empleados y proyectos.\n",
    "\n",
    "- Consultar la cantidad de empleados por departamento.\n",
    "\n",
    "- Actualizar la edad de un empleado.\n",
    "\n",
    "- Eliminar un cliente y analizar el efecto en los proyectos asociados."
   ]
  }
 ],
 "metadata": {
  "kernelspec": {
   "display_name": "base",
   "language": "python",
   "name": "python3"
  },
  "language_info": {
   "codemirror_mode": {
    "name": "ipython",
    "version": 3
   },
   "file_extension": ".py",
   "mimetype": "text/x-python",
   "name": "python",
   "nbconvert_exporter": "python",
   "pygments_lexer": "ipython3",
   "version": "3.12.4"
  }
 },
 "nbformat": 4,
 "nbformat_minor": 2
}
