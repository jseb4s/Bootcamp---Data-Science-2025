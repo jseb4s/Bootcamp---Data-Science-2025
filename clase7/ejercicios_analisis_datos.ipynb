{
 "cells": [
  {
   "cell_type": "code",
   "execution_count": null,
   "metadata": {},
   "outputs": [],
   "source": [
    "def validar_contraseña(contraseña):\n",
    "    if len(contraseña) < 8:\n",
    "        raise ValueError(\"Error: Minimo 8 caracteres\")\n",
    "    elif not any(char.isdigit() for char in contraseña):\n",
    "        raise ValueError(\"Error: Falta numero\")\n",
    "    elif not any(char.isupper() for char in contraseña):\n",
    "        raise ValueError(\"Error: Falta mayuscula\")\n",
    "    else:\n",
    "        print(\"Clave valida\")\n",
    "\n",
    "try:\n",
    "    password = input(\"Ingrese su contraseña: \")\n",
    "    validar_contraseña(password)\n",
    "except ValueError as e:\n",
    "    print(e)\n"
   ]
  },
  {
   "cell_type": "code",
   "execution_count": null,
   "metadata": {},
   "outputs": [],
   "source": [
    "edades = [12, 17, 8, 15, 22, 9, 30, 25]\n",
    "\n",
    "for edad in edades:\n",
    "    if edad == 25:\n",
    "        print(\"Encontramos al estudiante de 25. Deteniendo el análisis\")\n",
    "        break\n",
    "    elif edad < 10:\n",
    "        continue\n",
    "    elif edad >= 18:\n",
    "        print(f\"Adulto: {edad} años\")\n",
    "    else:\n",
    "        print(f\"Menor: {edad} años\")\n"
   ]
  }
 ],
 "metadata": {
  "language_info": {
   "name": "python"
  }
 },
 "nbformat": 4,
 "nbformat_minor": 2
}
