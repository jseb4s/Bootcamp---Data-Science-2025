{
 "cells": [
  {
   "cell_type": "markdown",
   "metadata": {},
   "source": [
    "# Taller de SQLite\n",
    "\n",
    "## 1. Introducción\n",
    "\n",
    "Este taller práctico te guiará a través de la creación de una base de datos SQLite para gestionar una empresa, cubriendo:\n",
    "\n",
    "- Creación de tablas y relaciones (DDL)\n",
    "\n",
    "- Inserción y manipulación de datos (DML)\n",
    "\n",
    "- Consultas avanzadas (JOINS, GROUP BY, HAVING, subconsultas)\n",
    "\n",
    "- Control de acceso y permisos (DCL)\n",
    "\n",
    "- Visualización del esquema de la base de datos\n",
    "---"
   ]
  },
  {
   "cell_type": "markdown",
   "metadata": {},
   "source": [
    "## 2. Creación de la Base de Datos y Tablas (DDL)"
   ]
  },
  {
   "cell_type": "code",
   "execution_count": 1,
   "metadata": {},
   "outputs": [],
   "source": [
    "import sqlite3\n",
    "\n",
    "#conectar a la base de datos\n",
    "conn = sqlite3.connect(\"empresa.db\")\n",
    "cursor = conn.cursor()"
   ]
  },
  {
   "cell_type": "code",
   "execution_count": 2,
   "metadata": {},
   "outputs": [],
   "source": [
    "# crear tablas\n",
    "cursor.execute(\"\"\"\n",
    "CREATE TABLE IF NOT EXISTS departamentos (\n",
    "    id INTEGER PRIMARY KEY AUTOINCREMENT,\n",
    "    nombre TEXT UNIQUE NOT NULL\n",
    ")\n",
    "\"\"\")\n",
    "\n",
    "cursor.execute(\"\"\"\n",
    "CREATE TABLE IF NOT EXISTS empleados (\n",
    "    id INTEGER PRIMARY KEY AUTOINCREMENT,\n",
    "    nombre TEXT NOT NULL,\n",
    "    edad INTEGER,\n",
    "    departamento_id INTEGER,\n",
    "    FOREIGN KEY (departamento_id) REFERENCES departamentos(id)\n",
    ")\n",
    "\"\"\")\n",
    "\n",
    "cursor.execute(\"\"\"\n",
    "CREATE TABLE IF NOT EXISTS clientes (\n",
    "    id INTEGER PRIMARY KEY AUTOINCREMENT,\n",
    "    nombre TEXT NOT NULL,\n",
    "    email TEXT UNIQUE NOT NULL\n",
    ")\n",
    "\"\"\")\n",
    "\n",
    "cursor.execute(\"\"\"\n",
    "CREATE TABLE IF NOT EXISTS proyectos (\n",
    "    id INTEGER PRIMARY KEY AUTOINCREMENT,\n",
    "    nombre TEXT NOT NULL,\n",
    "    cliente_id INTEGER,\n",
    "    FOREIGN KEY (cliente_id) REFERENCES clientes(id)\n",
    ")\n",
    "\"\"\")\n",
    "\n",
    "cursor.execute(\"\"\"\n",
    "CREATE TABLE IF NOT EXISTS facturas (\n",
    "    id INTEGER PRIMARY KEY AUTOINCREMENT,\n",
    "    proyecto_id INTEGER,\n",
    "    monto REAL NOT NULL,\n",
    "    fecha TEXT NOT NULL,\n",
    "    FOREIGN KEY (proyecto_id) REFERENCES proyectos(id)\n",
    ")\n",
    "\"\"\")\n",
    "\n",
    "conn.commit()\n",
    "conn.close()"
   ]
  },
  {
   "cell_type": "markdown",
   "metadata": {},
   "source": [
    "## 3. Inserción de Datos (DML)"
   ]
  },
  {
   "cell_type": "code",
   "execution_count": 3,
   "metadata": {},
   "outputs": [],
   "source": [
    "# Insercion de datos en lotes\n",
    "\n",
    "conn = sqlite3.connect(\"empresa.db\")\n",
    "cursor = conn.cursor()\n",
    "\n",
    "# datos en departamentos\n",
    "cursor.executemany(\"INSERT INTO departamentos (nombre) VALUES (?)\", [\n",
    "    ('Ventas',), ('IT',), ('Recursos Humanos',)\n",
    "])\n",
    "\n",
    "# empleados\n",
    "cursor.executemany(\"INSERT INTO empleados (nombre, edad, departamento_id) VALUES (?, ?, ?)\", [\n",
    "    ('Ana Pérez', 30, 1), ('Carlos López', 28, 2), ('María García', 35, 3)\n",
    "])\n",
    "\n",
    "# clientes\n",
    "cursor.executemany(\"INSERT INTO clientes (nombre, email) VALUES (?, ?)\", [\n",
    "    ('Empresa XYZ', 'contacto@xyz.com'),\n",
    "    ('Tech Solutions', 'info@techsolutions.com')\n",
    "])\n",
    "\n",
    "# proyectos\n",
    "cursor.executemany(\"INSERT INTO proyectos (nombre, cliente_id) VALUES (?, ?)\", [\n",
    "    ('App Movil', 1), ('Plataforma Web', 2)\n",
    "])\n",
    "\n",
    "# facturas\n",
    "cursor.executemany(\"INSERT INTO facturas (proyecto_id, monto, fecha) VALUES (?, ?, ?)\", [\n",
    "    (1, 1500.00, '2025-04-01'),\n",
    "    (2, 3000.00, '2025-04-02')\n",
    "])\n",
    "\n",
    "conn.commit()\n",
    "conn.close()"
   ]
  },
  {
   "cell_type": "code",
   "execution_count": 4,
   "metadata": {},
   "outputs": [],
   "source": [
    "# Inserción de datos individuales\n",
    "\n",
    "conn = sqlite3.connect(\"empresa.db\")\n",
    "cursor = conn.cursor()\n",
    "\n",
    "cursor.execute(\"INSERT INTO empleados (nombre, edad, departamento_id) VALUES ('Juan Torres', 40, 1)\")\n",
    "cursor.execute(\"INSERT INTO clientes (nombre, email) VALUES ('Innovatech', 'contacto@innovatech.com')\")\n",
    "cursor.execute(\"INSERT INTO proyectos (nombre, cliente_id) VALUES ('Sistema de Facturación', 3)\")\n",
    "cursor.execute(\"INSERT INTO facturas (proyecto_id, monto, fecha) VALUES (3, 5000.00, '2025-04-03')\")\n",
    "\n",
    "conn.commit()\n",
    "conn.close()"
   ]
  },
  {
   "cell_type": "markdown",
   "metadata": {},
   "source": [
    "## 4. Consultas Avanzadas"
   ]
  },
  {
   "cell_type": "code",
   "execution_count": 5,
   "metadata": {},
   "outputs": [
    {
     "name": "stdout",
     "output_type": "stream",
     "text": [
      "[('Ana Pérez', 30, 'Ventas'), ('Carlos López', 28, 'IT'), ('María García', 35, 'Recursos Humanos'), ('Juan Torres', 40, 'Ventas')]\n",
      "[('Empresa XYZ', 1500.0), ('Tech Solutions', 3000.0), ('Innovatech', 5000.0)]\n",
      "[('Plataforma Web', 3000.0), ('Sistema de Facturación', 5000.0)]\n",
      "[('Ventas', 2), ('IT', 1), ('Recursos Humanos', 1)]\n",
      "[('App Movil', 'Empresa XYZ'), ('Plataforma Web', 'Tech Solutions'), ('Sistema de Facturación', 'Innovatech')]\n",
      "[(3, 3, 5000.0, '2025-04-03'), (2, 2, 3000.0, '2025-04-02'), (1, 1, 1500.0, '2025-04-01')]\n"
     ]
    }
   ],
   "source": [
    "\n",
    "#4.1 Listar empleados con sus departamentos\n",
    "conn = sqlite3.connect(\"empresa.db\")\n",
    "cursor = conn.cursor()\n",
    "cursor.execute(\"\"\"\n",
    "SELECT empleados.nombre, empleados.edad, departamentos.nombre AS departamento\n",
    "FROM empleados\n",
    "JOIN departamentos ON empleados.departamento_id = departamentos.id\n",
    "\"\"\")\n",
    "print(cursor.fetchall())\n",
    "\n",
    "#4.2 Obtener total facturado por cliente\n",
    "\n",
    "cursor.execute(\"\"\"\n",
    "SELECT clientes.nombre, SUM(facturas.monto) AS total_facturado\n",
    "FROM clientes\n",
    "JOIN proyectos ON clientes.id = proyectos.cliente_id\n",
    "JOIN facturas ON proyectos.id = facturas.proyecto_id\n",
    "GROUP BY clientes.id\n",
    "\"\"\")\n",
    "print(cursor.fetchall())\n",
    "\n",
    "#4.3 Obtener proyectos con facturas mayores a $2000\n",
    "\n",
    "cursor.execute(\"\"\"\n",
    "SELECT proyectos.nombre, facturas.monto\n",
    "FROM proyectos\n",
    "JOIN facturas ON proyectos.id = facturas.proyecto_id\n",
    "WHERE facturas.monto > 2000\n",
    "\"\"\")\n",
    "print(cursor.fetchall())\n",
    "\n",
    "#4.4 Contar la cantidad de empleados por departamento\n",
    "\n",
    "cursor.execute(\"\"\"\n",
    "SELECT departamentos.nombre, COUNT(empleados.id) AS cantidad_empleados\n",
    "FROM departamentos\n",
    "LEFT JOIN empleados ON departamentos.id = empleados.departamento_id\n",
    "GROUP BY departamentos.id\n",
    "\"\"\")\n",
    "print(cursor.fetchall())\n",
    "\n",
    "#4.5 Obtener los proyectos con sus respectivos clientes\n",
    "\n",
    "cursor.execute(\"\"\"\n",
    "SELECT proyectos.nombre AS proyecto, clientes.nombre AS cliente\n",
    "FROM proyectos\n",
    "JOIN clientes ON proyectos.cliente_id = clientes.id\n",
    "\"\"\")\n",
    "print(cursor.fetchall())\n",
    "\n",
    "#4.6 Listar facturas ordenadas por monto de mayor a menor\n",
    "\n",
    "cursor.execute(\"\"\"\n",
    "SELECT * FROM facturas\n",
    "ORDER BY monto DESC\n",
    "\"\"\")\n",
    "\n",
    "print(cursor.fetchall())\n",
    "conn.close()"
   ]
  },
  {
   "cell_type": "code",
   "execution_count": null,
   "metadata": {},
   "outputs": [
    {
     "data": {
      "text/html": [
       "<div>\n",
       "<style scoped>\n",
       "    .dataframe tbody tr th:only-of-type {\n",
       "        vertical-align: middle;\n",
       "    }\n",
       "\n",
       "    .dataframe tbody tr th {\n",
       "        vertical-align: top;\n",
       "    }\n",
       "\n",
       "    .dataframe thead th {\n",
       "        text-align: right;\n",
       "    }\n",
       "</style>\n",
       "<table border=\"1\" class=\"dataframe\">\n",
       "  <thead>\n",
       "    <tr style=\"text-align: right;\">\n",
       "      <th></th>\n",
       "      <th>id</th>\n",
       "      <th>nombre</th>\n",
       "      <th>edad</th>\n",
       "      <th>departamento_id</th>\n",
       "    </tr>\n",
       "  </thead>\n",
       "  <tbody>\n",
       "    <tr>\n",
       "      <th>0</th>\n",
       "      <td>1</td>\n",
       "      <td>Ana Pérez</td>\n",
       "      <td>30</td>\n",
       "      <td>1</td>\n",
       "    </tr>\n",
       "    <tr>\n",
       "      <th>1</th>\n",
       "      <td>2</td>\n",
       "      <td>Carlos López</td>\n",
       "      <td>28</td>\n",
       "      <td>2</td>\n",
       "    </tr>\n",
       "    <tr>\n",
       "      <th>2</th>\n",
       "      <td>3</td>\n",
       "      <td>María García</td>\n",
       "      <td>35</td>\n",
       "      <td>3</td>\n",
       "    </tr>\n",
       "    <tr>\n",
       "      <th>3</th>\n",
       "      <td>4</td>\n",
       "      <td>Juan Torres</td>\n",
       "      <td>40</td>\n",
       "      <td>1</td>\n",
       "    </tr>\n",
       "  </tbody>\n",
       "</table>\n",
       "</div>"
      ],
      "text/plain": [
       "   id        nombre  edad  departamento_id\n",
       "0   1     Ana Pérez    30                1\n",
       "1   2  Carlos López    28                2\n",
       "2   3  María García    35                3\n",
       "3   4   Juan Torres    40                1"
      ]
     },
     "execution_count": 7,
     "metadata": {},
     "output_type": "execute_result"
    }
   ],
   "source": [
    "import pandas as pd\n",
    "conn = sqlite3.connect(\"empresa.db\")\n",
    "df = pd.read_sql_query(\"SELECT * FROM empleados\", conn)\n",
    "conn.close()\n",
    "df.head()"
   ]
  },
  {
   "cell_type": "markdown",
   "metadata": {},
   "source": [
    "## 5. Visualización del Esquema"
   ]
  },
  {
   "cell_type": "markdown",
   "metadata": {},
   "source": [
    "---\n",
    "## 6. Actividad\n",
    "\n",
    "- Agregar una tabla \"Tareas\" asociada a empleados y proyectos.\n",
    "\n",
    "- Consultar la cantidad de empleados por departamento.\n",
    "\n",
    "- Actualizar la edad de un empleado.\n",
    "\n",
    "- Eliminar un cliente y analizar el efecto en los proyectos asociados."
   ]
  }
 ],
 "metadata": {
  "kernelspec": {
   "display_name": "base",
   "language": "python",
   "name": "python3"
  },
  "language_info": {
   "codemirror_mode": {
    "name": "ipython",
    "version": 3
   },
   "file_extension": ".py",
   "mimetype": "text/x-python",
   "name": "python",
   "nbconvert_exporter": "python",
   "pygments_lexer": "ipython3",
   "version": "3.12.4"
  }
 },
 "nbformat": 4,
 "nbformat_minor": 2
}
