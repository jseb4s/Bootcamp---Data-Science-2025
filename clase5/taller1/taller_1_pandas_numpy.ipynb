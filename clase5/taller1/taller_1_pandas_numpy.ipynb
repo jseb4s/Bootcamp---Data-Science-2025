{
 "cells": [
  {
   "cell_type": "markdown",
   "metadata": {},
   "source": [
    "# Taller Práctico de Pandas y Numpy\n",
    "\n",
    "## Objetivo: \n",
    "\n",
    "Aplicar operaciones con Pandas y Numpy para analizar datos de Pokémon.\n",
    "\n",
    "## Instrucciones  \n",
    "\n",
    "- **Solo se recibirán archivos de extensión ```.ipynb```.**\n",
    "- **Solo se recibiran archivos cargados en la siguiente [carpeta de drive](https://drive.google.com/drive/folders/1kKMUQDvQXwZfyEtDGkrr1HcnX7zsH5AW?usp=sharing)** _(archivos enviados directo al correo, discord u otro medio NO seran tenidos en cuenta)_\n",
    "- **En el archivo ```data_info.ipynb``` se encuentra la descripción del conjunto de datos.**\n",
    "- **El taller puede ser resuelto máximo en grupos de 3 personas. Solo subir un archivo por grupo.**\n",
    "- **Mencionar los integrantes del grupo en la celda que se encuentra en la perte inferior.**\n",
    "\n",
    "\n",
    "- **_Fecha máxima de entrega: 03 de abril de 2025_**\n",
    "\n",
    "---"
   ]
  },
  {
   "cell_type": "code",
   "execution_count": null,
   "metadata": {},
   "outputs": [],
   "source": [
    "### Integrantes (nombres completos):\n",
    "\n",
    "# Pepito Perez\n",
    "# Ana Diaz\n",
    "# Juan Perez"
   ]
  },
  {
   "cell_type": "markdown",
   "metadata": {},
   "source": [
    "## Parte 1: Exploración de Datos con Pandas  \n",
    "\n",
    "1. Carga el dataset en un DataFrame de Pandas.\n"
   ]
  },
  {
   "cell_type": "code",
   "execution_count": null,
   "metadata": {},
   "outputs": [],
   "source": []
  },
  {
   "cell_type": "markdown",
   "metadata": {},
   "source": [
    "2. Muestra las primeras 5 filas del dataset."
   ]
  },
  {
   "cell_type": "code",
   "execution_count": null,
   "metadata": {},
   "outputs": [],
   "source": []
  },
  {
   "cell_type": "markdown",
   "metadata": {},
   "source": [
    "3. ¿Cuántos valores nulos hay en cada columna?"
   ]
  },
  {
   "cell_type": "code",
   "execution_count": null,
   "metadata": {},
   "outputs": [],
   "source": []
  },
  {
   "cell_type": "markdown",
   "metadata": {},
   "source": [
    "4. Reemplaza los valores nulos en la columna `Type 2` por `\"Unknown\"`."
   ]
  },
  {
   "cell_type": "code",
   "execution_count": null,
   "metadata": {},
   "outputs": [],
   "source": []
  },
  {
   "cell_type": "markdown",
   "metadata": {},
   "source": [
    "5. ¿Cuántos Pokémon hay de cada tipo principal (`Type 1`)? "
   ]
  },
  {
   "cell_type": "code",
   "execution_count": null,
   "metadata": {},
   "outputs": [],
   "source": []
  },
  {
   "cell_type": "markdown",
   "metadata": {},
   "source": [
    "6. ¿Cuántos Pokémon legendarios hay?"
   ]
  },
  {
   "cell_type": "code",
   "execution_count": null,
   "metadata": {},
   "outputs": [],
   "source": []
  },
  {
   "cell_type": "markdown",
   "metadata": {},
   "source": [
    "7. Obtén el promedio de cada estadística de combate (`HP`, `Attack`, `Defense`, etc.). "
   ]
  },
  {
   "cell_type": "code",
   "execution_count": null,
   "metadata": {},
   "outputs": [],
   "source": []
  },
  {
   "cell_type": "markdown",
   "metadata": {},
   "source": [
    "8. ¿Cuál es el Pokémon con la mayor velocidad (`Speed`)?"
   ]
  },
  {
   "cell_type": "code",
   "execution_count": null,
   "metadata": {},
   "outputs": [],
   "source": []
  },
  {
   "cell_type": "markdown",
   "metadata": {},
   "source": [
    "9. Filtra los Pokémon de tipo `\"Fire\"` con ataque (`Attack`) mayor a 80."
   ]
  },
  {
   "cell_type": "code",
   "execution_count": null,
   "metadata": {},
   "outputs": [],
   "source": []
  },
  {
   "cell_type": "markdown",
   "metadata": {},
   "source": [
    "10. Crea una nueva columna que indique si un Pokémon tiene una estadística total (`Total`) mayor al promedio.  "
   ]
  },
  {
   "cell_type": "code",
   "execution_count": null,
   "metadata": {},
   "outputs": [],
   "source": []
  },
  {
   "cell_type": "markdown",
   "metadata": {},
   "source": [
    "---"
   ]
  },
  {
   "cell_type": "markdown",
   "metadata": {},
   "source": [
    "## Parte 2: Análisis con Numpy  \n",
    "\n",
    "11. Convierte las columnas de estadísticas (`HP`, `Attack`, `Defense`, `Sp. Atk`, `Sp. Def`, `Speed`) en un array de Numpy.  "
   ]
  },
  {
   "cell_type": "code",
   "execution_count": null,
   "metadata": {},
   "outputs": [],
   "source": []
  },
  {
   "cell_type": "markdown",
   "metadata": {},
   "source": [
    "12. Calcula la media, mediana y desviación estándar de cada estadística usando Numpy.  "
   ]
  },
  {
   "cell_type": "code",
   "execution_count": null,
   "metadata": {},
   "outputs": [],
   "source": []
  },
  {
   "cell_type": "markdown",
   "metadata": {},
   "source": [
    "13. Normaliza las estadísticas dividiendo cada valor por el máximo de su columna."
   ]
  },
  {
   "cell_type": "code",
   "execution_count": null,
   "metadata": {},
   "outputs": [],
   "source": []
  },
  {
   "cell_type": "markdown",
   "metadata": {},
   "source": [
    "14. Encuentra los índices de los 5 Pokémon con mayor defensa (`Defense`).  "
   ]
  },
  {
   "cell_type": "code",
   "execution_count": null,
   "metadata": {},
   "outputs": [],
   "source": []
  },
  {
   "cell_type": "markdown",
   "metadata": {},
   "source": [
    "15. Calcula la correlación entre `Attack` y `Defense`."
   ]
  },
  {
   "cell_type": "code",
   "execution_count": null,
   "metadata": {},
   "outputs": [],
   "source": []
  },
  {
   "cell_type": "markdown",
   "metadata": {},
   "source": [
    "16. Usa Numpy para encontrar cuántos Pokémon tienen una suma de (`HP`, `Attack` y `Defense`) superior a 300."
   ]
  },
  {
   "cell_type": "code",
   "execution_count": null,
   "metadata": {},
   "outputs": [],
   "source": []
  }
 ],
 "metadata": {
  "language_info": {
   "name": "python"
  }
 },
 "nbformat": 4,
 "nbformat_minor": 2
}
