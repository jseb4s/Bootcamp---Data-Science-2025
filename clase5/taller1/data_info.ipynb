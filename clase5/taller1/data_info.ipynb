{
 "cells": [
  {
   "cell_type": "markdown",
   "metadata": {},
   "source": [
    "# Descripción del Conjunto de Datos de Pokémon\n",
    "\n",
    "Este conjunto de datos incluye 721 Pokémon, junto con su número, nombre, primer y segundo tipo, y sus estadísticas básicas: `HP`, `Attack`, `Defense`, `Sp. Atk`, `Sp. Def` y `Speed`. Ha sido de gran utilidad para dar una introducción básica al aprendizaje automático.\n",
    "\n",
    "Estos son los atributos en bruto que se utilizan para calcular cuánto daño hará un ataque en los juegos. Este conjunto de datos está basado en los videojuegos de Pokémon (**NO** en cartas de Pokémon ni en Pokémon Go).\n",
    "\n",
    "## Atributos del Dataset\n",
    "\n",
    "Según lo descrito por **Myles O'Neill**, los datos incluyen:\n",
    "\n",
    "- **`#`**: ID de cada Pokémon  \n",
    "- **`Name`**: Nombre de cada Pokémon  \n",
    "- **`Type 1`**: Cada Pokémon tiene un tipo, lo que determina sus debilidades y resistencias a los ataques  \n",
    "- **`Type 2`**: Algunos Pokémon tienen un tipo dual y poseen dos tipos  \n",
    "- **`Total`**: Suma de todas las estadísticas que vienen a continuación; una guía general sobre qué tan fuerte es un Pokémon  \n",
    "- **`HP`**: Puntos de vida o salud, determina cuánto daño puede soportar un Pokémon antes de debilitarse  \n",
    "- **`Attack`**: Modificador base para ataques normales (ej. *Scratch*, *Punch*)  \n",
    "- **`Defense`**: Resistencia base al daño de ataques normales  \n",
    "- **`Sp. Atk`**: Modificador base para ataques especiales (ej. *Fire Blast*, *Bubble Beam*)  \n",
    "- **`Sp. Def`**: Resistencia base al daño de ataques especiales  \n",
    "- **`Speed`**: Determina qué Pokémon ataca primero en cada turno\n",
    "\n",
    "## Fuentes de Datos  \n",
    "\n",
    "Los datos de esta tabla han sido recopilados de varias fuentes, incluyendo:\n",
    "\n",
    "- [pokemon.com](https://www.pokemon.com)  \n",
    "- [pokemondb.net](https://pokemondb.net)  \n",
    "- [bulbapedia](https://bulbapedia.bulbagarden.net)  \n",
    "\n",
    "\n",
    "*Dataset tomado de [Kaggle](https://www.kaggle.com/datasets/abcsds/pokemon?resource=download)**\n"
   ]
  }
 ],
 "metadata": {
  "language_info": {
   "name": "python"
  }
 },
 "nbformat": 4,
 "nbformat_minor": 2
}
