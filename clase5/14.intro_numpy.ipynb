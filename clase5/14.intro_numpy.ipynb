{
 "cells": [
  {
   "cell_type": "markdown",
   "metadata": {},
   "source": [
    "#  Introducción a [NumPy](https://numpy.org/doc/)\n",
    "\n",
    "**Objetivos:**\n",
    "- Comprender qué es NumPy y por qué es fundamental en ciencia de datos.\n",
    "- Aprender sobre estructuras clave como `ndarray`.\n",
    "- Manipular datos usando operaciones y funciones NumPy.\n",
    "- Aplicar NumPy en un dataset real.\n",
    "---"
   ]
  },
  {
   "cell_type": "markdown",
   "metadata": {},
   "source": [
    "# Arrays\n",
    "\n",
    "Los arrays de NumPy ofrecen varias ventajas en comparación con las listas de Python:\n",
    "\n",
    "1. **Eficiencia en Memoria**: Los arrays ocupan menos espacio en memoria que las listas, ya que almacenan datos de un solo tipo y en posiciones contiguas.\n",
    "2. **Mayor Velocidad**: Operaciones sobre arrays son más rápidas debido a su implementación en C y la optimización en cálculos vectorizados.\n",
    "3. **Facilidad de Manipulación**: NumPy proporciona funciones avanzadas para realizar operaciones matemáticas, estadísticas y lógicas con facilidad.\n",
    "4. **Broadcasting**: Permite realizar operaciones aritméticas sin necesidad de usar bucles explícitos.\n",
    "5. **Compatibilidad con Librerías de Ciencia de Datos**: Es fundamental para trabajar con librerías como Pandas, Scikit-learn y TensorFlow.\n",
    "\n",
    "---\n",
    "\n",
    "## ¿Qué es un Array en NumPy?\n",
    "\n",
    "Un **array** en NumPy es una estructura de datos que permite almacenar múltiples valores del mismo tipo en una sola variable. Se representa con la clase `numpy.ndarray`.\n",
    "\n",
    "Ejemplo de un array 1D:\n",
    "\n",
    "```python\n",
    "import numpy as np\n",
    "\n",
    "arr = np.array([1, 2, 3, 4, 5])\n",
    "print(arr)\n"
   ]
  },
  {
   "cell_type": "markdown",
   "metadata": {},
   "source": [
    "## Diferencias entre arrays y listas\n",
    "\n",
    "| Característica        | Listas de Python  | Arrays de NumPy |\n",
    "|----------------------|------------------|----------------|\n",
    "| **Tipo de Datos**    | Pueden contener diferentes tipos | Solo un tipo de dato |\n",
    "| **Uso de Memoria**   | Más consumo de memoria | Más eficiente |\n",
    "| **Velocidad**        | Más lento en operaciones numéricas | Más rápido gracias a optimización en C |\n",
    "| **Operaciones Matemáticas** | Requiere bucles (`for`) | Soporta operaciones vectorizadas |\n",
    "| **Soporte de Funciones** | Funcionalidad limitada | Funciones avanzadas para álgebra, estadística, etc. |"
   ]
  },
  {
   "cell_type": "markdown",
   "metadata": {},
   "source": [
    "### Optimización en Numpy:"
   ]
  },
  {
   "cell_type": "code",
   "execution_count": 1,
   "metadata": {},
   "outputs": [
    {
     "name": "stdout",
     "output_type": "stream",
     "text": [
      "Tiempo con listas: 0.04374 segundos\n",
      "Tiempo con NumPy: 0.00000 segundos\n"
     ]
    }
   ],
   "source": [
    "import time\n",
    "import numpy as np\n",
    "\n",
    "# Lista en Python\n",
    "lista = list(range(1000000))\n",
    "start = time.time()\n",
    "lista = [x * 2 for x in lista]\n",
    "end = time.time()\n",
    "print(f\"Tiempo con listas: {end - start:.5f} segundos\")\n",
    "\n",
    "# Array de NumPy\n",
    "arr = np.arange(1000000)\n",
    "start = time.time()\n",
    "arr = arr * 2  # Operación vectorizada\n",
    "end = time.time()\n",
    "print(f\"Tiempo con NumPy: {end - start:.5f} segundos\")"
   ]
  },
  {
   "cell_type": "code",
   "execution_count": 2,
   "metadata": {},
   "outputs": [],
   "source": [
    "# Instalación e importación\n",
    "import numpy as np  \n",
    "import pandas as pd"
   ]
  },
  {
   "cell_type": "code",
   "execution_count": 3,
   "metadata": {},
   "outputs": [
    {
     "data": {
      "text/plain": [
       "array([1, 2, 3, 4])"
      ]
     },
     "execution_count": 3,
     "metadata": {},
     "output_type": "execute_result"
    }
   ],
   "source": [
    "# Vector 1D\n",
    "a = np.array([1, 2, 3, 4])  # Crear un array unidimensional\n",
    "a"
   ]
  },
  {
   "cell_type": "code",
   "execution_count": 4,
   "metadata": {},
   "outputs": [
    {
     "data": {
      "text/plain": [
       "array([[1, 2, 3],\n",
       "       [4, 5, 6]])"
      ]
     },
     "execution_count": 4,
     "metadata": {},
     "output_type": "execute_result"
    }
   ],
   "source": [
    "# Matriz 2D\n",
    "b = np.array([\n",
    "    [1, 2, 3], \n",
    "    [4, 5, 6]])  # Crear una matriz bidimensional\n",
    "b"
   ]
  },
  {
   "cell_type": "code",
   "execution_count": 67,
   "metadata": {},
   "outputs": [
    {
     "data": {
      "text/plain": [
       "array([[0., 0., 0.],\n",
       "       [0., 0., 0.],\n",
       "       [0., 0., 0.]])"
      ]
     },
     "execution_count": 67,
     "metadata": {},
     "output_type": "execute_result"
    }
   ],
   "source": [
    "# Matriz de ceros\n",
    "c = np.zeros((3, 3))  # Crear una matriz 3x3 llena de ceros\n",
    "c"
   ]
  },
  {
   "cell_type": "code",
   "execution_count": 68,
   "metadata": {},
   "outputs": [
    {
     "data": {
      "text/plain": [
       "array([[1., 1., 1., 1.],\n",
       "       [1., 1., 1., 1.]])"
      ]
     },
     "execution_count": 68,
     "metadata": {},
     "output_type": "execute_result"
    }
   ],
   "source": [
    "# Matriz de unos\n",
    "d = np.ones((2, 4))  # Crear una matriz 2x4 llena de unos\n",
    "d"
   ]
  },
  {
   "cell_type": "code",
   "execution_count": 69,
   "metadata": {},
   "outputs": [
    {
     "data": {
      "text/plain": [
       "array([ 0. ,  2.5,  5. ,  7.5, 10. ])"
      ]
     },
     "execution_count": 69,
     "metadata": {},
     "output_type": "execute_result"
    }
   ],
   "source": [
    "# Valores equidistantes\n",
    "e = np.linspace(0, 10, 5)  # Crear un array con 5 valores equidistantes entre 0 y 10\n",
    "e"
   ]
  },
  {
   "cell_type": "code",
   "execution_count": 70,
   "metadata": {},
   "outputs": [
    {
     "data": {
      "text/plain": [
       "array([[7, 7, 7],\n",
       "       [7, 7, 7]])"
      ]
     },
     "execution_count": 70,
     "metadata": {},
     "output_type": "execute_result"
    }
   ],
   "source": [
    "# Otras funciones útiles\n",
    "doble = np.full((2, 3), 7)  # Crear una matriz 2x3 llena de valores 7\n",
    "doble"
   ]
  },
  {
   "cell_type": "code",
   "execution_count": 71,
   "metadata": {},
   "outputs": [
    {
     "data": {
      "text/plain": [
       "array([[1., 0., 0., 0.],\n",
       "       [0., 1., 0., 0.],\n",
       "       [0., 0., 1., 0.],\n",
       "       [0., 0., 0., 1.]])"
      ]
     },
     "execution_count": 71,
     "metadata": {},
     "output_type": "execute_result"
    }
   ],
   "source": [
    "identidad = np.eye(4)  # Crear una matriz identidad de 4x4\n",
    "identidad"
   ]
  },
  {
   "cell_type": "code",
   "execution_count": 72,
   "metadata": {},
   "outputs": [
    {
     "data": {
      "text/plain": [
       "array([[28, 46, 38],\n",
       "       [10, 30, 51],\n",
       "       [30, 41, 51]])"
      ]
     },
     "execution_count": 72,
     "metadata": {},
     "output_type": "execute_result"
    }
   ],
   "source": [
    "random_ints = np.random.randint(1, 100, (3, 3))  # Crear una matriz 3x3 con valores aleatorios entre 1 y 100\n",
    "random_ints"
   ]
  },
  {
   "cell_type": "code",
   "execution_count": 73,
   "metadata": {},
   "outputs": [
    {
     "data": {
      "text/plain": [
       "array([[0.40699189, 0.19732849, 0.39928022],\n",
       "       [0.09754338, 0.04491782, 0.85098714],\n",
       "       [0.94053685, 0.17115082, 0.82162192]])"
      ]
     },
     "execution_count": 73,
     "metadata": {},
     "output_type": "execute_result"
    }
   ],
   "source": [
    "# Ejercicio: Matriz aleatoria\n",
    "random_matrix = np.random.rand(3,3)  # Crear una matriz 3x3 con valores aleatorios entre 0 y 1\n",
    "random_matrix"
   ]
  },
  {
   "cell_type": "markdown",
   "metadata": {},
   "source": [
    "# Aplicación a nuestro df poblacional"
   ]
  },
  {
   "cell_type": "code",
   "execution_count": 6,
   "metadata": {},
   "outputs": [],
   "source": [
    "url = \"https://raw.githubusercontent.com/datasets/population/master/data/population.csv\"\n",
    "data = pd.read_csv(url)  # Cargar los datos en un DataFrame\n",
    "df = data.copy()"
   ]
  },
  {
   "cell_type": "code",
   "execution_count": 7,
   "metadata": {},
   "outputs": [
    {
     "data": {
      "text/html": [
       "<div>\n",
       "<style scoped>\n",
       "    .dataframe tbody tr th:only-of-type {\n",
       "        vertical-align: middle;\n",
       "    }\n",
       "\n",
       "    .dataframe tbody tr th {\n",
       "        vertical-align: top;\n",
       "    }\n",
       "\n",
       "    .dataframe thead th {\n",
       "        text-align: right;\n",
       "    }\n",
       "</style>\n",
       "<table border=\"1\" class=\"dataframe\">\n",
       "  <thead>\n",
       "    <tr style=\"text-align: right;\">\n",
       "      <th></th>\n",
       "      <th>Country Name</th>\n",
       "      <th>Country Code</th>\n",
       "      <th>Year</th>\n",
       "      <th>Value</th>\n",
       "    </tr>\n",
       "  </thead>\n",
       "  <tbody>\n",
       "    <tr>\n",
       "      <th>0</th>\n",
       "      <td>Aruba</td>\n",
       "      <td>ABW</td>\n",
       "      <td>1960</td>\n",
       "      <td>54922.0</td>\n",
       "    </tr>\n",
       "    <tr>\n",
       "      <th>1</th>\n",
       "      <td>Aruba</td>\n",
       "      <td>ABW</td>\n",
       "      <td>1961</td>\n",
       "      <td>55578.0</td>\n",
       "    </tr>\n",
       "    <tr>\n",
       "      <th>2</th>\n",
       "      <td>Aruba</td>\n",
       "      <td>ABW</td>\n",
       "      <td>1962</td>\n",
       "      <td>56320.0</td>\n",
       "    </tr>\n",
       "    <tr>\n",
       "      <th>3</th>\n",
       "      <td>Aruba</td>\n",
       "      <td>ABW</td>\n",
       "      <td>1963</td>\n",
       "      <td>57002.0</td>\n",
       "    </tr>\n",
       "    <tr>\n",
       "      <th>4</th>\n",
       "      <td>Aruba</td>\n",
       "      <td>ABW</td>\n",
       "      <td>1964</td>\n",
       "      <td>57619.0</td>\n",
       "    </tr>\n",
       "  </tbody>\n",
       "</table>\n",
       "</div>"
      ],
      "text/plain": [
       "  Country Name Country Code  Year    Value\n",
       "0        Aruba          ABW  1960  54922.0\n",
       "1        Aruba          ABW  1961  55578.0\n",
       "2        Aruba          ABW  1962  56320.0\n",
       "3        Aruba          ABW  1963  57002.0\n",
       "4        Aruba          ABW  1964  57619.0"
      ]
     },
     "execution_count": 7,
     "metadata": {},
     "output_type": "execute_result"
    }
   ],
   "source": [
    "df.head()"
   ]
  },
  {
   "cell_type": "code",
   "execution_count": 14,
   "metadata": {},
   "outputs": [
    {
     "data": {
      "text/plain": [
       "array([['Aruba', 'ABW', 1960, 54922.0],\n",
       "       ['Aruba', 'ABW', 1961, 55578.0],\n",
       "       ['Aruba', 'ABW', 1962, 56320.0],\n",
       "       ...,\n",
       "       ['Zimbabwe', 'ZWE', 2021, 15797210.0],\n",
       "       ['Zimbabwe', 'ZWE', 2022, 16069056.0],\n",
       "       ['Zimbabwe', 'ZWE', 2023, 16340822.0]], dtype=object)"
      ]
     },
     "execution_count": 14,
     "metadata": {},
     "output_type": "execute_result"
    }
   ],
   "source": [
    "# Convertimos a NumPy para operaciones numéricas\n",
    "df = df.to_numpy()  # Convertir el DataFrame a un array de NumPy\n",
    "df"
   ]
  },
  {
   "cell_type": "code",
   "execution_count": 15,
   "metadata": {},
   "outputs": [
    {
     "data": {
      "text/plain": [
       "(16930, 4)"
      ]
     },
     "execution_count": 15,
     "metadata": {},
     "output_type": "execute_result"
    }
   ],
   "source": [
    "# Exploración de Datos\n",
    "dim = df.shape  # Obtener la dimensión del dataset\n",
    "dim"
   ]
  },
  {
   "cell_type": "code",
   "execution_count": 16,
   "metadata": {},
   "outputs": [
    {
     "data": {
      "text/plain": [
       "array([['Aruba', 'ABW', 1960, 54922.0],\n",
       "       ['Aruba', 'ABW', 1961, 55578.0],\n",
       "       ['Aruba', 'ABW', 1962, 56320.0],\n",
       "       ['Aruba', 'ABW', 1963, 57002.0],\n",
       "       ['Aruba', 'ABW', 1964, 57619.0]], dtype=object)"
      ]
     },
     "execution_count": 16,
     "metadata": {},
     "output_type": "execute_result"
    }
   ],
   "source": [
    "df[:5]  # Mostrar las primeras 5 filas"
   ]
  },
  {
   "cell_type": "code",
   "execution_count": 18,
   "metadata": {},
   "outputs": [
    {
     "data": {
      "text/plain": [
       "array(['Afghanistan', 'Africa Eastern and Southern',\n",
       "       'Africa Western and Central', 'Albania', 'Algeria',\n",
       "       'American Samoa', 'Andorra', 'Angola', 'Antigua and Barbuda',\n",
       "       'Arab World', 'Argentina', 'Armenia', 'Aruba', 'Australia',\n",
       "       'Austria', 'Azerbaijan', 'Bahamas, The', 'Bahrain', 'Bangladesh',\n",
       "       'Barbados', 'Belarus', 'Belgium', 'Belize', 'Benin', 'Bermuda',\n",
       "       'Bhutan', 'Bolivia', 'Bosnia and Herzegovina', 'Botswana',\n",
       "       'Brazil', 'British Virgin Islands', 'Brunei Darussalam',\n",
       "       'Bulgaria', 'Burkina Faso', 'Burundi', 'Cabo Verde', 'Cambodia',\n",
       "       'Cameroon', 'Canada', 'Caribbean small states', 'Cayman Islands',\n",
       "       'Central African Republic', 'Central Europe and the Baltics',\n",
       "       'Chad', 'Channel Islands', 'Chile', 'China', 'Colombia', 'Comoros',\n",
       "       'Congo, Dem. Rep.', 'Congo, Rep.', 'Costa Rica', \"Cote d'Ivoire\",\n",
       "       'Croatia', 'Cuba', 'Curacao', 'Cyprus', 'Czechia', 'Denmark',\n",
       "       'Djibouti', 'Dominica', 'Dominican Republic',\n",
       "       'Early-demographic dividend', 'East Asia & Pacific',\n",
       "       'East Asia & Pacific (IDA & IBRD countries)',\n",
       "       'East Asia & Pacific (excluding high income)', 'Ecuador',\n",
       "       'Egypt, Arab Rep.', 'El Salvador', 'Equatorial Guinea', 'Eritrea',\n",
       "       'Estonia', 'Eswatini', 'Ethiopia', 'Euro area',\n",
       "       'Europe & Central Asia',\n",
       "       'Europe & Central Asia (IDA & IBRD countries)',\n",
       "       'Europe & Central Asia (excluding high income)', 'European Union',\n",
       "       'Faroe Islands', 'Fiji', 'Finland',\n",
       "       'Fragile and conflict affected situations', 'France',\n",
       "       'French Polynesia', 'Gabon', 'Gambia, The', 'Georgia', 'Germany',\n",
       "       'Ghana', 'Gibraltar', 'Greece', 'Greenland', 'Grenada', 'Guam',\n",
       "       'Guatemala', 'Guinea', 'Guinea-Bissau', 'Guyana', 'Haiti',\n",
       "       'Heavily indebted poor countries (HIPC)', 'High income',\n",
       "       'Honduras', 'Hong Kong SAR, China', 'Hungary', 'IBRD only',\n",
       "       'IDA & IBRD total', 'IDA blend', 'IDA only', 'IDA total',\n",
       "       'Iceland', 'India', 'Indonesia', 'Iran, Islamic Rep.', 'Iraq',\n",
       "       'Ireland', 'Isle of Man', 'Israel', 'Italy', 'Jamaica', 'Japan',\n",
       "       'Jordan', 'Kazakhstan', 'Kenya', 'Kiribati',\n",
       "       \"Korea, Dem. People's Rep.\", 'Korea, Rep.', 'Kosovo', 'Kuwait',\n",
       "       'Kyrgyz Republic', 'Lao PDR', 'Late-demographic dividend',\n",
       "       'Latin America & Caribbean',\n",
       "       'Latin America & Caribbean (excluding high income)',\n",
       "       'Latin America & the Caribbean (IDA & IBRD countries)', 'Latvia',\n",
       "       'Least developed countries: UN classification', 'Lebanon',\n",
       "       'Lesotho', 'Liberia', 'Libya', 'Liechtenstein', 'Lithuania',\n",
       "       'Low & middle income', 'Low income', 'Lower middle income',\n",
       "       'Luxembourg', 'Macao SAR, China', 'Madagascar', 'Malawi',\n",
       "       'Malaysia', 'Maldives', 'Mali', 'Malta', 'Marshall Islands',\n",
       "       'Mauritania', 'Mauritius', 'Mexico', 'Micronesia, Fed. Sts.',\n",
       "       'Middle East & North Africa',\n",
       "       'Middle East & North Africa (IDA & IBRD countries)',\n",
       "       'Middle East & North Africa (excluding high income)',\n",
       "       'Middle income', 'Moldova', 'Monaco', 'Mongolia', 'Montenegro',\n",
       "       'Morocco', 'Mozambique', 'Myanmar', 'Namibia', 'Nauru', 'Nepal',\n",
       "       'Netherlands', 'New Caledonia', 'New Zealand', 'Nicaragua',\n",
       "       'Niger', 'Nigeria', 'North America', 'North Macedonia',\n",
       "       'Northern Mariana Islands', 'Norway', 'OECD members', 'Oman',\n",
       "       'Other small states', 'Pacific island small states', 'Pakistan',\n",
       "       'Palau', 'Panama', 'Papua New Guinea', 'Paraguay', 'Peru',\n",
       "       'Philippines', 'Poland', 'Portugal', 'Post-demographic dividend',\n",
       "       'Pre-demographic dividend', 'Puerto Rico', 'Qatar', 'Romania',\n",
       "       'Russian Federation', 'Rwanda', 'Samoa', 'San Marino',\n",
       "       'Sao Tome and Principe', 'Saudi Arabia', 'Senegal', 'Serbia',\n",
       "       'Seychelles', 'Sierra Leone', 'Singapore',\n",
       "       'Sint Maarten (Dutch part)', 'Slovak Republic', 'Slovenia',\n",
       "       'Small states', 'Solomon Islands', 'Somalia', 'South Africa',\n",
       "       'South Asia', 'South Asia (IDA & IBRD)', 'South Sudan', 'Spain',\n",
       "       'Sri Lanka', 'St. Kitts and Nevis', 'St. Lucia',\n",
       "       'St. Martin (French part)', 'St. Vincent and the Grenadines',\n",
       "       'Sub-Saharan Africa', 'Sub-Saharan Africa (IDA & IBRD countries)',\n",
       "       'Sub-Saharan Africa (excluding high income)', 'Sudan', 'Suriname',\n",
       "       'Sweden', 'Switzerland', 'Syrian Arab Republic', 'Tajikistan',\n",
       "       'Tanzania', 'Thailand', 'Timor-Leste', 'Togo', 'Tonga',\n",
       "       'Trinidad and Tobago', 'Tunisia', 'Turkiye', 'Turkmenistan',\n",
       "       'Turks and Caicos Islands', 'Tuvalu', 'Uganda', 'Ukraine',\n",
       "       'United Arab Emirates', 'United Kingdom', 'United States',\n",
       "       'Upper middle income', 'Uruguay', 'Uzbekistan', 'Vanuatu',\n",
       "       'Venezuela, RB', 'Viet Nam', 'Virgin Islands (U.S.)',\n",
       "       'West Bank and Gaza', 'World', 'Yemen, Rep.', 'Zambia', 'Zimbabwe'],\n",
       "      dtype=object)"
      ]
     },
     "execution_count": 18,
     "metadata": {},
     "output_type": "execute_result"
    }
   ],
   "source": [
    "years = np.unique(df[:,0])  # Obtener los años únicos en la columna 'Year'7\n",
    "years"
   ]
  },
  {
   "cell_type": "code",
   "execution_count": 20,
   "metadata": {},
   "outputs": [
    {
     "data": {
      "text/plain": [
       "265"
      ]
     },
     "execution_count": 20,
     "metadata": {},
     "output_type": "execute_result"
    }
   ],
   "source": [
    "cantidad_years = len(years)# Contar cuántos años únicos hay\n",
    "cantidad_years"
   ]
  },
  {
   "cell_type": "code",
   "execution_count": 21,
   "metadata": {},
   "outputs": [
    {
     "data": {
      "text/plain": [
       "array([   54922.,    55578.,    56320., ..., 15797210., 16069056.,\n",
       "       16340822.])"
      ]
     },
     "execution_count": 21,
     "metadata": {},
     "output_type": "execute_result"
    }
   ],
   "source": [
    "# Estadísticas Básicas\n",
    "populations = df[:,3].astype(np.float64)  # Extraer la columna de población y convertir a float\n",
    "populations"
   ]
  },
  {
   "cell_type": "code",
   "execution_count": null,
   "metadata": {},
   "outputs": [],
   "source": [
    "poblacion_media = np.mean(populations)  # Calcular el promedio de población\n",
    "poblacion_min = np.min(populations)  # Encontrar la menor población registrada\n",
    "poblacion_max = np.max(populations)  # Encontrar la mayor población registrada\n",
    "desviacion_std = np.std(populations)  # Calcular la desviación estándar\n",
    "mediana_poblacion = np.median(populations)  # Calcular la mediana\n",
    "suma_poblacion = np.sum(populations)  # Calcular la suma total de la población"
   ]
  },
  {
   "cell_type": "code",
   "execution_count": 23,
   "metadata": {},
   "outputs": [
    {
     "data": {
      "text/plain": [
       "array([ 1009540. ,  6748606.5, 46785187. ])"
      ]
     },
     "execution_count": 23,
     "metadata": {},
     "output_type": "execute_result"
    }
   ],
   "source": [
    "percentiles = np.percentile(populations, [25, 50, 75])  # Calcular los percentiles 25, 50 y 75\n",
    "percentiles"
   ]
  },
  {
   "cell_type": "code",
   "execution_count": 24,
   "metadata": {},
   "outputs": [
    {
     "data": {
      "text/plain": [
       "258"
      ]
     },
     "execution_count": 24,
     "metadata": {},
     "output_type": "execute_result"
    }
   ],
   "source": [
    "# Ejercicio: País más poblado en 2020\n",
    "mask_2021 = df[:,2] == 2022 # Crear una máscara booleana para filtrar el año 2020\n",
    "max_idx = np.argmax(populations[mask_2021])  # Encontrar el índice de la población máxima en 2020\n",
    "max_idx"
   ]
  },
  {
   "cell_type": "code",
   "execution_count": 25,
   "metadata": {},
   "outputs": [
    {
     "data": {
      "text/plain": [
       "array([['Aruba', 'ABW', 1960, 54922.0],\n",
       "       ['Aruba', 'ABW', 1961, 55578.0],\n",
       "       ['Aruba', 'ABW', 1962, 56320.0],\n",
       "       ...,\n",
       "       ['Zimbabwe', 'ZWE', 2021, 15797210.0],\n",
       "       ['Zimbabwe', 'ZWE', 2022, 16069056.0],\n",
       "       ['Zimbabwe', 'ZWE', 2023, 16340822.0]], dtype=object)"
      ]
     },
     "execution_count": 25,
     "metadata": {},
     "output_type": "execute_result"
    }
   ],
   "source": [
    "df"
   ]
  },
  {
   "cell_type": "code",
   "execution_count": 83,
   "metadata": {},
   "outputs": [],
   "source": [
    "# Tasa de crecimiento poblacional\n",
    "years = df[:,2].astype(int)  # Extraer los años como enteros\n",
    "growth = np.diff(populations) / populations[:-1] * 100  # Calcular el porcentaje de crecimiento entre años\n",
    "crecimiento_medio = np.mean(growth)  # Calcular el crecimiento promedio\n",
    "max_crecimiento = np.max(growth)  # Encontrar el año con mayor crecimiento poblacional\n",
    "min_crecimiento = np.min(growth)  # Encontrar el año con menor crecimiento poblacional\n",
    "varianza_crecimiento = np.var(growth)  # Calcular la varianza del crecimiento"
   ]
  },
  {
   "cell_type": "code",
   "execution_count": 84,
   "metadata": {},
   "outputs": [],
   "source": [
    "# Ejercicio: Crecimiento anual de un país específico\n",
    "country = \"India\"\n",
    "mask = df[:,0] == country  # Filtrar el país específico\n",
    "pop_india = df[mask,2].astype(float)  # Extraer la población del país\n",
    "growth_india = np.diff(pop_india) / pop_india[:-1] * 100  # Calcular el crecimiento anual de la población en India"
   ]
  },
  {
   "cell_type": "code",
   "execution_count": 85,
   "metadata": {},
   "outputs": [],
   "source": [
    "# Otras funciones útiles en análisis de datos\n",
    "mediana_crecimiento = np.median(growth)  # Calcular la mediana del crecimiento\n",
    "suma_crecimiento = np.sum(growth)  # Calcular la suma total del crecimiento\n",
    "top_crecimientos = np.sort(growth)[-5:]  # Obtener los 5 años con mayor crecimiento poblacional\n",
    "percentiles_crecimiento = np.percentile(growth, [25, 50, 75])  # Calcular los percentiles del crecimiento"
   ]
  },
  {
   "cell_type": "code",
   "execution_count": 86,
   "metadata": {},
   "outputs": [
    {
     "data": {
      "text/html": [
       "<div>\n",
       "<style scoped>\n",
       "    .dataframe tbody tr th:only-of-type {\n",
       "        vertical-align: middle;\n",
       "    }\n",
       "\n",
       "    .dataframe tbody tr th {\n",
       "        vertical-align: top;\n",
       "    }\n",
       "\n",
       "    .dataframe thead th {\n",
       "        text-align: right;\n",
       "    }\n",
       "</style>\n",
       "<table border=\"1\" class=\"dataframe\">\n",
       "  <thead>\n",
       "    <tr style=\"text-align: right;\">\n",
       "      <th></th>\n",
       "      <th>Country Name</th>\n",
       "      <th>Country Code</th>\n",
       "      <th>Year</th>\n",
       "      <th>Value</th>\n",
       "    </tr>\n",
       "  </thead>\n",
       "  <tbody>\n",
       "    <tr>\n",
       "      <th>0</th>\n",
       "      <td>Aruba</td>\n",
       "      <td>ABW</td>\n",
       "      <td>1960</td>\n",
       "      <td>54922.0</td>\n",
       "    </tr>\n",
       "    <tr>\n",
       "      <th>1</th>\n",
       "      <td>Aruba</td>\n",
       "      <td>ABW</td>\n",
       "      <td>1961</td>\n",
       "      <td>55578.0</td>\n",
       "    </tr>\n",
       "    <tr>\n",
       "      <th>2</th>\n",
       "      <td>Aruba</td>\n",
       "      <td>ABW</td>\n",
       "      <td>1962</td>\n",
       "      <td>56320.0</td>\n",
       "    </tr>\n",
       "    <tr>\n",
       "      <th>3</th>\n",
       "      <td>Aruba</td>\n",
       "      <td>ABW</td>\n",
       "      <td>1963</td>\n",
       "      <td>57002.0</td>\n",
       "    </tr>\n",
       "    <tr>\n",
       "      <th>4</th>\n",
       "      <td>Aruba</td>\n",
       "      <td>ABW</td>\n",
       "      <td>1964</td>\n",
       "      <td>57619.0</td>\n",
       "    </tr>\n",
       "    <tr>\n",
       "      <th>...</th>\n",
       "      <td>...</td>\n",
       "      <td>...</td>\n",
       "      <td>...</td>\n",
       "      <td>...</td>\n",
       "    </tr>\n",
       "    <tr>\n",
       "      <th>16925</th>\n",
       "      <td>Zimbabwe</td>\n",
       "      <td>ZWE</td>\n",
       "      <td>2019</td>\n",
       "      <td>15271368.0</td>\n",
       "    </tr>\n",
       "    <tr>\n",
       "      <th>16926</th>\n",
       "      <td>Zimbabwe</td>\n",
       "      <td>ZWE</td>\n",
       "      <td>2020</td>\n",
       "      <td>15526888.0</td>\n",
       "    </tr>\n",
       "    <tr>\n",
       "      <th>16927</th>\n",
       "      <td>Zimbabwe</td>\n",
       "      <td>ZWE</td>\n",
       "      <td>2021</td>\n",
       "      <td>15797210.0</td>\n",
       "    </tr>\n",
       "    <tr>\n",
       "      <th>16928</th>\n",
       "      <td>Zimbabwe</td>\n",
       "      <td>ZWE</td>\n",
       "      <td>2022</td>\n",
       "      <td>16069056.0</td>\n",
       "    </tr>\n",
       "    <tr>\n",
       "      <th>16929</th>\n",
       "      <td>Zimbabwe</td>\n",
       "      <td>ZWE</td>\n",
       "      <td>2023</td>\n",
       "      <td>16340822.0</td>\n",
       "    </tr>\n",
       "  </tbody>\n",
       "</table>\n",
       "<p>16930 rows × 4 columns</p>\n",
       "</div>"
      ],
      "text/plain": [
       "      Country Name Country Code  Year       Value\n",
       "0            Aruba          ABW  1960     54922.0\n",
       "1            Aruba          ABW  1961     55578.0\n",
       "2            Aruba          ABW  1962     56320.0\n",
       "3            Aruba          ABW  1963     57002.0\n",
       "4            Aruba          ABW  1964     57619.0\n",
       "...            ...          ...   ...         ...\n",
       "16925     Zimbabwe          ZWE  2019  15271368.0\n",
       "16926     Zimbabwe          ZWE  2020  15526888.0\n",
       "16927     Zimbabwe          ZWE  2021  15797210.0\n",
       "16928     Zimbabwe          ZWE  2022  16069056.0\n",
       "16929     Zimbabwe          ZWE  2023  16340822.0\n",
       "\n",
       "[16930 rows x 4 columns]"
      ]
     },
     "execution_count": 86,
     "metadata": {},
     "output_type": "execute_result"
    }
   ],
   "source": [
    "data"
   ]
  },
  {
   "cell_type": "code",
   "execution_count": 87,
   "metadata": {},
   "outputs": [],
   "source": [
    "# Ejercicio: Encontrar el año con la menor población global\n",
    "sum_poblacion_por_anio = data.groupby(\"Year\")[\"Value\"].sum().to_numpy()  # Sumar la población por año\n",
    "años = np.unique(df[:,2])\n",
    "año_menor_poblacion = años[np.argmin(sum_poblacion_por_anio)]  # Encontrar el año con menor población total"
   ]
  },
  {
   "cell_type": "code",
   "execution_count": 88,
   "metadata": {},
   "outputs": [
    {
     "data": {
      "text/plain": [
       "1960"
      ]
     },
     "execution_count": 88,
     "metadata": {},
     "output_type": "execute_result"
    }
   ],
   "source": [
    "año_menor_poblacion"
   ]
  },
  {
   "cell_type": "code",
   "execution_count": 89,
   "metadata": {},
   "outputs": [],
   "source": [
    "# Ejercicio: ¿Cuántos países tienen datos en cada año?\n",
    "paises_por_anio = data.groupby(\"Year\")[\"Country Name\"].nunique().to_numpy()  # Contar cuántos países tienen datos en cada año"
   ]
  },
  {
   "cell_type": "code",
   "execution_count": 90,
   "metadata": {},
   "outputs": [
    {
     "data": {
      "text/plain": [
       "array([264, 264, 264, 264, 264, 264, 264, 264, 264, 264, 264, 264, 264,\n",
       "       264, 264, 264, 264, 264, 264, 264, 264, 264, 264, 264, 264, 264,\n",
       "       264, 264, 264, 264, 265, 265, 265, 265, 265, 265, 265, 265, 265,\n",
       "       265, 265, 265, 265, 265, 265, 265, 265, 265, 265, 265, 265, 265,\n",
       "       265, 265, 265, 265, 265, 265, 265, 265, 265, 265, 265, 265],\n",
       "      dtype=int64)"
      ]
     },
     "execution_count": 90,
     "metadata": {},
     "output_type": "execute_result"
    }
   ],
   "source": [
    "paises_por_anio"
   ]
  },
  {
   "cell_type": "markdown",
   "metadata": {},
   "source": [
    "# Otras funciones Numpy"
   ]
  },
  {
   "cell_type": "markdown",
   "metadata": {},
   "source": [
    "| Función                 | Descripción                                     | Ejemplo de uso |\n",
    "|-------------------------|-----------------------------------------------|---------------|\n",
    "| `np.array()`            | Crea un array de NumPy a partir de una lista. | `np.array([1, 2, 3])` |\n",
    "| `np.arange()`           | Genera un array con valores en un rango.      | `np.arange(0, 10, 2)` → `[0 2 4 6 8]` |\n",
    "| `np.linspace()`         | Genera un array de valores equidistantes.     | `np.linspace(0, 1, 5)` → `[0.   0.25 0.5  0.75 1. ]` |\n",
    "| `np.zeros()`            | Crea un array de ceros.                       | `np.zeros((2,3))` → `[[0. 0. 0.] [0. 0. 0.]]` |\n",
    "| `np.ones()`             | Crea un array de unos.                        | `np.ones((3,2))` → `[[1. 1.] [1. 1.] [1. 1.]]` |\n",
    "| `np.eye()`              | Genera una matriz identidad.                  | `np.eye(3)` → `[[1. 0. 0.] [0. 1. 0.] [0. 0. 1.]]` |\n",
    "| `np.random.rand()`      | Genera números aleatorios uniformes entre 0 y 1. | `np.random.rand(3,3)` |\n",
    "| `np.random.randint()`   | Genera enteros aleatorios en un rango.        | `np.random.randint(1, 10, (2,2))` |\n",
    "| `np.shape`              | Devuelve la forma del array.                   | `arr.shape` |\n",
    "| `np.reshape()`          | Cambia la forma de un array.                   | `arr.reshape(2,5)` |\n",
    "| `np.flatten()`          | Convierte un array multidimensional en 1D.    | `arr.flatten()` |\n",
    "| `np.sum()`              | Suma todos los elementos o por eje.           | `np.sum(arr, axis=0)` |\n",
    "| `np.mean()`             | Calcula la media.                             | `np.mean(arr)` |\n",
    "| `np.median()`           | Calcula la mediana.                           | `np.median(arr)` |\n",
    "| `np.std()`              | Calcula la desviación estándar.               | `np.std(arr)` |\n",
    "| `np.min()` / `np.max()` | Encuentra el mínimo y el máximo.              | `np.min(arr)` / `np.max(arr)` |\n",
    "| `np.argmin()` / `np.argmax()` | Índice del mínimo y máximo.         | `np.argmin(arr)` / `np.argmax(arr)` |\n",
    "| `np.unique()`           | Devuelve valores únicos del array.            | `np.unique(arr)` |\n",
    "| `np.sort()`             | Ordena los elementos del array.               | `np.sort(arr)` |\n",
    "| `np.dot()`              | Producto escalar entre dos matrices o vectores. | `np.dot(A, B)` |\n",
    "| `np.transpose()`        | Transpone una matriz.                         | `A.T` o `np.transpose(A)` |\n",
    "| `np.linalg.inv()`       | Calcula la inversa de una matriz.             | `np.linalg.inv(A)` |\n",
    "| `np.linalg.det()`       | Calcula el determinante de una matriz.        | `np.linalg.det(A)` |\n",
    "| `np.where()`            | Encuentra posiciones donde se cumple una condición. | `np.where(arr > 5)` |\n",
    "| `np.cumsum()`           | Calcula la suma acumulada.                    | `np.cumsum(arr)` |\n",
    "| `np.diff()`             | Calcula las diferencias entre elementos.      | `np.diff(arr)` |\n",
    "| `np.clip()`             | Limita los valores entre un mínimo y un máximo. | `np.clip(arr, 0, 10)` |"
   ]
  }
 ],
 "metadata": {
  "kernelspec": {
   "display_name": "base",
   "language": "python",
   "name": "python3"
  },
  "language_info": {
   "codemirror_mode": {
    "name": "ipython",
    "version": 3
   },
   "file_extension": ".py",
   "mimetype": "text/x-python",
   "name": "python",
   "nbconvert_exporter": "python",
   "pygments_lexer": "ipython3",
   "version": "3.12.4"
  }
 },
 "nbformat": 4,
 "nbformat_minor": 2
}
